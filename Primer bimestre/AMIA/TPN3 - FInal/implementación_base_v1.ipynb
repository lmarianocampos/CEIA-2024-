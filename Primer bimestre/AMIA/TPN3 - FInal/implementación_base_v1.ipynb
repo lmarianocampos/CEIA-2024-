{
 "cells": [
  {
   "cell_type": "markdown",
   "id": "5d824b5a-096a-4dfb-ab3e-79a10ddd53be",
   "metadata": {},
   "source": [
    "**Estructura del Modelo**"
   ]
  },
  {
   "cell_type": "code",
   "execution_count": 63,
   "id": "51c5770c-e870-4e31-aa29-e3b49751043d",
   "metadata": {
    "tags": []
   },
   "outputs": [],
   "source": [
    "import numpy as np\n",
    "from numpy.linalg import det, inv"
   ]
  },
  {
   "cell_type": "code",
   "execution_count": 64,
   "id": "07cde513-8fa8-4eb2-915e-0d9c66f441de",
   "metadata": {
    "tags": []
   },
   "outputs": [],
   "source": [
    "class ClassEncoder:\n",
    "  def fit(self, y):\n",
    "    self.names = np.unique(y)\n",
    "    self.name_to_class = {name:idx for idx, name in enumerate(self.names)}\n",
    "    self.fmt = y.dtype\n",
    "    # Q1: por que no hace falta definir un class_to_name para el mapeo inverso?\n",
    "\n",
    "  def _map_reshape(self, f, arr):\n",
    "    return np.array([f(elem) for elem in arr.flatten()]).reshape(arr.shape)\n",
    "    # Q2: por que hace falta un reshape?\n",
    "\n",
    "  def transform(self, y):\n",
    "    return self._map_reshape(lambda name: self.name_to_class[name], y)\n",
    "\n",
    "  def fit_transform(self, y):\n",
    "    self.fit(y)\n",
    "    return self.transform(y)\n",
    "\n",
    "  def detransform(self, y_hat):\n",
    "    return self._map_reshape(lambda idx: self.names[idx], y_hat)"
   ]
  },
  {
   "cell_type": "code",
   "execution_count": 65,
   "id": "fbd5cdef-422f-48ad-927c-d2db869f7823",
   "metadata": {
    "tags": []
   },
   "outputs": [],
   "source": [
    "    class BaseBayesianClassifier:\n",
    "      def __init__(self):\n",
    "        self.encoder = ClassEncoder()\n",
    "\n",
    "      def _estimate_a_priori(self, y):\n",
    "        a_priori = np.bincount(y.flatten().astype(int)) / y.size\n",
    "        # Q3: para que sirve bincount?\n",
    "        return np.log(a_priori)\n",
    "\n",
    "      def _fit_params(self, X, y):\n",
    "        # estimate all needed parameters for given model\n",
    "        raise NotImplementedError()\n",
    "\n",
    "      def _predict_log_conditional(self, x, class_idx):\n",
    "        # predict the log(P(x|G=class_idx)), the log of the conditional probability of x given the class\n",
    "        # this should depend on the model used\n",
    "        raise NotImplementedError()\n",
    "\n",
    "      def fit(self, X, y, a_priori=None):\n",
    "        # first encode the classes\n",
    "        y = self.encoder.fit_transform(y)\n",
    "\n",
    "        # if it's needed, estimate a priori probabilities\n",
    "        self.log_a_priori = self._estimate_a_priori(y) if a_priori is None else np.log(a_priori)\n",
    "\n",
    "        # check that a_priori has the correct number of classes\n",
    "        assert len(self.log_a_priori) == len(self.encoder.names), \"A priori probabilities do not match number of classes\"\n",
    "\n",
    "        # now that everything else is in place, estimate all needed parameters for given model\n",
    "        self._fit_params(X, y)\n",
    "        # Q4: por que el _fit_params va al final? no se puede mover a, por ejemplo, antes de la priori?\n",
    "\n",
    "      def predict(self, X):\n",
    "        # this is actually an individual prediction encased in a for-loop\n",
    "        m_obs = X.shape[1]\n",
    "        y_hat = np.empty(m_obs, dtype=self.encoder.fmt)\n",
    "\n",
    "        for i in range(m_obs):\n",
    "          encoded_y_hat_i = self._predict_one(X[:,i].reshape(-1,1))\n",
    "          y_hat[i] = self.encoder.names[encoded_y_hat_i]\n",
    "\n",
    "        # return prediction as a row vector (matching y)\n",
    "        return y_hat.reshape(1,-1)\n",
    "\n",
    "      def _predict_one(self, x):\n",
    "        # calculate all log posteriori probabilities (actually, +C)\n",
    "        log_posteriori = [ log_a_priori_i + self._predict_log_conditional(x, idx) for idx, log_a_priori_i\n",
    "                      in enumerate(self.log_a_priori) ]\n",
    "\n",
    "        # return the class that has maximum a posteriori probability\n",
    "        return np.argmax(log_posteriori)"
   ]
  },
  {
   "cell_type": "code",
   "execution_count": 66,
   "id": "cce58098-4f9b-45bc-859c-b49cc66aa7da",
   "metadata": {
    "tags": []
   },
   "outputs": [],
   "source": [
    "class QDA(BaseBayesianClassifier):\n",
    "\n",
    "  def _fit_params(self, X, y):\n",
    "    # estimate each covariance matrix\n",
    "    self.inv_covs = [inv(np.cov(X[:,y.flatten()==idx], bias=True))\n",
    "                      for idx in range(len(self.log_a_priori))]\n",
    "    # Q5: por que hace falta el flatten y no se puede directamente X[:,y==idx]?\n",
    "    # Q6: por que se usa bias=True en vez del default bias=False?\n",
    "    self.means = [X[:,y.flatten()==idx].mean(axis=1, keepdims=True)\n",
    "                  for idx in range(len(self.log_a_priori))]\n",
    "    # Q7: que hace axis=1? por que no axis=0?\n",
    "\n",
    "  def _predict_log_conditional(self, x, class_idx):\n",
    "    # predict the log(P(x|G=class_idx)), the log of the conditional probability of x given the class\n",
    "    # this should depend on the model used\n",
    "    inv_cov = self.inv_covs[class_idx]\n",
    "    unbiased_x =  x - self.means[class_idx]\n",
    "    return 0.5*np.log(det(inv_cov)) -0.5 * unbiased_x.T @ inv_cov @ unbiased_x"
   ]
  },
  {
   "cell_type": "code",
   "execution_count": 67,
   "id": "bde38f9d-55e8-4bc6-b34b-31d284bca8f6",
   "metadata": {
    "tags": []
   },
   "outputs": [],
   "source": [
    "class TensorizedQDA(QDA):\n",
    "\n",
    "    def _fit_params(self, X, y):\n",
    "        # ask plain QDA to fit params\n",
    "        super()._fit_params(X,y)\n",
    "\n",
    "        # stack onto new dimension\n",
    "        self.tensor_inv_cov = np.stack(self.inv_covs)\n",
    "        self.tensor_means = np.stack(self.means)\n",
    "\n",
    "    def _predict_log_conditionals(self,x):\n",
    "        unbiased_x = x - self.tensor_means\n",
    "        inner_prod = unbiased_x.transpose(0,2,1) @ self.tensor_inv_cov @ unbiased_x\n",
    "\n",
    "        return 0.5*np.log(det(self.tensor_inv_cov)) - 0.5 * inner_prod.flatten()\n",
    "\n",
    "    def _predict_one(self, x):\n",
    "        # return the class that has maximum a posteriori probability\n",
    "        return np.argmax(self.log_a_priori + self._predict_log_conditionals(x))"
   ]
  },
  {
   "cell_type": "markdown",
   "id": "f22589da-97fd-4fa0-9866-554eb4668844",
   "metadata": {},
   "source": [
    "**Código de prueba**\n"
   ]
  },
  {
   "cell_type": "code",
   "execution_count": 68,
   "id": "665c5d67-89e3-4ef3-bd90-17df249b7843",
   "metadata": {
    "tags": []
   },
   "outputs": [],
   "source": [
    "# hiperparámetros\n",
    "rng_seed = 6543"
   ]
  },
  {
   "cell_type": "code",
   "execution_count": 69,
   "id": "0bb12dcc-d393-4703-bf3a-f633f10e25c8",
   "metadata": {
    "tags": []
   },
   "outputs": [
    {
     "name": "stdout",
     "output_type": "stream",
     "text": [
      "X: (150, 4), Y:(150, 1)\n"
     ]
    }
   ],
   "source": [
    "from sklearn.datasets import load_iris, fetch_openml\n",
    "\n",
    "def get_iris_dataset():\n",
    "  data = load_iris()\n",
    "  X_full = data.data\n",
    "  y_full = np.array([data.target_names[y] for y in data.target.reshape(-1,1)])\n",
    "  return X_full, y_full\n",
    "\n",
    "\n",
    "def get_penguins():\n",
    "    # get data\n",
    "    df, tgt = fetch_openml(name=\"penguins\", return_X_y=True, as_frame=True, parser='auto')\n",
    "\n",
    "    # drop non-numeric columns\n",
    "    df.drop(columns=[\"island\",\"sex\"], inplace=True)\n",
    "\n",
    "    # drop rows with missing values\n",
    "    mask = df.isna().sum(axis=1) == 0\n",
    "    df = df[mask]\n",
    "    tgt = tgt[mask]\n",
    "\n",
    "    return df.values, tgt.to_numpy().reshape(-1,1)\n",
    "\n",
    "# showing for iris\n",
    "X_full, y_full = get_iris_dataset()\n",
    "\n",
    "print(f\"X: {X_full.shape}, Y:{y_full.shape}\")"
   ]
  },
  {
   "cell_type": "code",
   "execution_count": 70,
   "id": "66528732-2803-43c5-a80b-ed4cb9b7c051",
   "metadata": {
    "tags": []
   },
   "outputs": [
    {
     "data": {
      "text/plain": [
       "array([[5.1, 3.5, 1.4, 0.2],\n",
       "       [4.9, 3. , 1.4, 0.2],\n",
       "       [4.7, 3.2, 1.3, 0.2],\n",
       "       [4.6, 3.1, 1.5, 0.2],\n",
       "       [5. , 3.6, 1.4, 0.2]])"
      ]
     },
     "execution_count": 70,
     "metadata": {},
     "output_type": "execute_result"
    }
   ],
   "source": [
    "# peek data matrix\n",
    "X_full[:5]"
   ]
  },
  {
   "cell_type": "code",
   "execution_count": 71,
   "id": "d905ec62-8dd6-4e58-a1d5-f5a9d3d70848",
   "metadata": {
    "tags": []
   },
   "outputs": [
    {
     "data": {
      "text/plain": [
       "array([['setosa'],\n",
       "       ['setosa'],\n",
       "       ['setosa'],\n",
       "       ['setosa'],\n",
       "       ['setosa']], dtype='<U10')"
      ]
     },
     "execution_count": 71,
     "metadata": {},
     "output_type": "execute_result"
    }
   ],
   "source": [
    "# peek target vector\n",
    "y_full[:5]"
   ]
  },
  {
   "cell_type": "code",
   "execution_count": 72,
   "id": "a70b4326-e543-4261-8195-5900a073b7a2",
   "metadata": {
    "tags": []
   },
   "outputs": [
    {
     "name": "stdout",
     "output_type": "stream",
     "text": [
      "(4, 90) (1, 90) (4, 60) (1, 60)\n",
      "Train X: (4, 90), Train Y: (1, 90)\n",
      "Test X: (4, 60), Test Y: (1, 60)\n"
     ]
    }
   ],
   "source": [
    "# preparing data, train - test validation\n",
    "# 70-30 split\n",
    "from sklearn.model_selection import train_test_split\n",
    "\n",
    "def split_transpose(X, y, test_sz, random_state):\n",
    "    # split\n",
    "    X_train, X_test, y_train, y_test = train_test_split(X, y, test_size=0.4, random_state=random_state)\n",
    "\n",
    "    # transpose so observations are column vectors\n",
    "    return X_train.T, y_train.T, X_test.T, y_test.T\n",
    "\n",
    "def accuracy(y_true, y_pred):\n",
    "  return (y_true == y_pred).mean()\n",
    "\n",
    "\n",
    "\n",
    "train_x, train_y, test_x, test_y = split_transpose(X_full, y_full, 0.4, rng_seed)\n",
    "\n",
    "print(train_x.shape, train_y.shape, test_x.shape, test_y.shape)\n",
    "print(f\"Train X: {train_x.shape}, Train Y: {train_y.shape}\")\n",
    "print(f\"Test X: {test_x.shape}, Test Y: {test_y.shape}\")"
   ]
  },
  {
   "cell_type": "code",
   "execution_count": 73,
   "id": "e7a83a67-1c33-4352-a486-45da051f05f9",
   "metadata": {
    "tags": []
   },
   "outputs": [
    {
     "name": "stdout",
     "output_type": "stream",
     "text": [
      "Priors por defecto - Error de entrenamiento: 0.0111, Error de prueba: 0.0167\n",
      "Priors Uniformes - Error de entrenamiento: 0.0222, Error de prueba: 0.0167\n",
      "Priors Asimétricos 1 (Clase 1 con 0.9) - Error de entrenamiento: 0.0222, Error de prueba: 0.0167\n",
      "Priors Asimétricos 2 (Clase 2 con 0.9) - Error de entrenamiento: 0.0333, Error de prueba: 0.0000\n",
      "Priors Asimétricos 3 (Clase 3 con 0.9) - Error de entrenamiento: 0.0333, Error de prueba: 0.0500\n"
     ]
    }
   ],
   "source": [
    "# Inicializar el modelo QDA\n",
    "qda = QDA()\n",
    "\n",
    "# Entrenamiento con priors por defecto (estimados a partir de los datos)\n",
    "qda.fit(train_x, train_y)\n",
    "train_acc_default = accuracy(train_y, qda.predict(train_x))\n",
    "test_acc_default = accuracy(test_y, qda.predict(test_x))\n",
    "print(f\"Priors por defecto - Error de entrenamiento: {1 - train_acc_default:.4f}, Error de prueba: {1 - test_acc_default:.4f}\")\n",
    "\n",
    "# Definir priors uniformes\n",
    "priors_uniform = np.array([1/3, 1/3, 1/3])\n",
    "\n",
    "# Entrenamiento con priors uniformes\n",
    "qda_uniform = QDA()\n",
    "qda_uniform.fit(train_x, train_y, a_priori=priors_uniform)\n",
    "train_acc_uniform = accuracy(train_y, qda_uniform.predict(train_x))\n",
    "test_acc_uniform = accuracy(test_y, qda_uniform.predict(test_x))\n",
    "print(f\"Priors Uniformes - Error de entrenamiento: {1 - train_acc_uniform:.4f}, Error de prueba: {1 - test_acc_uniform:.4f}\")\n",
    "\n",
    "# Definir priors asimétricos\n",
    "# Asignar 0.9 a cada clase en una iteración\n",
    "priors_asimetric = [\n",
    "    np.array([0.9, 0.05, 0.05]),\n",
    "    np.array([0.05, 0.9, 0.05]),\n",
    "    np.array([0.05, 0.05, 0.9])\n",
    "]\n",
    "\n",
    "# Entrenamiento con priors asimétricos\n",
    "for idx, prior in enumerate(priors_asimetric):\n",
    "    qda_asym = QDA()\n",
    "    qda_asym.fit(train_x, train_y, a_priori=prior)\n",
    "    train_acc_asym = accuracy(train_y, qda_asym.predict(train_x))\n",
    "    test_acc_asym = accuracy(test_y, qda_asym.predict(test_x))\n",
    "    print(f\"Priors Asimétricos {idx+1} (Clase {idx+1} con 0.9) - Error de entrenamiento: {1 - train_acc_asym:.4f}, Error de prueba: {1 - test_acc_asym:.4f}\")\n"
   ]
  },
  {
   "cell_type": "code",
   "execution_count": 74,
   "id": "bc8aaff3-f2e8-4d03-82dd-afb682146939",
   "metadata": {
    "tags": []
   },
   "outputs": [
    {
     "data": {
      "image/png": "[encoded data removed]",
      "text/plain": [
       "<Figure size 1000x600 with 1 Axes>"
      ]
     },
     "metadata": {},
     "output_type": "display_data"
    }
   ],
   "source": [
    "import matplotlib.pyplot as plt\n",
    "\n",
    "# Datos de errores\n",
    "configuraciones = [\n",
    "    'Priors por defecto',\n",
    "    'Priors Uniformes',\n",
    "    'Priors Asimétricos 1',\n",
    "    'Priors Asimétricos 2',\n",
    "    'Priors Asimétricos 3'\n",
    "]\n",
    "\n",
    "error_entrenamiento = [0.0111, 0.0222, 0.0222, 0.0333, 0.0333]\n",
    "error_prueba = [0.0167, 0.0167, 0.0167, 0.0000, 0.0500]\n",
    "\n",
    "x = range(len(configuraciones))\n",
    "\n",
    "plt.figure(figsize=(10,6))\n",
    "plt.bar(x, error_entrenamiento, width=0.4, label='Error de Entrenamiento', align='center')\n",
    "plt.bar(x, error_prueba, width=0.4, label='Error de Prueba', align='edge')\n",
    "plt.xticks(x, configuraciones, rotation=45, ha='right')\n",
    "plt.ylabel('Error')\n",
    "plt.title('Comparación de Errores para Diferentes Configuraciones de Priors en QDA')\n",
    "plt.legend()\n",
    "plt.tight_layout()\n",
    "plt.show()\n"
   ]
  },
  {
   "cell_type": "markdown",
   "id": "c18e5066-74ab-482e-9891-6f34c440be5f",
   "metadata": {},
   "source": [
    "# Punto 2"
   ]
  },
  {
   "cell_type": "markdown",
   "id": "97472443-f5b2-42f6-b78c-0f74d2361252",
   "metadata": {
    "tags": []
   },
   "source": [
    "## Data set Pinguins"
   ]
  },
  {
   "cell_type": "code",
   "execution_count": 75,
   "id": "8c471387-ba15-4929-891d-eb252e4d6caa",
   "metadata": {
    "tags": []
   },
   "outputs": [
    {
     "name": "stdout",
     "output_type": "stream",
     "text": [
      "Penguins X: (342, 4), Penguins Y: (342, 1)\n",
      "Train X: (4, 205), Train Y: (1, 205)\n",
      "Test X: (4, 137), Test Y: (1, 137)\n"
     ]
    }
   ],
   "source": [
    "# Cargar los datos\n",
    "X_full_p, y_full_p = get_penguins()\n",
    "print(f\"Penguins X: {X_full_p.shape}, Penguins Y: {y_full_p.shape}\")\n",
    "\n",
    "# Dividir los datos en entrenamiento y prueba (70-30)\n",
    "rng_seed = 6543\n",
    "train_x_p, train_y_p, test_x_p, test_y_p = split_transpose(X_full_p, y_full_p, test_sz=0.3, random_state=rng_seed)\n",
    "print(f\"Train X: {train_x_p.shape}, Train Y: {train_y_p.shape}\")\n",
    "print(f\"Test X: {test_x_p.shape}, Test Y: {test_y_p.shape}\")\n"
   ]
  },
  {
   "cell_type": "markdown",
   "id": "26c98c9e-49d6-447c-8d9a-1fda025ca888",
   "metadata": {},
   "source": [
    "###  Entrenamiento con priors por defecto (estimados a partir de los datos)"
   ]
  },
  {
   "cell_type": "code",
   "execution_count": 76,
   "id": "778a404f-75c7-4c1e-ae8f-1742ed780df6",
   "metadata": {
    "tags": []
   },
   "outputs": [
    {
     "name": "stdout",
     "output_type": "stream",
     "text": [
      "Priors por defecto - Error de entrenamiento: 0.0146, Error de prueba: 0.0146\n"
     ]
    }
   ],
   "source": [
    "# Inicializar el modelo QDA\n",
    "qda_p = QDA()\n",
    "\n",
    "# Entrenamiento con priors por defecto (estimados a partir de los datos)\n",
    "qda_p.fit(train_x_p, train_y_p)\n",
    "train_acc_p_default = accuracy(train_y_p, qda_p.predict(train_x_p))\n",
    "test_acc_p_default = accuracy(test_y_p, qda_p.predict(test_x_p))\n",
    "print(f\"Priors por defecto - Error de entrenamiento: {1 - train_acc_p_default:.4f}, Error de prueba: {1 - test_acc_p_default:.4f}\")"
   ]
  },
  {
   "cell_type": "markdown",
   "id": "7bc80cf5-8242-4a8b-afd2-3030445b3d3f",
   "metadata": {},
   "source": [
    "### Definir priors uniformes en función de la cantidad de clases que contiene el dataset\n"
   ]
  },
  {
   "cell_type": "code",
   "execution_count": 77,
   "id": "44c9db5a-8006-4e89-b24c-d5bb364f9cd5",
   "metadata": {
    "tags": []
   },
   "outputs": [
    {
     "name": "stdout",
     "output_type": "stream",
     "text": [
      "\n",
      "Distribución a priori Uniforme: [0.33333333 0.33333333 0.33333333]\n"
     ]
    }
   ],
   "source": [
    "# Definir priors uniformes\n",
    "unique_classes_p, counts_p = np.unique(y_full_p, return_counts=True)\n",
    "num_classes_p = len(unique_classes_p)\n",
    "priors_uniform_p = np.array([1/num_classes_p] * num_classes_p)\n",
    "print(\"\\nDistribución a priori Uniforme:\", priors_uniform_p)"
   ]
  },
  {
   "cell_type": "markdown",
   "id": "c8bd66b7-45bd-4e1d-948c-659c970c99ad",
   "metadata": {},
   "source": [
    "### Entrenamiento con priors uniformes"
   ]
  },
  {
   "cell_type": "code",
   "execution_count": 78,
   "id": "019d2277-b132-4092-ae00-e76f04a9122a",
   "metadata": {
    "tags": []
   },
   "outputs": [
    {
     "name": "stdout",
     "output_type": "stream",
     "text": [
      "Priors Uniformes - Error de entrenamiento: 0.0098, Error de prueba: 0.0073\n"
     ]
    }
   ],
   "source": [
    "qda_p_uniform = QDA()\n",
    "qda_p_uniform.fit(train_x_p, train_y_p, a_priori=priors_uniform_p)\n",
    "train_acc_p_uniform = accuracy(train_y_p, qda_p_uniform.predict(train_x_p))\n",
    "test_acc_p_uniform = accuracy(test_y_p, qda_p_uniform.predict(test_x_p))\n",
    "print(f\"Priors Uniformes - Error de entrenamiento: {1 - train_acc_p_uniform:.4f}, Error de prueba: {1 - test_acc_p_uniform:.4f}\")"
   ]
  },
  {
   "cell_type": "markdown",
   "id": "cd176d80-04cc-4044-ad81-36af17bfe2ad",
   "metadata": {},
   "source": [
    "### Definir priors asimétricos (una clase con 0.9 y las demás con 0.05)"
   ]
  },
  {
   "cell_type": "code",
   "execution_count": 79,
   "id": "1af22bb2-5e3e-4d16-8d56-5d2d53062ce2",
   "metadata": {
    "tags": []
   },
   "outputs": [
    {
     "name": "stdout",
     "output_type": "stream",
     "text": [
      "[array([0.9 , 0.05, 0.05]), array([0.05, 0.9 , 0.05]), array([0.05, 0.05, 0.9 ])]\n"
     ]
    }
   ],
   "source": [
    "priors_asimetric_p = []\n",
    "for i in range(num_classes_p):\n",
    "    prior = np.array([0.05] * num_classes_p)\n",
    "    prior[i] = 0.9\n",
    "    prior /= prior.sum()  # Asegurar que sumen 1\n",
    "    priors_asimetric_p.append(prior)\n",
    "print (priors_asimetric_p)"
   ]
  },
  {
   "cell_type": "markdown",
   "id": "0389df15-979d-469a-86f9-1194728b5117",
   "metadata": {},
   "source": [
    "### Entrenamiento con priors asimétricos"
   ]
  },
  {
   "cell_type": "code",
   "execution_count": 80,
   "id": "1abbf91c-89b7-4d87-8532-e06feb8ec8af",
   "metadata": {
    "tags": []
   },
   "outputs": [
    {
     "name": "stdout",
     "output_type": "stream",
     "text": [
      "Priors Asimétricos 1 (Clase Adelie con 0.9) - Error de entrenamiento: 0.0195, Error de prueba: 0.0219\n",
      "Priors Asimétricos 2 (Clase Chinstrap con 0.9) - Error de entrenamiento: 0.0098, Error de prueba: 0.0219\n",
      "Priors Asimétricos 3 (Clase Gentoo con 0.9) - Error de entrenamiento: 0.0098, Error de prueba: 0.0073\n"
     ]
    }
   ],
   "source": [
    "for idx, prior in enumerate(priors_asimetric_p):\n",
    "    class_name = unique_classes_p[idx][0] if isinstance(unique_classes_p[idx], np.ndarray) else unique_classes_p[idx]\n",
    "    qda_p_asym = QDA()\n",
    "    qda_p_asym.fit(train_x_p, train_y_p, a_priori=prior)\n",
    "    train_acc_asym = accuracy(train_y_p, qda_p_asym.predict(train_x_p))\n",
    "    test_acc_asym = accuracy(test_y_p, qda_p_asym.predict(test_x_p))\n",
    "    print(f\"Priors Asimétricos {idx+1} (Clase {class_name} con 0.9) - Error de entrenamiento: {1 - train_acc_asym:.4f}, Error de prueba: {1 - test_acc_asym:.4f}\")"
   ]
  },
  {
   "cell_type": "markdown",
   "id": "7c188721-8e7d-4a9d-ade5-953e4cd97ce4",
   "metadata": {},
   "source": [
    "# Punto 3"
   ]
  },
  {
   "cell_type": "markdown",
   "id": "a2b1db0d-3dab-43ed-9580-0d7fd6bc566b",
   "metadata": {},
   "source": [
    "### Implementación de la Clase LDA"
   ]
  },
  {
   "cell_type": "code",
   "execution_count": 81,
   "id": "9bb107f1-b818-4adb-908b-b1e2eda1bdbb",
   "metadata": {
    "tags": []
   },
   "outputs": [],
   "source": [
    "import numpy as np\n",
    "from numpy.linalg import inv, det\n",
    "\n",
    "class LDA(BaseBayesianClassifier):\n",
    "    def _fit_params(self, X, y):\n",
    "        num_classes = len(self.log_a_priori)\n",
    "        self.means = [X[:, y.flatten() == idx].mean(axis=1, keepdims=True) for idx in range(num_classes)]\n",
    "        \n",
    "        # Calcular la matriz de covarianza compartida\n",
    "        # Inicializar con ceros\n",
    "        covariance_shared = np.zeros((X.shape[0], X.shape[0]))\n",
    "        for idx in range(num_classes):\n",
    "            X_k = X[:, y.flatten() == idx]\n",
    "            mean_k = self.means[idx]\n",
    "            # Calcular la matriz de covarianza para la clase k\n",
    "            # bias=True para calcular la covarianza con N (no N-1)\n",
    "            covariance_k = np.cov(X_k, bias=True)\n",
    "            covariance_shared += covariance_k * X_k.shape[1]\n",
    "        \n",
    "        # Dividir por el total de muestras para obtener la covarianza compartida\n",
    "        self.covariance_shared = covariance_shared / X.shape[1]\n",
    "        self.inv_covariance_shared = inv(self.covariance_shared)\n",
    "        self.det_covariance_shared = det(self.covariance_shared)\n",
    "    \n",
    "    def _predict_log_conditional(self, x, class_idx):\n",
    "        # Calcular el discriminante lineal para la clase k\n",
    "        mean_k = self.means[class_idx]\n",
    "        inv_cov = self.inv_covariance_shared\n",
    "        \n",
    "        # Discriminante lineal: x^T Σ^{-1} μ_k - 0.5 μ_k^T Σ^{-1} μ_k\n",
    "        discriminant = x.T @ inv_cov @ mean_k - 0.5 * mean_k.T @ inv_cov @ mean_k\n",
    "        return discriminant\n"
   ]
  },
  {
   "cell_type": "code",
   "execution_count": 82,
   "id": "b884e361-3236-4d88-a880-dfccc1613d2c",
   "metadata": {
    "tags": []
   },
   "outputs": [
    {
     "name": "stdout",
     "output_type": "stream",
     "text": [
      "LDA Priors por defecto - Error de entrenamiento: 0.0222, Error de prueba: 0.0167\n"
     ]
    }
   ],
   "source": [
    "# Inicializar el modelo LDA\n",
    "lda = LDA()\n",
    "\n",
    "# Entrenamiento con priors por defecto (estimados a partir de los datos)\n",
    "lda.fit(train_x, train_y)\n",
    "train_acc_default = accuracy(train_y, lda.predict(train_x))\n",
    "test_acc_default = accuracy(test_y, lda.predict(test_x))\n",
    "print(f\"LDA Priors por defecto - Error de entrenamiento: {1 - train_acc_default:.4f}, Error de prueba: {1 - test_acc_default:.4f}\")"
   ]
  },
  {
   "cell_type": "markdown",
   "id": "dad4521d-573a-449c-97db-413dfec1a01c",
   "metadata": {},
   "source": [
    "# Parte 3"
   ]
  },
  {
   "cell_type": "markdown",
   "id": "742404bb-6388-4a3a-bea3-58cf01fde693",
   "metadata": {},
   "source": [
    "#### Se define la clase LDA "
   ]
  },
  {
   "cell_type": "code",
   "execution_count": 83,
   "id": "72ce4613-0d94-4ade-9c9a-7f552aa37431",
   "metadata": {
    "tags": []
   },
   "outputs": [],
   "source": [
    "class LDA(BaseBayesianClassifier):\n",
    "    def _fit_params(self, X, y):\n",
    "        # Calcular la media de cada clase\n",
    "        self.means = [X[:, y.flatten() == idx].mean(axis=1, keepdims=True) for idx in range(len(self.log_a_priori))]\n",
    "\n",
    "        # Calcular la matriz de covarianza compartida\n",
    "        # En LDA, se asume que todas las clases comparten la misma matriz de covarianza\n",
    "        # Calculamos una matriz de covarianza promedio ponderada por el número de instancias de cada clase\n",
    "        self.cov_shared = np.zeros((X.shape[0], X.shape[0]))\n",
    "        total_instances = 0\n",
    "        for idx in range(len(self.log_a_priori)):\n",
    "            X_k = X[:, y.flatten() == idx]\n",
    "            total_instances += X_k.shape[1]\n",
    "            self.cov_shared += (X_k - self.means[idx]) @ (X_k - self.means[idx]).T\n",
    "\n",
    "        self.cov_shared /= total_instances\n",
    "\n",
    "        # Invertir la matriz de covarianza compartida\n",
    "        self.inv_cov_shared = inv(self.cov_shared)\n",
    "\n",
    "    def _predict_log_conditional(self, x, class_idx):\n",
    "        # En LDA, P(x|G=k) es una distribución normal con media mu_k y covarianza compartida\n",
    "        # El logaritmo de P(x|G=k) es:\n",
    "        # log P(x|G=k) = -0.5 * (x - mu_k)^T * inv_cov_shared * (x - mu_k) - 0.5 * log(det(cov_shared)) - (d/2)*log(2*pi)\n",
    "        # Para propósitos de comparación, podemos omitir términos que son constantes para todas las clases\n",
    "        # Por lo tanto, podemos usar:\n",
    "        # log P(x|G=k) = -0.5 * (x - mu_k)^T * inv_cov_shared * (x - mu_k) + c\n",
    "        # Donde 'c' es una constante que no afecta la argmax\n",
    "\n",
    "        diff = x - self.means[class_idx]\n",
    "        return -0.5 * (diff.T @ self.inv_cov_shared @ diff)[0,0] + 0  # 'c' omitido"
   ]
  },
  {
   "cell_type": "markdown",
   "id": "0af11a14-6255-4392-904e-fe5b7069a239",
   "metadata": {},
   "source": [
    "### Se utiliza el data set de Iris"
   ]
  },
  {
   "cell_type": "code",
   "execution_count": 84,
   "id": "d203c045-dcf5-4bb5-a65a-8630f38e8a0e",
   "metadata": {
    "tags": []
   },
   "outputs": [
    {
     "name": "stdout",
     "output_type": "stream",
     "text": [
      "X: (150, 4), Y: (150, 1)\n",
      "Train X: (4, 90), Train Y: (1, 90)\n",
      "Test X: (4, 60), Test Y: (1, 60)\n"
     ]
    }
   ],
   "source": [
    "print(f\"X: {X_full.shape}, Y: {y_full.shape}\")\n",
    "print(f\"Train X: {train_x.shape}, Train Y: {train_y.shape}\")\n",
    "print(f\"Test X: {test_x.shape}, Test Y: {test_y.shape}\")\n"
   ]
  },
  {
   "cell_type": "markdown",
   "id": "cf04cca3-276d-4788-851d-cb60261b29e9",
   "metadata": {},
   "source": [
    "### Inicializar el modelo LDA"
   ]
  },
  {
   "cell_type": "code",
   "execution_count": 85,
   "id": "a73f29f1-9d47-464e-8461-dd98e2b66a14",
   "metadata": {
    "tags": []
   },
   "outputs": [],
   "source": [
    "lda = LDA()\n",
    "\n"
   ]
  },
  {
   "cell_type": "markdown",
   "id": "b5134562-c3d6-47a0-8eb4-838f3f2590fd",
   "metadata": {
    "tags": []
   },
   "source": [
    "### Entrenamiento con priors por defecto (estimados a partir de los datos)"
   ]
  },
  {
   "cell_type": "code",
   "execution_count": 86,
   "id": "e57e838f-c7db-4f56-a0b5-4007f07e47da",
   "metadata": {
    "tags": []
   },
   "outputs": [
    {
     "name": "stdout",
     "output_type": "stream",
     "text": [
      "Priors por defecto - Error de entrenamiento: 0.0222, Error de prueba: 0.0167\n"
     ]
    }
   ],
   "source": [
    "\n",
    "lda.fit(train_x, train_y)\n",
    "train_acc_default = accuracy(train_y, lda.predict(train_x))\n",
    "test_acc_default = accuracy(test_y, lda.predict(test_x))\n",
    "print(f\"Priors por defecto - Error de entrenamiento: {1 - train_acc_default:.4f}, Error de prueba: {1 - test_acc_default:.4f}\")"
   ]
  },
  {
   "cell_type": "markdown",
   "id": "9a312ff6-c12f-4858-ae6a-d98a508fe321",
   "metadata": {},
   "source": [
    "### Definir priors uniformes"
   ]
  },
  {
   "cell_type": "code",
   "execution_count": 87,
   "id": "abd6a2af-65b1-4807-b926-7575497d7de8",
   "metadata": {
    "tags": []
   },
   "outputs": [
    {
     "name": "stdout",
     "output_type": "stream",
     "text": [
      "\n",
      "Distribución a priori Uniforme: [0.33333333 0.33333333 0.33333333]\n"
     ]
    }
   ],
   "source": [
    "unique_classes, counts = np.unique(y_full, return_counts=True)\n",
    "num_classes = len(unique_classes)\n",
    "priors_uniform = np.array([1/num_classes] * num_classes)\n",
    "print(\"\\nDistribución a priori Uniforme:\", priors_uniform)"
   ]
  },
  {
   "cell_type": "markdown",
   "id": "cb2b53d2-e8af-4ba2-a6d9-5db45be8474f",
   "metadata": {},
   "source": [
    "### Entrenamiento con priors uniformes"
   ]
  },
  {
   "cell_type": "code",
   "execution_count": 88,
   "id": "be23cd47-b4da-4f42-a474-b9240bff3e91",
   "metadata": {
    "tags": []
   },
   "outputs": [
    {
     "name": "stdout",
     "output_type": "stream",
     "text": [
      "Priors Uniformes - Error de entrenamiento: 0.0222, Error de prueba: 0.0167\n"
     ]
    }
   ],
   "source": [
    "\n",
    "lda_uniform = LDA()\n",
    "lda_uniform.fit(train_x, train_y, a_priori=priors_uniform)\n",
    "train_acc_uniform = accuracy(train_y, lda_uniform.predict(train_x))\n",
    "test_acc_uniform = accuracy(test_y, lda_uniform.predict(test_x))\n",
    "print(f\"Priors Uniformes - Error de entrenamiento: {1 - train_acc_uniform:.4f}, Error de prueba: {1 - test_acc_uniform:.4f}\")"
   ]
  },
  {
   "cell_type": "markdown",
   "id": "c1f5652a-1718-4c4f-8686-f27ad4d49817",
   "metadata": {
    "tags": []
   },
   "source": [
    "# Data Set Pinguins"
   ]
  },
  {
   "cell_type": "code",
   "execution_count": 89,
   "id": "5bdf7cff-98b7-43fd-9539-5c43c6c1db3d",
   "metadata": {
    "tags": []
   },
   "outputs": [
    {
     "name": "stdout",
     "output_type": "stream",
     "text": [
      "Train X: (4, 205), Train Y: (1, 205)\n",
      "Test X: (4, 137), Test Y: (1, 137)\n"
     ]
    }
   ],
   "source": [
    "print(f\"Train X: {train_x_p.shape}, Train Y: {train_y_p.shape}\")\n",
    "print(f\"Test X: {test_x_p.shape}, Test Y: {test_y_p.shape}\")"
   ]
  },
  {
   "cell_type": "markdown",
   "id": "c1127616-5834-489a-b361-b1824df385b9",
   "metadata": {
    "tags": []
   },
   "source": [
    "### Inicializar el modelo LDA"
   ]
  },
  {
   "cell_type": "code",
   "execution_count": 90,
   "id": "fb25e9b5-732b-4493-93ae-a82587ec4982",
   "metadata": {
    "tags": []
   },
   "outputs": [],
   "source": [
    "\n",
    "lda_p = LDA()"
   ]
  },
  {
   "cell_type": "markdown",
   "id": "948ef5ee-8548-463c-962a-b91aa235d095",
   "metadata": {},
   "source": [
    "### Entrenamiento con priors por defecto (estimados a partir de los datos)"
   ]
  },
  {
   "cell_type": "code",
   "execution_count": 91,
   "id": "5758596e-1bc8-4900-9fbd-909052bc6e67",
   "metadata": {
    "tags": []
   },
   "outputs": [
    {
     "name": "stdout",
     "output_type": "stream",
     "text": [
      "Priors por defecto - Error de entrenamiento: 0.0098, Error de prueba: 0.0146\n"
     ]
    }
   ],
   "source": [
    "lda_p.fit(train_x_p, train_y_p)\n",
    "train_acc_p_default = accuracy(train_y_p, lda_p.predict(train_x_p))\n",
    "test_acc_p_default = accuracy(test_y_p, lda_p.predict(test_x_p))\n",
    "print(f\"Priors por defecto - Error de entrenamiento: {1 - train_acc_p_default:.4f}, Error de prueba: {1 - test_acc_p_default:.4f}\")\n"
   ]
  },
  {
   "cell_type": "markdown",
   "id": "63ff8416-fb8b-4fbe-8721-d9b9a4e68e2f",
   "metadata": {},
   "source": [
    "### Definir priors uniformes"
   ]
  },
  {
   "cell_type": "code",
   "execution_count": 92,
   "id": "a882b1ec-8c0a-400c-8df4-c25f4ebed4ce",
   "metadata": {
    "tags": []
   },
   "outputs": [
    {
     "name": "stdout",
     "output_type": "stream",
     "text": [
      "\n",
      "Distribución a priori Uniforme: [0.33333333 0.33333333 0.33333333]\n"
     ]
    }
   ],
   "source": [
    "unique_classes_p, counts_p = np.unique(y_full_p, return_counts=True)\n",
    "num_classes_p = len(unique_classes_p)\n",
    "priors_uniform_p = np.array([1/num_classes_p] * num_classes_p)\n",
    "print(\"\\nDistribución a priori Uniforme:\", priors_uniform_p)"
   ]
  },
  {
   "cell_type": "markdown",
   "id": "1e7b24fd-ed68-4733-88a9-2d6df9d4dbdf",
   "metadata": {},
   "source": [
    "### Entrenamiento con priors uniformes"
   ]
  },
  {
   "cell_type": "code",
   "execution_count": 93,
   "id": "a3ff14e3-7d2d-4cfd-8b4c-042fa6c12ba2",
   "metadata": {
    "tags": []
   },
   "outputs": [
    {
     "name": "stdout",
     "output_type": "stream",
     "text": [
      "Priors Uniformes - Error de entrenamiento: 0.0098, Error de prueba: 0.0073\n"
     ]
    }
   ],
   "source": [
    "lda_p_uniform = LDA()\n",
    "lda_p_uniform.fit(train_x_p, train_y_p, a_priori=priors_uniform_p)\n",
    "train_acc_p_uniform = accuracy(train_y_p, lda_p_uniform.predict(train_x_p))\n",
    "test_acc_p_uniform = accuracy(test_y_p, lda_p_uniform.predict(test_x_p))\n",
    "print(f\"Priors Uniformes - Error de entrenamiento: {1 - train_acc_p_uniform:.4f}, Error de prueba: {1 - test_acc_p_uniform:.4f}\")"
   ]
  },
  {
   "cell_type": "markdown",
   "id": "9c12e95e-ed27-4fa0-93ea-f43d3828dc2a",
   "metadata": {},
   "source": [
    "# Parte 5"
   ]
  },
  {
   "cell_type": "markdown",
   "id": "203038ae-b8a9-42d7-9c93-7c58b6accc4c",
   "metadata": {},
   "source": [
    "### Entrenar Ambos Modelos"
   ]
  },
  {
   "cell_type": "code",
   "execution_count": 94,
   "id": "e3e8bac1-52e6-4f7e-904c-9c041a9d5c7b",
   "metadata": {
    "tags": []
   },
   "outputs": [],
   "source": [
    "# Crear instancias de los modelos\n",
    "qda_model = QDA()\n",
    "tensor_qda_model = TensorizedQDA()\n",
    "\n",
    "# Entrenar los modelos\n",
    "qda_model.fit(train_x, train_y)\n",
    "tensor_qda_model.fit(train_x, train_y)"
   ]
  },
  {
   "cell_type": "markdown",
   "id": "720376e9-faaa-4666-92f2-b9f0b12e2603",
   "metadata": {},
   "source": [
    "### Medir el Tiempo de Predicción para QDA"
   ]
  },
  {
   "cell_type": "code",
   "execution_count": 95,
   "id": "d2eebba5-0197-4333-b637-5f1b147e3b23",
   "metadata": {
    "tags": []
   },
   "outputs": [
    {
     "name": "stdout",
     "output_type": "stream",
     "text": [
      "Tiempo total de predicción para QDA (1000 ejecuciones): 3.140744 segundos\n",
      "Tiempo promedio por ejecución: 0.003141 segundos\n"
     ]
    }
   ],
   "source": [
    "import timeit\n",
    "\n",
    "# Definir la función de predicción para QDA\n",
    "def qda_predict():\n",
    "    qda_model.predict(test_x)\n",
    "\n",
    "# Medir el tiempo de ejecución\n",
    "qda_time = timeit.timeit(qda_predict, number=1000)\n",
    "print(f\"Tiempo total de predicción para QDA (1000 ejecuciones): {qda_time:.6f} segundos\")\n",
    "print(f\"Tiempo promedio por ejecución: {qda_time/1000:.6f} segundos\")\n"
   ]
  },
  {
   "cell_type": "markdown",
   "id": "e58457de-21d2-42e7-9fa6-ea0bae4bf424",
   "metadata": {},
   "source": [
    "### Medir el Tiempo de Predicción para TensorizedQDA"
   ]
  },
  {
   "cell_type": "code",
   "execution_count": 96,
   "id": "4fcb15a8-249b-4d3c-84f6-1c315d393460",
   "metadata": {
    "tags": []
   },
   "outputs": [
    {
     "name": "stdout",
     "output_type": "stream",
     "text": [
      "Tiempo total de predicción para TensorizedQDA (1000 ejecuciones): 1.139793 segundos\n",
      "Tiempo promedio por ejecución: 0.001140 segundos\n"
     ]
    }
   ],
   "source": [
    "# Definir la función de predicción para TensorizedQDA\n",
    "def tensor_qda_predict():\n",
    "    tensor_qda_model.predict(test_x)\n",
    "    \n",
    "\n",
    "# Medir el tiempo de ejecución\n",
    "tensor_qda_time = timeit.timeit(tensor_qda_predict, number=1000)\n",
    "print(f\"Tiempo total de predicción para TensorizedQDA (1000 ejecuciones): {tensor_qda_time:.6f} segundos\")\n",
    "print(f\"Tiempo promedio por ejecución: {tensor_qda_time/1000:.6f} segundos\")\n"
   ]
  },
  {
   "cell_type": "code",
   "execution_count": null,
   "id": "9a354787-1655-4062-a9f3-948b4a3bd666",
   "metadata": {},
   "outputs": [],
   "source": []
  }
 ],
 "metadata": {
  "kernelspec": {
   "display_name": "Python 3 (ipykernel)",
   "language": "python",
   "name": "python3"
  },
  "language_info": {
   "codemirror_mode": {
    "name": "ipython",
    "version": 3
   },
   "file_extension": ".py",
   "mimetype": "text/x-python",
   "name": "python",
   "nbconvert_exporter": "python",
   "pygments_lexer": "ipython3",
   "version": "3.10.15"
  }
 },
 "nbformat": 4,
 "nbformat_minor": 5
}

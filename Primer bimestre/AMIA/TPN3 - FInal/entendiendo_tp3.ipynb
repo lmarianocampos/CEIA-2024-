{
 "cells": [
  {
   "cell_type": "code",
   "execution_count": 1,
   "id": "5c4ad8f3-2e39-4e93-96bb-d54be4994958",
   "metadata": {},
   "outputs": [
    {
     "name": "stdout",
     "output_type": "stream",
     "text": [
      "Índice de la clase predicha: 0\n",
      "Clase predicha: Clase0\n"
     ]
    }
   ],
   "source": [
    "import numpy as np\n",
    "\n",
    "class BaseBayesianClassifier:\n",
    "    def __init__(self):\n",
    "        # Inicializamos las probabilidades a priori logarítmicas\n",
    "        self.log_a_priori = np.log(np.array([0.5, 0.3, 0.2]))\n",
    "\n",
    "    def _predict_log_conditional(self, x, idx):\n",
    "        # Valores ficticios para el ejemplo\n",
    "        log_conditional_values = {\n",
    "            0: -2.0,  # Para Clase0\n",
    "            1: -1.5,  # Para Clase1\n",
    "            2: -3.0   # Para Clase2\n",
    "        }\n",
    "        return log_conditional_values[idx]\n",
    "\n",
    "    def _predict_one(self, x):\n",
    "        log_posteriori = [\n",
    "            log_a_priori_i + self._predict_log_conditional(x, idx)\n",
    "            for idx, log_a_priori_i in enumerate(self.log_a_priori)\n",
    "        ]\n",
    "        return np.argmax(log_posteriori)\n",
    "\n",
    "# Creamos una instancia del clasificador\n",
    "classifier = BaseBayesianClassifier()\n",
    "\n",
    "# Observación a predecir\n",
    "x = np.array([[1.5],\n",
    "              [2.0]])\n",
    "\n",
    "# Realizamos la predicción\n",
    "predicted_class_idx = classifier._predict_one(x)\n",
    "print(\"Índice de la clase predicha:\", predicted_class_idx)\n",
    "\n",
    "# Suponiendo que tenemos las etiquetas de clase\n",
    "class_labels = ['Clase0', 'Clase1', 'Clase2']\n",
    "print(\"Clase predicha:\", class_labels[predicted_class_idx])\n"
   ]
  },
  {
   "cell_type": "code",
   "execution_count": null,
   "id": "2280ce4e-0440-4049-a554-b6fa5f523217",
   "metadata": {},
   "outputs": [],
   "source": []
  }
 ],
 "metadata": {
  "kernelspec": {
   "display_name": "Python 3 (ipykernel)",
   "language": "python",
   "name": "python3"
  },
  "language_info": {
   "codemirror_mode": {
    "name": "ipython",
    "version": 3
   },
   "file_extension": ".py",
   "mimetype": "text/x-python",
   "name": "python",
   "nbconvert_exporter": "python",
   "pygments_lexer": "ipython3",
   "version": "3.10.15"
  }
 },
 "nbformat": 4,
 "nbformat_minor": 5
}

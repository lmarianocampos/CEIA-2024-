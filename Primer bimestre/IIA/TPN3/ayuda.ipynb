{
 "cells": [
  {
   "cell_type": "code",
   "execution_count": 1,
   "id": "ae42b5cdc085ad0f",
   "metadata": {
    "ExecuteTime": {
     "end_time": "2024-04-11T15:52:16.120115Z",
     "start_time": "2024-04-11T15:52:15.893237Z"
    },
    "collapsed": false,
    "jupyter": {
     "outputs_hidden": false
    },
    "tags": []
   },
   "outputs": [],
   "source": [
    "import pandas as pd\n",
    "import numpy as np\n",
    "import matplotlib.pyplot as plt\n",
    "import seaborn as sns\n",
    "\n",
    "from sklearn.model_selection import train_test_split\n",
    "from sklearn.preprocessing import MinMaxScaler\n",
    "\n",
    "# Scikit-learn nos ofrece una variedad ampliada de modelos Naive Bayes, para este problema usamos MultinomialNB que es pensado para este tipo de problemas\n",
    "from sklearn.naive_bayes import MultinomialNB   \n",
    "\n",
    "from sklearn.linear_model import LogisticRegression\n",
    "\n",
    "from sklearn.metrics import accuracy_score, precision_score, recall_score, confusion_matrix, ConfusionMatrixDisplay"
   ]
  },
  {
   "cell_type": "markdown",
   "id": "fadd4f97a897731c",
   "metadata": {
    "collapsed": false,
    "jupyter": {
     "outputs_hidden": false
    }
   },
   "source": [
    "# TP3: Detector de SPAM\n",
    "\n",
    "Uno de los problemas más comunes en la clasificación es la detección de correos electrónicos SPAM. Uno de los primeros modelos utilizados para abordar este problema fue el clasificador de Bayes ingenuo. La detección de SPAM es un problema persistente en el mundo digital, ya que los spammers continúan adaptando sus estrategias para eludir los filtros de correo no deseado. Además del clasificador de Bayes ingenuo, se han desarrollado y utilizado una variedad de técnicas más avanzadas en la detección de SPAM, que incluyen algoritmos de aprendizaje automático, redes neuronales y métodos basados en reglas.\n",
    "\n",
    "En este trabajo práctico, utilizaremos un conjunto de datos que consta de 4601 observaciones de correos electrónicos, de los cuales 2788 son correos legítimos y 1813 son correos SPAM. Dado que el contenido de los correos electrónicos es un tipo de dato no estructurado, es necesario procesarlo de alguna manera. Para este conjunto de datos, ya se ha aplicado un procesamiento típico en el Procesamiento del Lenguaje Natural (NLP), que consiste en contar la frecuencia de palabras observadas en los correos.\n",
    "\n",
    "El procesamiento de lenguaje natural (NLP) desempeña un papel fundamental en la detección de SPAM, ya que permite analizar el contenido de los correos electrónicos y extraer características relevantes para la clasificación. Además de contar la frecuencia de palabras, se pueden utilizar técnicas más sofisticadas, como la extracción de características semánticas y el análisis de sentimientos, para mejorar la precisión de los modelos de detección de SPAM.\n",
    "\n",
    "En este proceso, se cuenta la cantidad de ocurrencias de cada palabra en los diferentes correos.\n",
    "\n",
    "![spam counter](./spam.png)\n",
    "\n",
    "Con el fin de preservar la privacidad de los mensajes, la frecuencia de palabras se encuentra normalizada. El conjunto de datos está compuesto por 54 columnas de atributos que se denominan:\n",
    "\n",
    "- `word_freq_XXXX`: Donde `XXXX` es la palabra o símbolo. Los valores son enteros que van de 0 a 20k.\n",
    "\n",
    "Además, hay una columna adicional llamada `spam`, que es 1 si el correo es SPAM o 0 si no lo es.\n",
    "\n",
    "Los clasificadores de Bayes ingenuos fueron los primeros filtros utilizados por las aplicaciones de correo electrónico, basados en este principio de palabras. La idea es que, partiendo de un dato a priori sobre la probabilidad de que un correo sea SPAM o no, ciertas palabras nos indicarán que la probabilidad a posteriori, dadas esas palabras, es más probable que el correo sea SPAM o no."
   ]
  },
  {
   "cell_type": "code",
   "execution_count": 2,
   "id": "initial_id",
   "metadata": {
    "ExecuteTime": {
     "end_time": "2024-04-11T15:52:16.143226Z",
     "start_time": "2024-04-11T15:52:16.120715Z"
    },
    "tags": []
   },
   "outputs": [
    {
     "name": "stdout",
     "output_type": "stream",
     "text": [
      "   word_freq_make  word_freq_address  word_freq_all  word_freq_3d  \\\n",
      "0            0.00               0.64           0.64           0.0   \n",
      "1            0.21               0.28           0.50           0.0   \n",
      "2            0.06               0.00           0.71           0.0   \n",
      "3            0.00               0.00           0.00           0.0   \n",
      "4            0.00               0.00           0.00           0.0   \n",
      "\n",
      "   word_freq_our  word_freq_over  word_freq_remove  word_freq_internet  \\\n",
      "0           0.32            0.00              0.00                0.00   \n",
      "1           0.14            0.28              0.21                0.07   \n",
      "2           1.23            0.19              0.19                0.12   \n",
      "3           0.63            0.00              0.31                0.63   \n",
      "4           0.63            0.00              0.31                0.63   \n",
      "\n",
      "   word_freq_order  word_freq_mail  ...  char_freq_;  char_freq_(  \\\n",
      "0             0.00            0.00  ...         0.00        0.000   \n",
      "1             0.00            0.94  ...         0.00        0.132   \n",
      "2             0.64            0.25  ...         0.01        0.143   \n",
      "3             0.31            0.63  ...         0.00        0.137   \n",
      "4             0.31            0.63  ...         0.00        0.135   \n",
      "\n",
      "   char_freq_[  char_freq_!  char_freq_$  char_freq_#  \\\n",
      "0          0.0        0.778        0.000        0.000   \n",
      "1          0.0        0.372        0.180        0.048   \n",
      "2          0.0        0.276        0.184        0.010   \n",
      "3          0.0        0.137        0.000        0.000   \n",
      "4          0.0        0.135        0.000        0.000   \n",
      "\n",
      "   capital_run_length_average  capital_run_length_longest  \\\n",
      "0                       3.756                          61   \n",
      "1                       5.114                         101   \n",
      "2                       9.821                         485   \n",
      "3                       3.537                          40   \n",
      "4                       3.537                          40   \n",
      "\n",
      "   capital_run_length_total  spam  \n",
      "0                       278     1  \n",
      "1                      1028     1  \n",
      "2                      2259     1  \n",
      "3                       191     1  \n",
      "4                       191     1  \n",
      "\n",
      "[5 rows x 58 columns]\n"
     ]
    }
   ],
   "source": [
    "dataset = pd.read_csv(\"dataset/spambase.csv\", header=None) # cargando los datos desde un CSV\n",
    "dataset.head(10)\n",
    "column_names = [\n",
    "    \"word_freq_make\", \"word_freq_address\", \"word_freq_all\", \"word_freq_3d\", \"word_freq_our\",\n",
    "    \"word_freq_over\", \"word_freq_remove\", \"word_freq_internet\", \"word_freq_order\", \"word_freq_mail\",\n",
    "    \"word_freq_receive\", \"word_freq_will\", \"word_freq_people\", \"word_freq_report\", \"word_freq_addresses\",\n",
    "    \"word_freq_free\", \"word_freq_business\", \"word_freq_email\", \"word_freq_you\", \"word_freq_credit\",\n",
    "    \"word_freq_your\", \"word_freq_font\", \"word_freq_000\", \"word_freq_money\", \"word_freq_hp\",\n",
    "    \"word_freq_hpl\", \"word_freq_george\", \"word_freq_650\", \"word_freq_lab\", \"word_freq_labs\",\n",
    "    \"word_freq_telnet\", \"word_freq_857\", \"word_freq_data\", \"word_freq_415\", \"word_freq_85\",\n",
    "    \"word_freq_technology\", \"word_freq_1999\", \"word_freq_parts\", \"word_freq_pm\", \"word_freq_direct\",\n",
    "    \"word_freq_cs\", \"word_freq_meeting\", \"word_freq_original\", \"word_freq_project\", \"word_freq_re\",\n",
    "    \"word_freq_edu\", \"word_freq_table\", \"word_freq_conference\",  # Estas son las primeras 48 (0-47)\n",
    "    \"char_freq_;\", \"char_freq_(\", \"char_freq_[\", \"char_freq_!\", \"char_freq_$\", \"char_freq_#\",  # (48-53)\n",
    "    \"capital_run_length_average\", \"capital_run_length_longest\", \"capital_run_length_total\", # (54-56)\n",
    "    \"spam\" # (57)\n",
    "]\n",
    "\n",
    "dataset.columns = column_names\n",
    "\n",
    "print(dataset.head())"
   ]
  },
  {
   "cell_type": "code",
   "execution_count": 3,
   "id": "a2704e9c-f918-44b2-b03b-7bbeb22e61d7",
   "metadata": {
    "tags": []
   },
   "outputs": [
    {
     "name": "stdout",
     "output_type": "stream",
     "text": [
      "Index(['word_freq_make', 'word_freq_address', 'word_freq_all', 'word_freq_3d',\n",
      "       'word_freq_our', 'word_freq_over', 'word_freq_remove',\n",
      "       'word_freq_internet', 'word_freq_order', 'word_freq_mail',\n",
      "       'word_freq_receive', 'word_freq_will', 'word_freq_people',\n",
      "       'word_freq_report', 'word_freq_addresses', 'word_freq_free',\n",
      "       'word_freq_business', 'word_freq_email', 'word_freq_you',\n",
      "       'word_freq_credit', 'word_freq_your', 'word_freq_font', 'word_freq_000',\n",
      "       'word_freq_money', 'word_freq_hp', 'word_freq_hpl', 'word_freq_george',\n",
      "       'word_freq_650', 'word_freq_lab', 'word_freq_labs', 'word_freq_telnet',\n",
      "       'word_freq_857', 'word_freq_data', 'word_freq_415', 'word_freq_85',\n",
      "       'word_freq_technology', 'word_freq_1999', 'word_freq_parts',\n",
      "       'word_freq_pm', 'word_freq_direct', 'word_freq_cs', 'word_freq_meeting',\n",
      "       'word_freq_original', 'word_freq_project', 'word_freq_re',\n",
      "       'word_freq_edu', 'word_freq_table', 'word_freq_conference',\n",
      "       'char_freq_;', 'char_freq_(', 'char_freq_[', 'char_freq_!',\n",
      "       'char_freq_$', 'char_freq_#', 'capital_run_length_average',\n",
      "       'capital_run_length_longest', 'capital_run_length_total', 'spam'],\n",
      "      dtype='object')\n"
     ]
    }
   ],
   "source": [
    "print(dataset.columns)\n",
    "\n"
   ]
  },
  {
   "cell_type": "markdown",
   "id": "fd5762c49a3369dc",
   "metadata": {
    "collapsed": false,
    "jupyter": {
     "outputs_hidden": false
    }
   },
   "source": [
    "Para obtener las palábras más usadas podemos hacer un `groupby`:"
   ]
  },
  {
   "cell_type": "code",
   "execution_count": 4,
   "id": "aa93f67db28da6ff",
   "metadata": {
    "ExecuteTime": {
     "end_time": "2024-04-11T15:52:16.147047Z",
     "start_time": "2024-04-11T15:52:16.143891Z"
    },
    "collapsed": false,
    "jupyter": {
     "outputs_hidden": false
    },
    "tags": []
   },
   "outputs": [
    {
     "name": "stdout",
     "output_type": "stream",
     "text": [
      "   spam  word_freq_make  word_freq_address  word_freq_all  word_freq_3d  \\\n",
      "0     0          204.86             681.57         559.22          2.47   \n",
      "1     1          276.19             298.51         732.08        298.55   \n",
      "\n",
      "   word_freq_our  word_freq_over  word_freq_remove  word_freq_internet  \\\n",
      "0         504.74          124.19             26.16              107.10   \n",
      "1         931.80          317.05            499.31              377.36   \n",
      "\n",
      "   word_freq_order  ...  word_freq_conference  char_freq_;  char_freq_(  \\\n",
      "0           106.08  ...                142.82      140.183      442.116   \n",
      "1           308.32  ...                  3.81       37.299      197.563   \n",
      "\n",
      "   char_freq_[  char_freq_!  char_freq_$  char_freq_#  \\\n",
      "0       63.242      306.634       32.476       60.536   \n",
      "1       14.864      931.361      316.329      143.004   \n",
      "\n",
      "   capital_run_length_average  capital_run_length_longest  \\\n",
      "0                    6627.915                       50782   \n",
      "1                   17258.246                      189265   \n",
      "\n",
      "   capital_run_length_total  \n",
      "0                    450181  \n",
      "1                    853233  \n",
      "\n",
      "[2 rows x 58 columns]\n"
     ]
    }
   ],
   "source": [
    "column_sum = dataset.groupby(by=\"spam\", as_index=False).sum()\n",
    "print(column_sum)"
   ]
  },
  {
   "cell_type": "markdown",
   "id": "efab4e7c21dd0461",
   "metadata": {
    "collapsed": false,
    "jupyter": {
     "outputs_hidden": false
    }
   },
   "source": [
    "Y despues se pueden combinar las columnas en usando [pd.melt](https://pandas.pydata.org/docs/reference/api/pandas.melt.html)"
   ]
  },
  {
   "cell_type": "code",
   "execution_count": 5,
   "id": "a05390e27958e98b",
   "metadata": {
    "ExecuteTime": {
     "end_time": "2024-04-11T15:52:16.150961Z",
     "start_time": "2024-04-11T15:52:16.147743Z"
    },
    "collapsed": false,
    "jupyter": {
     "outputs_hidden": false
    },
    "tags": []
   },
   "outputs": [
    {
     "name": "stdout",
     "output_type": "stream",
     "text": [
      "      word_freq_make  word_freq_address  word_freq_all  word_freq_3d  \\\n",
      "0                  0                 64             64             0   \n",
      "1                 21                 28             50             0   \n",
      "2                  6                  0             71             0   \n",
      "3                  0                  0              0             0   \n",
      "4                  0                  0              0             0   \n",
      "...              ...                ...            ...           ...   \n",
      "4596              31                  0             62             0   \n",
      "4597               0                  0              0             0   \n",
      "4598              30                  0             30             0   \n",
      "4599              96                  0              0             0   \n",
      "4600               0                  0             65             0   \n",
      "\n",
      "      word_freq_our  word_freq_over  word_freq_remove  word_freq_internet  \\\n",
      "0                32               0                 0                   0   \n",
      "1                14              28                21                   7   \n",
      "2               123              19                19                  12   \n",
      "3                63               0                31                  63   \n",
      "4                63               0                31                  63   \n",
      "...             ...             ...               ...                 ...   \n",
      "4596              0              31                 0                   0   \n",
      "4597              0               0                 0                   0   \n",
      "4598              0               0                 0                   0   \n",
      "4599             32               0                 0                   0   \n",
      "4600              0               0                 0                   0   \n",
      "\n",
      "      word_freq_order  word_freq_mail  ...  word_freq_conference  char_freq_;  \\\n",
      "0                   0               0  ...                     0            0   \n",
      "1                   0              94  ...                     0            0   \n",
      "2                  64              25  ...                     0            1   \n",
      "3                  31              63  ...                     0            0   \n",
      "4                  31              63  ...                     0            0   \n",
      "...               ...             ...  ...                   ...          ...   \n",
      "4596                0               0  ...                     0            0   \n",
      "4597                0               0  ...                     0            0   \n",
      "4598                0               0  ...                     0           10   \n",
      "4599                0               0  ...                     0            0   \n",
      "4600                0               0  ...                     0            0   \n",
      "\n",
      "      char_freq_(  char_freq_[  char_freq_!  char_freq_$  char_freq_#  \\\n",
      "0               0            0           77            0            0   \n",
      "1              13            0           37           18            4   \n",
      "2              14            0           27           18            1   \n",
      "3              13            0           13            0            0   \n",
      "4              13            0           13            0            0   \n",
      "...           ...          ...          ...          ...          ...   \n",
      "4596           23            0            0            0            0   \n",
      "4597            0            0           35            0            0   \n",
      "4598           71            0            0            0            0   \n",
      "4599            5            0            0            0            0   \n",
      "4600            0            0           12            0            0   \n",
      "\n",
      "      capital_run_length_average  capital_run_length_longest  \\\n",
      "0                            375                        6100   \n",
      "1                            511                       10100   \n",
      "2                            982                       48500   \n",
      "3                            353                        4000   \n",
      "4                            353                        4000   \n",
      "...                          ...                         ...   \n",
      "4596                         114                         300   \n",
      "4597                         155                         400   \n",
      "4598                         140                         600   \n",
      "4599                         114                         500   \n",
      "4600                         125                         500   \n",
      "\n",
      "      capital_run_length_total  \n",
      "0                        27800  \n",
      "1                       102800  \n",
      "2                       225900  \n",
      "3                        19100  \n",
      "4                        19100  \n",
      "...                        ...  \n",
      "4596                      8800  \n",
      "4597                      1400  \n",
      "4598                     11800  \n",
      "4599                      7800  \n",
      "4600                      4000  \n",
      "\n",
      "[4601 rows x 57 columns]\n",
      "0       1\n",
      "1       1\n",
      "2       1\n",
      "3       1\n",
      "4       1\n",
      "       ..\n",
      "4596    0\n",
      "4597    0\n",
      "4598    0\n",
      "4599    0\n",
      "4600    0\n",
      "Name: spam, Length: 4601, dtype: int64\n"
     ]
    }
   ],
   "source": [
    "# Obtenemos los atributos y target\n",
    "X = (dataset.drop(columns=\"spam\") * 100).astype(int)\n",
    "print (X)\n",
    "#X = dataset2.drop(columns=\"spam\")\n",
    "y = dataset[\"spam\"]\n",
    "print (y)"
   ]
  },
  {
   "cell_type": "markdown",
   "id": "686665f4a0ce53e5",
   "metadata": {
    "collapsed": false,
    "jupyter": {
     "outputs_hidden": false
    }
   },
   "source": [
    "Se separa el dataset en entrenamiento y evaluación"
   ]
  },
  {
   "cell_type": "code",
   "execution_count": 7,
   "id": "a05dd9a86a0270d1",
   "metadata": {
    "ExecuteTime": {
     "end_time": "2024-04-11T15:52:16.155862Z",
     "start_time": "2024-04-11T15:52:16.151805Z"
    },
    "collapsed": false,
    "jupyter": {
     "outputs_hidden": false
    },
    "tags": []
   },
   "outputs": [
    {
     "name": "stdout",
     "output_type": "stream",
     "text": [
      "X_train:\n",
      "      word_freq_make  word_freq_address  word_freq_all  word_freq_3d  \\\n",
      "3636               0                  0              0             0   \n",
      "4146               0                  0              0             0   \n",
      "1439               0                  0              0             0   \n",
      "516               26                 72             85             0   \n",
      "4431               0                  0             40             0   \n",
      "...              ...                ...            ...           ...   \n",
      "952                8                  8             76             0   \n",
      "888               34                  0            170             0   \n",
      "4012               0                  0             13             0   \n",
      "3754              33                  0              0             0   \n",
      "3787               0                  0              0             0   \n",
      "\n",
      "      word_freq_our  word_freq_over  word_freq_remove  word_freq_internet  \\\n",
      "3636              0               0                 0                   0   \n",
      "4146              0               0                 0                   0   \n",
      "1439              0               0                 0                  42   \n",
      "516               0              19                 6                  33   \n",
      "4431              0              40                 0                   0   \n",
      "...             ...             ...               ...                 ...   \n",
      "952              85             102                25                  17   \n",
      "888             102               0                 0                   0   \n",
      "4012             20               0                 0                   0   \n",
      "3754              0               0                 0                   0   \n",
      "3787            185               0                 0                   0   \n",
      "\n",
      "      word_freq_order  word_freq_mail  ...  word_freq_conference  char_freq_;  \\\n",
      "3636                0               0  ...                     0            0   \n",
      "4146                0               0  ...                     0            0   \n",
      "1439                0              42  ...                     0            0   \n",
      "516                72              46  ...                     0            0   \n",
      "4431                0               0  ...                     0            0   \n",
      "...               ...             ...  ...                   ...          ...   \n",
      "952                59               8  ...                     0            0   \n",
      "888                68             102  ...                     0            0   \n",
      "4012                0               0  ...                    20            0   \n",
      "3754               33               0  ...                     0            0   \n",
      "3787                0               0  ...                     0            0   \n",
      "\n",
      "      char_freq_(  char_freq_[  char_freq_!  char_freq_$  char_freq_#  \\\n",
      "3636            0            0            0            0            0   \n",
      "4146            0            0            0            0            0   \n",
      "1439           12            0           12           19            0   \n",
      "516            13            0           10           10           20   \n",
      "4431           32            5            0            0            5   \n",
      "...           ...          ...          ...          ...          ...   \n",
      "952             6            0           43           11            1   \n",
      "888             0            0           89           10            0   \n",
      "4012           20            0            2            7            0   \n",
      "3754           44            0            5            0            0   \n",
      "3787            0            0            0            0            0   \n",
      "\n",
      "      capital_run_length_average  capital_run_length_longest  \\\n",
      "3636                         100                         100   \n",
      "4146                         100                         100   \n",
      "1439                         185                        2000   \n",
      "516                          439                        7900   \n",
      "4431                         526                        7000   \n",
      "...                          ...                         ...   \n",
      "952                          749                       66900   \n",
      "888                        66700                      133300   \n",
      "4012                         206                        2900   \n",
      "3754                         178                         600   \n",
      "3787                         171                         400   \n",
      "\n",
      "      capital_run_length_total  \n",
      "3636                       400  \n",
      "4146                       500  \n",
      "1439                     11900  \n",
      "516                     128000  \n",
      "4431                     30000  \n",
      "...                        ...  \n",
      "952                     140200  \n",
      "888                     133400  \n",
      "4012                     87100  \n",
      "3754                      9300  \n",
      "3787                      1200  \n",
      "\n",
      "[3220 rows x 57 columns]\n",
      "y_train:\n",
      "3636    0\n",
      "4146    0\n",
      "1439    1\n",
      "516     1\n",
      "4431    0\n",
      "       ..\n",
      "952     1\n",
      "888     1\n",
      "4012    0\n",
      "3754    0\n",
      "3787    0\n",
      "Name: spam, Length: 3220, dtype: int64\n",
      "X_test:\n",
      "      word_freq_make  word_freq_address  word_freq_all  word_freq_3d  \\\n",
      "2555              32                  0              0             0   \n",
      "2657               0                  0              0             0   \n",
      "2750               0                  0            115             0   \n",
      "2743               0                  0              0             0   \n",
      "1982               0                  0              0             0   \n",
      "...              ...                ...            ...           ...   \n",
      "2624               0                  0              0             0   \n",
      "3633               0                  0              0             0   \n",
      "3259               0                  0             61             0   \n",
      "3123               0               1428              0             0   \n",
      "2059               0                  0              0             0   \n",
      "\n",
      "      word_freq_our  word_freq_over  word_freq_remove  word_freq_internet  \\\n",
      "2555             32               0                 0                   0   \n",
      "2657             68               0                 0                   0   \n",
      "2750              0               0                 0                   0   \n",
      "2743              0               0                 0                  39   \n",
      "1982              0               0                 0                   0   \n",
      "...             ...             ...               ...                 ...   \n",
      "2624              0               0                 0                   0   \n",
      "3633              0               0                 0                   0   \n",
      "3259              0               0                 0                   0   \n",
      "3123              0               0                 0                   0   \n",
      "2059              0               0                 0                   0   \n",
      "\n",
      "      word_freq_order  word_freq_mail  ...  word_freq_conference  char_freq_;  \\\n",
      "2555                0               0  ...                     0            0   \n",
      "2657                0              68  ...                     0           10   \n",
      "2750                0               0  ...                     0            0   \n",
      "2743                0               0  ...                     0            0   \n",
      "1982                0               0  ...                     0            0   \n",
      "...               ...             ...  ...                   ...          ...   \n",
      "2624                0               0  ...                     0            0   \n",
      "3633                0               0  ...                     0            0   \n",
      "3259                0               0  ...                     0            7   \n",
      "3123                0               0  ...                     0            0   \n",
      "2059                0               0  ...                     0            0   \n",
      "\n",
      "      char_freq_(  char_freq_[  char_freq_!  char_freq_$  char_freq_#  \\\n",
      "2555           23            0            5            0            0   \n",
      "2657           41           10            0            0            0   \n",
      "2750           13            0           13            0            0   \n",
      "2743            4            0            0            0            0   \n",
      "1982            0            0            0            0            0   \n",
      "...           ...          ...          ...          ...          ...   \n",
      "2624            0            0            0            0            0   \n",
      "3633            0            0            0            0            0   \n",
      "3259           15            0            0            0            0   \n",
      "3123            0            0            0            0            0   \n",
      "2059           40           20            0            0            0   \n",
      "\n",
      "      capital_run_length_average  capital_run_length_longest  \\\n",
      "2555                         106                         300   \n",
      "2657                         210                        1200   \n",
      "2750                         151                        1000   \n",
      "2743                         200                        3800   \n",
      "1982                         700                        1700   \n",
      "...                          ...                         ...   \n",
      "2624                         100                         100   \n",
      "3633                         100                         100   \n",
      "3259                         250                        1700   \n",
      "3123                         180                         500   \n",
      "2059                         215                        1200   \n",
      "\n",
      "      capital_run_length_total  \n",
      "2555                      4700  \n",
      "2657                      8200  \n",
      "2750                      5000  \n",
      "2743                     12400  \n",
      "1982                      3500  \n",
      "...                        ...  \n",
      "2624                       800  \n",
      "3633                       500  \n",
      "3259                     14300  \n",
      "3123                       900  \n",
      "2059                      7100  \n",
      "\n",
      "[1381 rows x 57 columns]\n",
      "y_test:\n",
      "2555    0\n",
      "2657    0\n",
      "2750    0\n",
      "2743    0\n",
      "1982    0\n",
      "       ..\n",
      "2624    0\n",
      "3633    0\n",
      "3259    0\n",
      "3123    0\n",
      "2059    0\n",
      "Name: spam, Length: 1381, dtype: int64\n"
     ]
    }
   ],
   "source": [
    "X_train, X_test, y_train, y_test= train_test_split(X, y, test_size = 0.3)\n",
    "print(\"X_train:\")\n",
    "print(X_train)\n",
    "print(\"y_train:\")\n",
    "print(y_train)\n",
    "\n",
    "print(\"X_test:\")\n",
    "print(X_test)\n",
    "print(\"y_test:\")\n",
    "print(y_test)"
   ]
  },
  {
   "cell_type": "markdown",
   "id": "4deca5d28cadd43b",
   "metadata": {
    "collapsed": false,
    "jupyter": {
     "outputs_hidden": false
    }
   },
   "source": [
    "Escalamos para aplicar en regresión logística"
   ]
  },
  {
   "cell_type": "code",
   "execution_count": 8,
   "id": "712e38ef8afee400",
   "metadata": {
    "ExecuteTime": {
     "end_time": "2024-04-11T15:52:16.162957Z",
     "start_time": "2024-04-11T15:52:16.156768Z"
    },
    "collapsed": false,
    "jupyter": {
     "outputs_hidden": false
    },
    "tags": []
   },
   "outputs": [],
   "source": [
    "scaler = MinMaxScaler()\n",
    "X_train_scaled = scaler.fit_transform(X_train)\n",
    "X_test_scaled = scaler.transform(X_test)\n",
    "\n",
    "# Lo transformamos en DataFrames\n",
    "X_train_scaled = pd.DataFrame(X_train_scaled, columns=X.columns)\n",
    "X_test_scaled = pd.DataFrame(X_test_scaled, columns=X.columns)"
   ]
  },
  {
   "cell_type": "markdown",
   "id": "c904db8b-461b-4c26-b6fe-4c501d009d76",
   "metadata": {},
   "source": [
    "### las top 10 palabras en spam:"
   ]
  },
  {
   "cell_type": "code",
   "execution_count": 11,
   "id": "76a9e6364b4d74b",
   "metadata": {
    "ExecuteTime": {
     "end_time": "2024-04-11T15:52:16.168004Z",
     "start_time": "2024-04-11T15:52:16.164460Z"
    },
    "collapsed": false,
    "jupyter": {
     "outputs_hidden": false
    },
    "tags": []
   },
   "outputs": [
    {
     "name": "stdout",
     "output_type": "stream",
     "text": [
      "Top 10 palabras en SPAM:\n",
      "capital_run_length_total      853233.000\n",
      "capital_run_length_longest    189265.000\n",
      "capital_run_length_average     17258.246\n",
      "word_freq_you                   4105.610\n",
      "word_freq_your                  2502.610\n",
      "word_freq_will                   997.100\n",
      "word_freq_free                   939.790\n",
      "word_freq_our                    931.800\n",
      "char_freq_!                      931.361\n",
      "word_freq_all                    732.080\n",
      "Name: 1, dtype: float64\n"
     ]
    },
    {
     "data": {
      "text/plain": [
       "'\\n# Ordenamos por el valor de la frecuencia total\\ntop10_spam_words = spam_sum_t[0].sort_values(ascending=False).head(10)\\n\\n'"
      ]
     },
     "execution_count": 11,
     "metadata": {},
     "output_type": "execute_result"
    }
   ],
   "source": [
    "# Filtramos la fila de spam=1 y quitamos la columna 'spam'\n",
    "spam_sum = column_sum[column_sum[\"spam\"] == 1].drop(columns=\"spam\")\n",
    "#print(spam_sum)\n",
    "\n",
    "# Trasponemos para tener las columnas como filas y poder ordenar\n",
    "spam_sum_t = spam_sum.T\n",
    "#Sprint(spam_sum_t.columns)\n",
    "top10_spam_words = spam_sum_t.iloc[:, 0].sort_values(ascending=False).head(10)\n",
    "print(\"Top 10 palabras en SPAM:\")\n",
    "print(top10_spam_words)\n",
    "\"\"\"\n",
    "# Ordenamos por el valor de la frecuencia total\n",
    "top10_spam_words = spam_sum_t[0].sort_values(ascending=False).head(10)\n",
    "\n",
    "\"\"\""
   ]
  },
  {
   "cell_type": "code",
   "execution_count": 12,
   "id": "71eb7489-cc8e-4163-a29c-58af7a1dff1f",
   "metadata": {},
   "outputs": [],
   "source": [
    "### las top 10 palabras en spam"
   ]
  },
  {
   "cell_type": "code",
   "execution_count": 13,
   "id": "54d7efa0-07be-4858-9148-81324b1f64f9",
   "metadata": {},
   "outputs": [
    {
     "name": "stdout",
     "output_type": "stream",
     "text": [
      "Top 10 palabras en NO SPAM:\n",
      "capital_run_length_total      450181.000\n",
      "capital_run_length_longest     50782.000\n",
      "capital_run_length_average      6627.915\n",
      "word_freq_you                   3541.710\n",
      "word_freq_george                3527.560\n",
      "word_freq_hp                    2496.580\n",
      "word_freq_will                  1495.270\n",
      "word_freq_your                  1223.100\n",
      "word_freq_hpl                   1204.400\n",
      "word_freq_re                    1159.140\n",
      "Name: 0, dtype: float64\n"
     ]
    }
   ],
   "source": [
    "nonspam_sum = column_sum[column_sum[\"spam\"] == 0].drop(columns=\"spam\")\n",
    "nonspam_sum_t = nonspam_sum.T\n",
    "top10_nonspam_words = nonspam_sum_t[0].sort_values(ascending=False).head(10)\n",
    "print(\"Top 10 palabras en NO SPAM:\")\n",
    "print(top10_nonspam_words)\n"
   ]
  },
  {
   "cell_type": "code",
   "execution_count": null,
   "id": "d58438e0-bc04-438c-bec2-d0867df330f5",
   "metadata": {},
   "outputs": [],
   "source": []
  }
 ],
 "metadata": {
  "kernelspec": {
   "display_name": "Python 3 (ipykernel)",
   "language": "python",
   "name": "python3"
  },
  "language_info": {
   "codemirror_mode": {
    "name": "ipython",
    "version": 3
   },
   "file_extension": ".py",
   "mimetype": "text/x-python",
   "name": "python",
   "nbconvert_exporter": "python",
   "pygments_lexer": "ipython3",
   "version": "3.10.15"
  }
 },
 "nbformat": 4,
 "nbformat_minor": 5
}

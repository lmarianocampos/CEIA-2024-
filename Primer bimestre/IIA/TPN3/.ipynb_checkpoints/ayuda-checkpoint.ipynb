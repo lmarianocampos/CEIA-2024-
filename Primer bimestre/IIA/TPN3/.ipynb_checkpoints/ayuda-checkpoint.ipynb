{
 "cells": [
  {
   "cell_type": "code",
   "execution_count": 158,
   "id": "ae42b5cdc085ad0f",
   "metadata": {
    "ExecuteTime": {
     "end_time": "2024-04-11T15:52:16.120115Z",
     "start_time": "2024-04-11T15:52:15.893237Z"
    },
    "collapsed": false,
    "jupyter": {
     "outputs_hidden": false
    },
    "tags": []
   },
   "outputs": [],
   "source": [
    "import pandas as pd\n",
    "import numpy as np\n",
    "import matplotlib.pyplot as plt\n",
    "import seaborn as sns\n",
    "\n",
    "from sklearn.model_selection import train_test_split\n",
    "from sklearn.preprocessing import MinMaxScaler\n",
    "\n",
    "# Scikit-learn nos ofrece una variedad ampliada de modelos Naive Bayes, para este problema\n",
    "# usamos MultinomialNB que es pensado para este tipo de problemas\n",
    "from sklearn.naive_bayes import MultinomialNB   \n",
    "\n",
    "from sklearn.linear_model import LogisticRegression\n",
    "\n",
    "from sklearn.metrics import accuracy_score, precision_score, recall_score, confusion_matrix, ConfusionMatrixDisplay, classification_report, roc_curve, roc_auc_score"
   ]
  },
  {
   "cell_type": "markdown",
   "id": "fadd4f97a897731c",
   "metadata": {
    "jupyter": {
     "outputs_hidden": false
    }
   },
   "source": [
    "# TP3: Detector de SPAM\n",
    "\n",
    "Uno de los problemas más comunes en la clasificación es la detección de correos electrónicos SPAM. Uno de los primeros modelos utilizados para abordar este problema fue el clasificador de Bayes ingenuo. La detección de SPAM es un problema persistente en el mundo digital, ya que los spammers continúan adaptando sus estrategias para eludir los filtros de correo no deseado. Además del clasificador de Bayes ingenuo, se han desarrollado y utilizado una variedad de técnicas más avanzadas en la detección de SPAM, que incluyen algoritmos de aprendizaje automático, redes neuronales y métodos basados en reglas.\n",
    "\n",
    "En este trabajo práctico, utilizaremos un conjunto de datos que consta de 4601 observaciones de correos electrónicos, de los cuales 2788 son correos legítimos y 1813 son correos SPAM. Dado que el contenido de los correos electrónicos es un tipo de dato no estructurado, es necesario procesarlo de alguna manera. Para este conjunto de datos, ya se ha aplicado un procesamiento típico en el Procesamiento del Lenguaje Natural (NLP), que consiste en contar la frecuencia de palabras observadas en los correos.\n",
    "\n",
    "El procesamiento de lenguaje natural (NLP) desempeña un papel fundamental en la detección de SPAM, ya que permite analizar el contenido de los correos electrónicos y extraer características relevantes para la clasificación. Además de contar la frecuencia de palabras, se pueden utilizar técnicas más sofisticadas, como la extracción de características semánticas y el análisis de sentimientos, para mejorar la precisión de los modelos de detección de SPAM.\n",
    "\n",
    "En este proceso, se cuenta la cantidad de ocurrencias de cada palabra en los diferentes correos.\n",
    "\n",
    "![spam counter](./spam.png)\n",
    "\n",
    "Con el fin de preservar la privacidad de los mensajes, la frecuencia de palabras se encuentra normalizada. El conjunto de datos está compuesto por 54 columnas de atributos que se denominan:\n",
    "\n",
    "- `word_freq_XXXX`: Donde `XXXX` es la palabra o símbolo. Los valores son enteros que van de 0 a 20k.\n",
    "\n",
    "Además, hay una columna adicional llamada `spam`, que es 1 si el correo es SPAM o 0 si no lo es.\n",
    "\n",
    "Los clasificadores de Bayes ingenuos fueron los primeros filtros utilizados por las aplicaciones de correo electrónico, basados en este principio de palabras. La idea es que, partiendo de un dato a priori sobre la probabilidad de que un correo sea SPAM o no, ciertas palabras nos indicarán que la probabilidad a posteriori, dadas esas palabras, es más probable que el correo sea SPAM o no."
   ]
  },
  {
   "cell_type": "code",
   "execution_count": 159,
   "id": "initial_id",
   "metadata": {
    "ExecuteTime": {
     "end_time": "2024-04-11T15:52:16.143226Z",
     "start_time": "2024-04-11T15:52:16.120715Z"
    },
    "tags": []
   },
   "outputs": [
    {
     "name": "stdout",
     "output_type": "stream",
     "text": [
      "   word_freq_make  word_freq_address  word_freq_all  word_freq_3d  \\\n",
      "0            0.00               0.64           0.64           0.0   \n",
      "1            0.21               0.28           0.50           0.0   \n",
      "2            0.06               0.00           0.71           0.0   \n",
      "3            0.00               0.00           0.00           0.0   \n",
      "4            0.00               0.00           0.00           0.0   \n",
      "5            0.00               0.00           0.00           0.0   \n",
      "6            0.00               0.00           0.00           0.0   \n",
      "7            0.00               0.00           0.00           0.0   \n",
      "8            0.15               0.00           0.46           0.0   \n",
      "9            0.06               0.12           0.77           0.0   \n",
      "\n",
      "   word_freq_our  word_freq_over  word_freq_remove  word_freq_internet  \\\n",
      "0           0.32            0.00              0.00                0.00   \n",
      "1           0.14            0.28              0.21                0.07   \n",
      "2           1.23            0.19              0.19                0.12   \n",
      "3           0.63            0.00              0.31                0.63   \n",
      "4           0.63            0.00              0.31                0.63   \n",
      "5           1.85            0.00              0.00                1.85   \n",
      "6           1.92            0.00              0.00                0.00   \n",
      "7           1.88            0.00              0.00                1.88   \n",
      "8           0.61            0.00              0.30                0.00   \n",
      "9           0.19            0.32              0.38                0.00   \n",
      "\n",
      "   word_freq_order  word_freq_mail  ...  char_freq_;  char_freq_(  \\\n",
      "0             0.00            0.00  ...         0.00        0.000   \n",
      "1             0.00            0.94  ...         0.00        0.132   \n",
      "2             0.64            0.25  ...         0.01        0.143   \n",
      "3             0.31            0.63  ...         0.00        0.137   \n",
      "4             0.31            0.63  ...         0.00        0.135   \n",
      "5             0.00            0.00  ...         0.00        0.223   \n",
      "6             0.00            0.64  ...         0.00        0.054   \n",
      "7             0.00            0.00  ...         0.00        0.206   \n",
      "8             0.92            0.76  ...         0.00        0.271   \n",
      "9             0.06            0.00  ...         0.04        0.030   \n",
      "\n",
      "   char_freq_[  char_freq_!  char_freq_$  char_freq_#  \\\n",
      "0          0.0        0.778        0.000        0.000   \n",
      "1          0.0        0.372        0.180        0.048   \n",
      "2          0.0        0.276        0.184        0.010   \n",
      "3          0.0        0.137        0.000        0.000   \n",
      "4          0.0        0.135        0.000        0.000   \n",
      "5          0.0        0.000        0.000        0.000   \n",
      "6          0.0        0.164        0.054        0.000   \n",
      "7          0.0        0.000        0.000        0.000   \n",
      "8          0.0        0.181        0.203        0.022   \n",
      "9          0.0        0.244        0.081        0.000   \n",
      "\n",
      "   capital_run_length_average  capital_run_length_longest  \\\n",
      "0                       3.756                          61   \n",
      "1                       5.114                         101   \n",
      "2                       9.821                         485   \n",
      "3                       3.537                          40   \n",
      "4                       3.537                          40   \n",
      "5                       3.000                          15   \n",
      "6                       1.671                           4   \n",
      "7                       2.450                          11   \n",
      "8                       9.744                         445   \n",
      "9                       1.729                          43   \n",
      "\n",
      "   capital_run_length_total  spam  \n",
      "0                       278     1  \n",
      "1                      1028     1  \n",
      "2                      2259     1  \n",
      "3                       191     1  \n",
      "4                       191     1  \n",
      "5                        54     1  \n",
      "6                       112     1  \n",
      "7                        49     1  \n",
      "8                      1257     1  \n",
      "9                       749     1  \n",
      "\n",
      "[10 rows x 58 columns]\n"
     ]
    }
   ],
   "source": [
    "dataset = pd.read_csv(\"dataset/spambase.csv\", header=None) # cargando los datos desde un CSV\n",
    "dataset.head(10)\n",
    "column_names = [\n",
    "    \"word_freq_make\", \"word_freq_address\", \"word_freq_all\", \"word_freq_3d\", \"word_freq_our\",\n",
    "    \"word_freq_over\", \"word_freq_remove\", \"word_freq_internet\", \"word_freq_order\", \"word_freq_mail\",\n",
    "    \"word_freq_receive\", \"word_freq_will\", \"word_freq_people\", \"word_freq_report\", \"word_freq_addresses\",\n",
    "    \"word_freq_free\", \"word_freq_business\", \"word_freq_email\", \"word_freq_you\", \"word_freq_credit\",\n",
    "    \"word_freq_your\", \"word_freq_font\", \"word_freq_000\", \"word_freq_money\", \"word_freq_hp\",\n",
    "    \"word_freq_hpl\", \"word_freq_george\", \"word_freq_650\", \"word_freq_lab\", \"word_freq_labs\",\n",
    "    \"word_freq_telnet\", \"word_freq_857\", \"word_freq_data\", \"word_freq_415\", \"word_freq_85\",\n",
    "    \"word_freq_technology\", \"word_freq_1999\", \"word_freq_parts\", \"word_freq_pm\", \"word_freq_direct\",\n",
    "    \"word_freq_cs\", \"word_freq_meeting\", \"word_freq_original\", \"word_freq_project\", \"word_freq_re\",\n",
    "    \"word_freq_edu\", \"word_freq_table\", \"word_freq_conference\",  # Estas son las primeras 48 (0-47)\n",
    "    \"char_freq_;\", \"char_freq_(\", \"char_freq_[\", \"char_freq_!\", \"char_freq_$\", \"char_freq_#\",  # (48-53)\n",
    "    \"capital_run_length_average\", \"capital_run_length_longest\", \"capital_run_length_total\", # (54-56)\n",
    "    \"spam\" # (57)\n",
    "]\n",
    "\n",
    "dataset.columns = column_names\n",
    "\n",
    "print(dataset.head(10))"
   ]
  },
  {
   "cell_type": "code",
   "execution_count": 160,
   "id": "a2704e9c-f918-44b2-b03b-7bbeb22e61d7",
   "metadata": {
    "tags": []
   },
   "outputs": [
    {
     "name": "stdout",
     "output_type": "stream",
     "text": [
      "Index(['word_freq_make', 'word_freq_address', 'word_freq_all', 'word_freq_3d',\n",
      "       'word_freq_our', 'word_freq_over', 'word_freq_remove',\n",
      "       'word_freq_internet', 'word_freq_order', 'word_freq_mail',\n",
      "       'word_freq_receive', 'word_freq_will', 'word_freq_people',\n",
      "       'word_freq_report', 'word_freq_addresses', 'word_freq_free',\n",
      "       'word_freq_business', 'word_freq_email', 'word_freq_you',\n",
      "       'word_freq_credit', 'word_freq_your', 'word_freq_font', 'word_freq_000',\n",
      "       'word_freq_money', 'word_freq_hp', 'word_freq_hpl', 'word_freq_george',\n",
      "       'word_freq_650', 'word_freq_lab', 'word_freq_labs', 'word_freq_telnet',\n",
      "       'word_freq_857', 'word_freq_data', 'word_freq_415', 'word_freq_85',\n",
      "       'word_freq_technology', 'word_freq_1999', 'word_freq_parts',\n",
      "       'word_freq_pm', 'word_freq_direct', 'word_freq_cs', 'word_freq_meeting',\n",
      "       'word_freq_original', 'word_freq_project', 'word_freq_re',\n",
      "       'word_freq_edu', 'word_freq_table', 'word_freq_conference',\n",
      "       'char_freq_;', 'char_freq_(', 'char_freq_[', 'char_freq_!',\n",
      "       'char_freq_$', 'char_freq_#', 'capital_run_length_average',\n",
      "       'capital_run_length_longest', 'capital_run_length_total', 'spam'],\n",
      "      dtype='object')\n"
     ]
    }
   ],
   "source": [
    "print(dataset.columns)\n",
    "\n"
   ]
  },
  {
   "cell_type": "markdown",
   "id": "fd5762c49a3369dc",
   "metadata": {
    "jupyter": {
     "outputs_hidden": false
    }
   },
   "source": [
    "Para obtener las palábras más usadas podemos hacer un `groupby`:"
   ]
  },
  {
   "cell_type": "code",
   "execution_count": 161,
   "id": "aa93f67db28da6ff",
   "metadata": {
    "ExecuteTime": {
     "end_time": "2024-04-11T15:52:16.147047Z",
     "start_time": "2024-04-11T15:52:16.143891Z"
    },
    "collapsed": false,
    "jupyter": {
     "outputs_hidden": false
    },
    "tags": []
   },
   "outputs": [
    {
     "name": "stdout",
     "output_type": "stream",
     "text": [
      "   spam  word_freq_make  word_freq_address  word_freq_all  word_freq_3d  \\\n",
      "0     0          204.86             681.57         559.22          2.47   \n",
      "1     1          276.19             298.51         732.08        298.55   \n",
      "\n",
      "   word_freq_our  word_freq_over  word_freq_remove  word_freq_internet  \\\n",
      "0         504.74          124.19             26.16              107.10   \n",
      "1         931.80          317.05            499.31              377.36   \n",
      "\n",
      "   word_freq_order  ...  word_freq_conference  char_freq_;  char_freq_(  \\\n",
      "0           106.08  ...                142.82      140.183      442.116   \n",
      "1           308.32  ...                  3.81       37.299      197.563   \n",
      "\n",
      "   char_freq_[  char_freq_!  char_freq_$  char_freq_#  \\\n",
      "0       63.242      306.634       32.476       60.536   \n",
      "1       14.864      931.361      316.329      143.004   \n",
      "\n",
      "   capital_run_length_average  capital_run_length_longest  \\\n",
      "0                    6627.915                       50782   \n",
      "1                   17258.246                      189265   \n",
      "\n",
      "   capital_run_length_total  \n",
      "0                    450181  \n",
      "1                    853233  \n",
      "\n",
      "[2 rows x 58 columns]\n"
     ]
    }
   ],
   "source": [
    "column_sum = dataset.groupby(by=\"spam\", as_index=False).sum()\n",
    "print(column_sum)"
   ]
  },
  {
   "cell_type": "markdown",
   "id": "efab4e7c21dd0461",
   "metadata": {
    "jupyter": {
     "outputs_hidden": false
    }
   },
   "source": [
    "Y despues se pueden combinar las columnas en usando [pd.melt](https://pandas.pydata.org/docs/reference/api/pandas.melt.html)"
   ]
  },
  {
   "cell_type": "code",
   "execution_count": 162,
   "id": "a05390e27958e98b",
   "metadata": {
    "ExecuteTime": {
     "end_time": "2024-04-11T15:52:16.150961Z",
     "start_time": "2024-04-11T15:52:16.147743Z"
    },
    "collapsed": false,
    "jupyter": {
     "outputs_hidden": false
    },
    "tags": []
   },
   "outputs": [
    {
     "name": "stdout",
     "output_type": "stream",
     "text": [
      "      word_freq_make  word_freq_address  word_freq_all  word_freq_3d  \\\n",
      "0                  0                 64             64             0   \n",
      "1                 21                 28             50             0   \n",
      "2                  6                  0             71             0   \n",
      "3                  0                  0              0             0   \n",
      "4                  0                  0              0             0   \n",
      "...              ...                ...            ...           ...   \n",
      "4596              31                  0             62             0   \n",
      "4597               0                  0              0             0   \n",
      "4598              30                  0             30             0   \n",
      "4599              96                  0              0             0   \n",
      "4600               0                  0             65             0   \n",
      "\n",
      "      word_freq_our  word_freq_over  word_freq_remove  word_freq_internet  \\\n",
      "0                32               0                 0                   0   \n",
      "1                14              28                21                   7   \n",
      "2               123              19                19                  12   \n",
      "3                63               0                31                  63   \n",
      "4                63               0                31                  63   \n",
      "...             ...             ...               ...                 ...   \n",
      "4596              0              31                 0                   0   \n",
      "4597              0               0                 0                   0   \n",
      "4598              0               0                 0                   0   \n",
      "4599             32               0                 0                   0   \n",
      "4600              0               0                 0                   0   \n",
      "\n",
      "      word_freq_order  word_freq_mail  ...  word_freq_conference  char_freq_;  \\\n",
      "0                   0               0  ...                     0            0   \n",
      "1                   0              94  ...                     0            0   \n",
      "2                  64              25  ...                     0            1   \n",
      "3                  31              63  ...                     0            0   \n",
      "4                  31              63  ...                     0            0   \n",
      "...               ...             ...  ...                   ...          ...   \n",
      "4596                0               0  ...                     0            0   \n",
      "4597                0               0  ...                     0            0   \n",
      "4598                0               0  ...                     0           10   \n",
      "4599                0               0  ...                     0            0   \n",
      "4600                0               0  ...                     0            0   \n",
      "\n",
      "      char_freq_(  char_freq_[  char_freq_!  char_freq_$  char_freq_#  \\\n",
      "0               0            0           77            0            0   \n",
      "1              13            0           37           18            4   \n",
      "2              14            0           27           18            1   \n",
      "3              13            0           13            0            0   \n",
      "4              13            0           13            0            0   \n",
      "...           ...          ...          ...          ...          ...   \n",
      "4596           23            0            0            0            0   \n",
      "4597            0            0           35            0            0   \n",
      "4598           71            0            0            0            0   \n",
      "4599            5            0            0            0            0   \n",
      "4600            0            0           12            0            0   \n",
      "\n",
      "      capital_run_length_average  capital_run_length_longest  \\\n",
      "0                            375                        6100   \n",
      "1                            511                       10100   \n",
      "2                            982                       48500   \n",
      "3                            353                        4000   \n",
      "4                            353                        4000   \n",
      "...                          ...                         ...   \n",
      "4596                         114                         300   \n",
      "4597                         155                         400   \n",
      "4598                         140                         600   \n",
      "4599                         114                         500   \n",
      "4600                         125                         500   \n",
      "\n",
      "      capital_run_length_total  \n",
      "0                        27800  \n",
      "1                       102800  \n",
      "2                       225900  \n",
      "3                        19100  \n",
      "4                        19100  \n",
      "...                        ...  \n",
      "4596                      8800  \n",
      "4597                      1400  \n",
      "4598                     11800  \n",
      "4599                      7800  \n",
      "4600                      4000  \n",
      "\n",
      "[4601 rows x 57 columns]\n"
     ]
    }
   ],
   "source": [
    "# Obtenemos los atributos y target\n",
    "X = (dataset.drop(columns=\"spam\") * 100).astype(int)\n",
    "print (X)\n",
    "#X = dataset2.drop(columns=\"spam\")\n",
    "y = dataset[\"spam\"]\n",
    "#print (y)"
   ]
  },
  {
   "cell_type": "markdown",
   "id": "c904db8b-461b-4c26-b6fe-4c501d009d76",
   "metadata": {},
   "source": [
    "### las top 10 palabras en spam:"
   ]
  },
  {
   "cell_type": "code",
   "execution_count": 163,
   "id": "76a9e6364b4d74b",
   "metadata": {
    "ExecuteTime": {
     "end_time": "2024-04-11T15:52:16.168004Z",
     "start_time": "2024-04-11T15:52:16.164460Z"
    },
    "collapsed": false,
    "jupyter": {
     "outputs_hidden": false
    },
    "tags": []
   },
   "outputs": [
    {
     "name": "stdout",
     "output_type": "stream",
     "text": [
      "Top 10 palabras en SPAM:\n",
      "capital_run_length_total      853233.000\n",
      "capital_run_length_longest    189265.000\n",
      "capital_run_length_average     17258.246\n",
      "word_freq_you                   4105.610\n",
      "word_freq_your                  2502.610\n",
      "word_freq_will                   997.100\n",
      "word_freq_free                   939.790\n",
      "word_freq_our                    931.800\n",
      "char_freq_!                      931.361\n",
      "word_freq_all                    732.080\n",
      "Name: 1, dtype: float64\n"
     ]
    },
    {
     "data": {
      "text/plain": [
       "'\\n# Ordenamos por el valor de la frecuencia total\\ntop10_spam_words = spam_sum_t[0].sort_values(ascending=False).head(10)\\n\\n'"
      ]
     },
     "execution_count": 163,
     "metadata": {},
     "output_type": "execute_result"
    }
   ],
   "source": [
    "# Filtramos la fila de spam=1 y quitamos la columna 'spam'\n",
    "spam_sum = column_sum[column_sum[\"spam\"] == 1].drop(columns=\"spam\")\n",
    "#print(spam_sum)\n",
    "\n",
    "# Trasponemos para tener las columnas como filas y poder ordenar\n",
    "spam_sum_t = spam_sum.T\n",
    "#print(spam_sum_t)\n",
    "top10_spam_words = spam_sum_t.iloc[:, 0].sort_values(ascending=False).head(10)\n",
    "print(\"Top 10 palabras en SPAM:\")\n",
    "print(top10_spam_words)\n",
    "\"\"\"\n",
    "# Ordenamos por el valor de la frecuencia total\n",
    "top10_spam_words = spam_sum_t[0].sort_values(ascending=False).head(10)\n",
    "\n",
    "\"\"\""
   ]
  },
  {
   "cell_type": "markdown",
   "id": "ca759945-9b37-4edf-a3fc-31cd4852c76f",
   "metadata": {
    "tags": []
   },
   "source": [
    "### las top 10 palabras en spam"
   ]
  },
  {
   "cell_type": "code",
   "execution_count": 164,
   "id": "54d7efa0-07be-4858-9148-81324b1f64f9",
   "metadata": {
    "tags": []
   },
   "outputs": [
    {
     "name": "stdout",
     "output_type": "stream",
     "text": [
      "Top 10 palabras en NO SPAM:\n",
      "capital_run_length_total      450181.000\n",
      "capital_run_length_longest     50782.000\n",
      "capital_run_length_average      6627.915\n",
      "word_freq_you                   3541.710\n",
      "word_freq_george                3527.560\n",
      "word_freq_hp                    2496.580\n",
      "word_freq_will                  1495.270\n",
      "word_freq_your                  1223.100\n",
      "word_freq_hpl                   1204.400\n",
      "word_freq_re                    1159.140\n",
      "Name: 0, dtype: float64\n"
     ]
    }
   ],
   "source": [
    "nonspam_sum = column_sum[column_sum[\"spam\"] == 0].drop(columns=\"spam\")\n",
    "nonspam_sum_t = nonspam_sum.T\n",
    "top10_nonspam_words = nonspam_sum_t[0].sort_values(ascending=False).head(10)\n",
    "print(\"Top 10 palabras en NO SPAM:\")\n",
    "print(top10_nonspam_words)\n"
   ]
  },
  {
   "cell_type": "markdown",
   "id": "bf622a1c-20b8-491b-a470-e2461aa2f38b",
   "metadata": {},
   "source": [
    "## Conclusión"
   ]
  },
  {
   "cell_type": "markdown",
   "id": "b9d13585-0da7-4306-849c-9eff0564f562",
   "metadata": {},
   "source": [
    "### Análisis de las 10 palabras más frecuentes en SPAM y NO SPAM\n",
    "\n",
    "#### 1. **Presencia destacada de características relacionadas con el uso de mayúsculas (`capital_run_length_*`):**\n",
    "- Las variables `capital_run_length_total`, `capital_run_length_longest` y `capital_run_length_average` aparecen en el **top 10** de ambas clases (SPAM y NO SPAM).\n",
    "- Esto sugiere que la **distribución y magnitud de caracteres en mayúsculas** es relevante en el conjunto de datos, independientemente de si el correo es SPAM o NO SPAM.\n",
    "- Sin embargo, por sí solas estas características no son suficientes para diferenciar claramente entre SPAM y NO SPAM.\n",
    "\n",
    "#### 2. **Palabras comunes en ambas categorías:**\n",
    "- Palabras como **\"you\"** y **\"your\"** aparecen en el **top 10** de ambas clases.\n",
    "- Esto indica que ciertos términos son de **uso generalizado** en correos electrónicos, tanto legítimos como no legítimos.\n",
    "- La mera presencia de estas palabras no permite diferenciar claramente entre SPAM y NO SPAM.\n",
    "\n",
    "#### 3. **Palabras más asociadas a SPAM:**\n",
    "- En la lista de SPAM destacan términos como **\"free\"** y un alto uso del carácter **`!`** (`char_freq_!`).\n",
    "- Esto refleja que los correos SPAM suelen contener **ofertas gratuitas** o frases llamativas que utilizan signos de exclamación.\n",
    "\n",
    "#### 4. **Palabras más asociadas a NO SPAM:**\n",
    "- En la lista de NO SPAM aparecen términos como **\"george\"**, **\"hp\"**, y **\"hpl\"**.\n",
    "- Estas palabras sugieren **contextos personales, técnicos o laborales**, propios de correos legítimos y menos frecuentes en correos SPAM.\n",
    "\n",
    "#### 5. **Conclusión global:**\n",
    "- Las métricas relacionadas con **mayúsculas** son fuertes en ambos casos, pero no son completamente discriminantes.\n",
    "- Palabras comunes como **\"you\"** y **\"your\"** no son útiles como atributos por sí solas.\n",
    "- Palabras como **\"free\"** y el uso del carácter **`!`** son indicativos más fuertes de SPAM.\n",
    "- Los correos NO SPAM tienden a incluir términos **contextuales o personales** como nombres propios o términos técnicos.\n",
    "\n",
    "En definitiva, la detección de SPAM no se basa únicamente en la presencia de una o dos palabras, sino en **patrones combinados** que incluyen vocabulario específico, uso de puntuación y otras métricas relacionadas con el texto.\n",
    "\n"
   ]
  },
  {
   "cell_type": "markdown",
   "id": "cebc3084-be65-4ecc-b6f3-754b336cbc17",
   "metadata": {},
   "source": [
    "# Punto 2\n",
    "Se separa el dataset en entrenamiento y evaluación"
   ]
  },
  {
   "cell_type": "code",
   "execution_count": 165,
   "id": "1aee6212-66a2-47ca-9f1f-6dddcdfe2d35",
   "metadata": {
    "tags": []
   },
   "outputs": [
    {
     "name": "stdout",
     "output_type": "stream",
     "text": [
      "X_train:\n",
      "      word_freq_make  word_freq_address  word_freq_all  word_freq_3d  \\\n",
      "4480               0                  0              0             0   \n",
      "206                0                  0             55             0   \n",
      "2749               0                  0              0             0   \n",
      "1444              60                  0             36             0   \n",
      "867                0                  0              0             0   \n",
      "...              ...                ...            ...           ...   \n",
      "2163               0                  0              0             0   \n",
      "1031               0                  0             32             0   \n",
      "2656               0                  0              0             0   \n",
      "4006               0                  0              0             0   \n",
      "3089             100                  0            100             0   \n",
      "\n",
      "      word_freq_our  word_freq_over  word_freq_remove  word_freq_internet  \\\n",
      "4480              0               0                 0                   0   \n",
      "206              55               0                 0                   0   \n",
      "2749              0               0                 0                   0   \n",
      "1444            144               0                 0                   0   \n",
      "867               0               0                 0                   0   \n",
      "...             ...             ...               ...                 ...   \n",
      "2163             31               0                31                   0   \n",
      "1031             65              65                32                  32   \n",
      "2656              0               0                 0                   0   \n",
      "4006              0               0                 0                   0   \n",
      "3089            100             100                 0                   0   \n",
      "\n",
      "      word_freq_order  word_freq_mail  ...  word_freq_conference  char_freq_;  \\\n",
      "4480                0               0  ...                     0           35   \n",
      "206                 0              55  ...                     0            0   \n",
      "2749                0               0  ...                     0            0   \n",
      "1444               24             132  ...                     0            0   \n",
      "867                 0               0  ...                     0            0   \n",
      "...               ...             ...  ...                   ...          ...   \n",
      "2163               31               0  ...                     0            0   \n",
      "1031                0               0  ...                     0            0   \n",
      "2656                0               0  ...                     0            0   \n",
      "4006                0               0  ...                   172            0   \n",
      "3089                0               0  ...                     0            0   \n",
      "\n",
      "      char_freq_(  char_freq_[  char_freq_!  char_freq_$  char_freq_#  \\\n",
      "4480           35            0            0            0            0   \n",
      "206             9            0           89            0            0   \n",
      "2749            0            0            0            0            0   \n",
      "1444            4            0           10           20            0   \n",
      "867             0            0          473            0            0   \n",
      "...           ...          ...          ...          ...          ...   \n",
      "2163           25           10            0            0           25   \n",
      "1031           11            0            0           16            0   \n",
      "2656            0            0            0            0            0   \n",
      "4006            0            0            0            0            0   \n",
      "3089           32            0           48            0            0   \n",
      "\n",
      "      capital_run_length_average  capital_run_length_longest  \\\n",
      "4480                         100                         100   \n",
      "206                          212                        1600   \n",
      "2749                         116                         200   \n",
      "1444                         354                        5400   \n",
      "867                          266                        1100   \n",
      "...                          ...                         ...   \n",
      "2163                         354                        4600   \n",
      "1031                         149                        1000   \n",
      "2656                         113                         300   \n",
      "4006                         120                         400   \n",
      "3089                         229                        2200   \n",
      "\n",
      "      capital_run_length_total  \n",
      "4480                       100  \n",
      "206                      12100  \n",
      "2749                      2100  \n",
      "1444                     47900  \n",
      "867                       2400  \n",
      "...                        ...  \n",
      "2163                     25900  \n",
      "1031                     13900  \n",
      "2656                      1700  \n",
      "4006                      1800  \n",
      "3089                      5500  \n",
      "\n",
      "[3220 rows x 57 columns]\n",
      "y_train:\n",
      "4480    0\n",
      "206     1\n",
      "2749    0\n",
      "1444    1\n",
      "867     1\n",
      "       ..\n",
      "2163    0\n",
      "1031    1\n",
      "2656    0\n",
      "4006    0\n",
      "3089    0\n",
      "Name: spam, Length: 3220, dtype: int64\n",
      "X_test:\n",
      "      word_freq_make  word_freq_address  word_freq_all  word_freq_3d  \\\n",
      "3681               0                  0              0             0   \n",
      "1581               0                  0              0             0   \n",
      "2763               0                  0              0             0   \n",
      "137              100                  0             33             0   \n",
      "4575               0                  0              0             0   \n",
      "...              ...                ...            ...           ...   \n",
      "1829               0                  0              0             0   \n",
      "2239               0                  0              0             0   \n",
      "341                0                  0            129             0   \n",
      "3961               0                  0              0             0   \n",
      "2995               0                  0              0             0   \n",
      "\n",
      "      word_freq_our  word_freq_over  word_freq_remove  word_freq_internet  \\\n",
      "3681              0               0                 0                   0   \n",
      "1581              0               0                 0                   0   \n",
      "2763              0               0                 0                   0   \n",
      "137              66              66                 0                   0   \n",
      "4575              0               0                 0                   0   \n",
      "...             ...             ...               ...                 ...   \n",
      "1829              0               0                 0                   0   \n",
      "2239              0               0                 0                  13   \n",
      "341               0               0                 0                   0   \n",
      "3961             47               0                 0                   0   \n",
      "2995              0               0                 0                   0   \n",
      "\n",
      "      word_freq_order  word_freq_mail  ...  word_freq_conference  char_freq_;  \\\n",
      "3681                0               0  ...                     0            0   \n",
      "1581                0               0  ...                     0            0   \n",
      "2763                0               0  ...                   476            0   \n",
      "137                 0               0  ...                     0            0   \n",
      "4575                0             138  ...                     0            0   \n",
      "...               ...             ...  ...                   ...          ...   \n",
      "1829                0               0  ...                     0            0   \n",
      "2239                0              13  ...                    13            7   \n",
      "341                 0               0  ...                     0            0   \n",
      "3961                0               0  ...                     0            0   \n",
      "2995                0               0  ...                     0            0   \n",
      "\n",
      "      char_freq_(  char_freq_[  char_freq_!  char_freq_$  char_freq_#  \\\n",
      "3681            0            0            0            0            0   \n",
      "1581            0            0           67            0            0   \n",
      "2763            0            0            0            0            0   \n",
      "137             6            0           12           54            0   \n",
      "4575           21            0            0            0            0   \n",
      "...           ...          ...          ...          ...          ...   \n",
      "1829            0            0           54            0            0   \n",
      "2239            7            0            0            0            0   \n",
      "341             0            0            0           19            0   \n",
      "3961           21            0            0            0            0   \n",
      "2995           25           25            0            0            0   \n",
      "\n",
      "      capital_run_length_average  capital_run_length_longest  \\\n",
      "3681                         100                         100   \n",
      "1581                         223                        1200   \n",
      "2763                         180                         500   \n",
      "137                          542                        2100   \n",
      "4575                         172                        1100   \n",
      "...                          ...                         ...   \n",
      "1829                         200                         400   \n",
      "2239                         206                        2300   \n",
      "341                          423                        2500   \n",
      "3961                         167                         500   \n",
      "2995                         223                        1200   \n",
      "\n",
      "      capital_run_length_total  \n",
      "3681                       300  \n",
      "1581                      2900  \n",
      "2763                       900  \n",
      "137                      30400  \n",
      "4575                      4300  \n",
      "...                        ...  \n",
      "1829                      1600  \n",
      "2239                     32200  \n",
      "341                       5500  \n",
      "3961                      9900  \n",
      "2995                      3800  \n",
      "\n",
      "[1381 rows x 57 columns]\n",
      "y_test:\n",
      "3681    0\n",
      "1581    1\n",
      "2763    0\n",
      "137     1\n",
      "4575    0\n",
      "       ..\n",
      "1829    0\n",
      "2239    0\n",
      "341     1\n",
      "3961    0\n",
      "2995    0\n",
      "Name: spam, Length: 1381, dtype: int64\n"
     ]
    }
   ],
   "source": [
    "X_train, X_test, y_train, y_test= train_test_split(X, y, test_size = 0.3)\n",
    "print(\"X_train:\")\n",
    "print(X_train)\n",
    "print(\"y_train:\")\n",
    "print(y_train)\n",
    "\n",
    "print(\"X_test:\")\n",
    "print(X_test)\n",
    "print(\"y_test:\")\n",
    "print(y_test)"
   ]
  },
  {
   "cell_type": "markdown",
   "id": "158f640e-212f-4690-88fe-f5a20b82fe8f",
   "metadata": {},
   "source": [
    "# Punto 3"
   ]
  },
  {
   "cell_type": "code",
   "execution_count": 166,
   "id": "07a3584a-4449-473a-97de-db3a52eb18ce",
   "metadata": {
    "tags": []
   },
   "outputs": [
    {
     "data": {
      "text/html": [
       "<style>#sk-container-id-11 {color: black;}#sk-container-id-11 pre{padding: 0;}#sk-container-id-11 div.sk-toggleable {background-color: white;}#sk-container-id-11 label.sk-toggleable__label {cursor: pointer;display: block;width: 100%;margin-bottom: 0;padding: 0.3em;box-sizing: border-box;text-align: center;}#sk-container-id-11 label.sk-toggleable__label-arrow:before {content: \"▸\";float: left;margin-right: 0.25em;color: #696969;}#sk-container-id-11 label.sk-toggleable__label-arrow:hover:before {color: black;}#sk-container-id-11 div.sk-estimator:hover label.sk-toggleable__label-arrow:before {color: black;}#sk-container-id-11 div.sk-toggleable__content {max-height: 0;max-width: 0;overflow: hidden;text-align: left;background-color: #f0f8ff;}#sk-container-id-11 div.sk-toggleable__content pre {margin: 0.2em;color: black;border-radius: 0.25em;background-color: #f0f8ff;}#sk-container-id-11 input.sk-toggleable__control:checked~div.sk-toggleable__content {max-height: 200px;max-width: 100%;overflow: auto;}#sk-container-id-11 input.sk-toggleable__control:checked~label.sk-toggleable__label-arrow:before {content: \"▾\";}#sk-container-id-11 div.sk-estimator input.sk-toggleable__control:checked~label.sk-toggleable__label {background-color: #d4ebff;}#sk-container-id-11 div.sk-label input.sk-toggleable__control:checked~label.sk-toggleable__label {background-color: #d4ebff;}#sk-container-id-11 input.sk-hidden--visually {border: 0;clip: rect(1px 1px 1px 1px);clip: rect(1px, 1px, 1px, 1px);height: 1px;margin: -1px;overflow: hidden;padding: 0;position: absolute;width: 1px;}#sk-container-id-11 div.sk-estimator {font-family: monospace;background-color: #f0f8ff;border: 1px dotted black;border-radius: 0.25em;box-sizing: border-box;margin-bottom: 0.5em;}#sk-container-id-11 div.sk-estimator:hover {background-color: #d4ebff;}#sk-container-id-11 div.sk-parallel-item::after {content: \"\";width: 100%;border-bottom: 1px solid gray;flex-grow: 1;}#sk-container-id-11 div.sk-label:hover label.sk-toggleable__label {background-color: #d4ebff;}#sk-container-id-11 div.sk-serial::before {content: \"\";position: absolute;border-left: 1px solid gray;box-sizing: border-box;top: 0;bottom: 0;left: 50%;z-index: 0;}#sk-container-id-11 div.sk-serial {display: flex;flex-direction: column;align-items: center;background-color: white;padding-right: 0.2em;padding-left: 0.2em;position: relative;}#sk-container-id-11 div.sk-item {position: relative;z-index: 1;}#sk-container-id-11 div.sk-parallel {display: flex;align-items: stretch;justify-content: center;background-color: white;position: relative;}#sk-container-id-11 div.sk-item::before, #sk-container-id-11 div.sk-parallel-item::before {content: \"\";position: absolute;border-left: 1px solid gray;box-sizing: border-box;top: 0;bottom: 0;left: 50%;z-index: -1;}#sk-container-id-11 div.sk-parallel-item {display: flex;flex-direction: column;z-index: 1;position: relative;background-color: white;}#sk-container-id-11 div.sk-parallel-item:first-child::after {align-self: flex-end;width: 50%;}#sk-container-id-11 div.sk-parallel-item:last-child::after {align-self: flex-start;width: 50%;}#sk-container-id-11 div.sk-parallel-item:only-child::after {width: 0;}#sk-container-id-11 div.sk-dashed-wrapped {border: 1px dashed gray;margin: 0 0.4em 0.5em 0.4em;box-sizing: border-box;padding-bottom: 0.4em;background-color: white;}#sk-container-id-11 div.sk-label label {font-family: monospace;font-weight: bold;display: inline-block;line-height: 1.2em;}#sk-container-id-11 div.sk-label-container {text-align: center;}#sk-container-id-11 div.sk-container {/* jupyter's `normalize.less` sets `[hidden] { display: none; }` but bootstrap.min.css set `[hidden] { display: none !important; }` so we also need the `!important` here to be able to override the default hidden behavior on the sphinx rendered scikit-learn.org. See: https://github.com/scikit-learn/scikit-learn/issues/21755 */display: inline-block !important;position: relative;}#sk-container-id-11 div.sk-text-repr-fallback {display: none;}</style><div id=\"sk-container-id-11\" class=\"sk-top-container\"><div class=\"sk-text-repr-fallback\"><pre>MultinomialNB()</pre><b>In a Jupyter environment, please rerun this cell to show the HTML representation or trust the notebook. <br />On GitHub, the HTML representation is unable to render, please try loading this page with nbviewer.org.</b></div><div class=\"sk-container\" hidden><div class=\"sk-item\"><div class=\"sk-estimator sk-toggleable\"><input class=\"sk-toggleable__control sk-hidden--visually\" id=\"sk-estimator-id-11\" type=\"checkbox\" checked><label for=\"sk-estimator-id-11\" class=\"sk-toggleable__label sk-toggleable__label-arrow\">MultinomialNB</label><div class=\"sk-toggleable__content\"><pre>MultinomialNB()</pre></div></div></div></div></div>"
      ],
      "text/plain": [
       "MultinomialNB()"
      ]
     },
     "execution_count": 166,
     "metadata": {},
     "output_type": "execute_result"
    }
   ],
   "source": [
    "# Creamos el clasificador\n",
    "nb_clf = MultinomialNB()\n",
    "\n",
    "# Entrenamos el modelo con los datos de entrenamiento\n",
    "nb_clf.fit(X_train, y_train)\n"
   ]
  },
  {
   "cell_type": "markdown",
   "id": "08b3343b-1b31-4f5b-a36b-3981757ef912",
   "metadata": {},
   "source": [
    "Luego de las lienas anteriores el modelo aprendió qué palabras son más comunes en SPAM y cuáles en NO SPAM.\n",
    "Ha calculado las probabilidades necesarias para, cuando vea un nuevo correo (por ejemplo, uno en X_test), predecir si es SPAM o NO SPAM."
   ]
  },
  {
   "cell_type": "code",
   "execution_count": 167,
   "id": "832f60a0-d7f7-488e-95ec-91107885d666",
   "metadata": {
    "tags": []
   },
   "outputs": [
    {
     "name": "stdout",
     "output_type": "stream",
     "text": [
      "Clases del modelo: [0 1]\n"
     ]
    }
   ],
   "source": [
    "# Imprimir las clases que el modelo diferencia\n",
    "print(\"Clases del modelo:\", nb_clf.classes_)"
   ]
  },
  {
   "cell_type": "code",
   "execution_count": 168,
   "id": "6873b3ef-be39-43ea-bd73-bcf42d4e09f9",
   "metadata": {
    "tags": []
   },
   "outputs": [
    {
     "name": "stdout",
     "output_type": "stream",
     "text": [
      "Conteo de ejemplos por clase: [1944. 1276.]\n"
     ]
    }
   ],
   "source": [
    "# Cantidad de instancias de entrenamiento que corresponden a cada clase\n",
    "print(\"Conteo de ejemplos por clase:\", nb_clf.class_count_)"
   ]
  },
  {
   "cell_type": "code",
   "execution_count": 169,
   "id": "479586bf-f874-403b-af20-c3e01002b8b8",
   "metadata": {
    "tags": []
   },
   "outputs": [
    {
     "name": "stdout",
     "output_type": "stream",
     "text": [
      "Conteo de características por clase (feature_count_):\n",
      "[[1.262300e+04 4.780500e+04 3.965200e+04 1.360000e+02 3.511300e+04\n",
      "  8.772000e+03 2.023000e+03 7.409000e+03 7.188000e+03 3.265900e+04\n",
      "  3.807000e+03 1.031650e+05 1.282700e+04 7.901000e+03 1.336000e+03\n",
      "  1.632700e+04 1.041900e+04 1.888100e+04 2.409070e+05 1.425000e+03\n",
      "  8.088900e+04 5.546000e+03 1.293000e+03 3.605000e+03 1.754810e+05\n",
      "  8.898200e+04 2.505450e+05 3.887500e+04 3.366900e+04 3.146500e+04\n",
      "  2.057500e+04 1.570500e+04 2.997700e+04 1.579900e+04 3.429500e+04\n",
      "  2.659200e+04 3.805300e+04 3.925000e+03 2.448800e+04 1.701600e+04\n",
      "  1.400900e+04 4.631600e+04 1.380300e+04 2.522500e+04 7.786700e+04\n",
      "  5.354500e+04 2.133000e+03 1.033500e+04 7.720000e+03 3.058900e+04\n",
      "  3.962000e+03 2.181200e+04 1.967000e+03 3.469000e+03 4.439390e+05\n",
      "  3.377900e+06 3.040530e+07]\n",
      " [1.901800e+04 2.014000e+04 5.076800e+04 2.146400e+04 6.614900e+04\n",
      "  2.179100e+04 3.495900e+04 2.858700e+04 2.171300e+04 4.448900e+04\n",
      "  1.536800e+04 6.991300e+04 1.932000e+04 1.169100e+04 1.272800e+04\n",
      "  6.411500e+04 3.761400e+04 3.886600e+04 2.904940e+05 2.800300e+04\n",
      "  1.750120e+05 2.561800e+04 2.956300e+04 2.763200e+04 1.757000e+03\n",
      "  8.290000e+02 2.200000e+02 2.800000e+03 5.000000e+01 9.600000e+02\n",
      "  1.760000e+02 9.400000e+01 1.685000e+03 2.980000e+02 8.070000e+02\n",
      "  3.671000e+03 5.432000e+03 3.190000e+02 1.637000e+03 4.466000e+03\n",
      "  0.000000e+00 2.920000e+02 9.840000e+02 8.430000e+02 1.646600e+04\n",
      "  1.770000e+03 1.590000e+02 2.890000e+02 2.417000e+03 1.331400e+04\n",
      "  9.540000e+02 6.576600e+04 2.200700e+04 1.049000e+04 1.335001e+06\n",
      "  1.282060e+07 5.995870e+07]]\n"
     ]
    }
   ],
   "source": [
    "# Suma de frecuencias de cada característica (palabra) en cada clase\n",
    "# Esta matriz tiene dimensiones [n_clases, n_features]\n",
    "# Muestra cuántas veces aparece cada palabra en la clase spam y en la clase no spam (tras el smoothing aplicado)\n",
    "print(\"Conteo de características por clase (feature_count_):\")\n",
    "print(nb_clf.feature_count_)"
   ]
  },
  {
   "cell_type": "code",
   "execution_count": 170,
   "id": "904c2e3d-5c10-4e62-a604-a099107d8276",
   "metadata": {
    "tags": []
   },
   "outputs": [
    {
     "name": "stdout",
     "output_type": "stream",
     "text": [
      "Log-Probabilidades a priori de cada clase (class_log_prior_):\n",
      "[-0.50463365 -0.92565117]\n"
     ]
    }
   ],
   "source": [
    "# Logaritmo de la probabilidad a priori de cada clase\n",
    "print(\"Log-Probabilidades a priori de cada clase (class_log_prior_):\")\n",
    "print(nb_clf.class_log_prior_)"
   ]
  },
  {
   "cell_type": "code",
   "execution_count": 171,
   "id": "b9702ba6-bb2c-47c9-a013-b5562bff78b7",
   "metadata": {
    "tags": []
   },
   "outputs": [
    {
     "name": "stdout",
     "output_type": "stream",
     "text": [
      "Log-Probabilidades de las características dado cada clase (feature_log_prob_):\n",
      "[[ -7.95809092  -6.62653953  -6.81352408 -12.48146504  -6.93509077\n",
      "   -8.32201186  -9.78861493  -8.49086025  -8.5211386   -7.0075396\n",
      "   -9.15658657  -5.85735134  -7.9420604   -8.42657479 -10.20326239\n",
      "   -7.70080926  -8.14996365  -7.5554816   -5.00927557 -10.13881736\n",
      "   -6.10060048  -8.78043344 -10.23595249  -9.21109156  -5.32615421\n",
      "   -6.00524534  -4.97004815  -6.83331359  -6.97708345  -7.04478309\n",
      "   -7.46956534  -7.73964788  -7.09322691  -7.73368074  -6.95866196\n",
      "   -7.21304266  -6.85468448  -9.12606959  -7.29546665  -7.65947784\n",
      "   -7.85391932  -6.65818162  -7.86873228  -7.26581548  -6.1386756\n",
      "   -6.51314959  -9.73569253  -8.15805774  -8.44974679  -7.07301753\n",
      "   -9.11668937  -7.41118456  -9.81667289  -9.24953609  -4.39800127\n",
      "   -2.36868089  -0.17131844]\n",
      " [ -8.28579129  -8.22847223  -7.30394384  -8.16480607  -7.03930488\n",
      "   -8.14968684  -7.67702522  -7.87824272  -8.15327256  -7.43596533\n",
      "   -8.49887728  -6.98396386  -8.27003718  -8.77232492  -8.68734692\n",
      "   -7.07053583  -7.60382686  -7.57108421  -5.55964341  -7.89888241\n",
      "   -6.06636951  -7.98789551  -7.84467237  -7.91221906 -10.66705297\n",
      "  -11.41755935 -12.74082235 -10.20125328 -14.20715942 -11.27101064\n",
      "  -12.96283532 -13.58510816 -10.70887091 -12.43854148 -11.44442299\n",
      "   -9.9304933   -9.5387383  -12.37066405 -10.73775379  -9.73451273\n",
      "  -18.13898505 -12.45881244 -11.24634341 -11.40083256  -8.42987139\n",
      "  -10.65968541 -13.06381124 -12.46910413 -10.34828902  -8.64233855\n",
      "  -11.27727371  -7.04511158  -8.13982375  -8.88071202  -4.0345417\n",
      "   -1.77242116  -0.22981848]]\n"
     ]
    }
   ],
   "source": [
    "# Logaritmo de la probabilidad de cada característica dado cada clase\n",
    "# Tiene dimensiones [n_clases, n_features].\n",
    "# Por ejemplo, feature_log_prob_[0, :] muestra el log de P(palabra|NoSpam)\n",
    "# y feature_log_prob_[1, :] el log de P(palabra|Spam).\n",
    "print(\"Log-Probabilidades de las características dado cada clase (feature_log_prob_):\")\n",
    "print(nb_clf.feature_log_prob_)"
   ]
  },
  {
   "cell_type": "code",
   "execution_count": 172,
   "id": "66f46def-3b9c-41cc-b977-62c9243f2882",
   "metadata": {
    "tags": []
   },
   "outputs": [
    {
     "name": "stdout",
     "output_type": "stream",
     "text": [
      "Número total de características: 57\n"
     ]
    }
   ],
   "source": [
    "# Opcionalmente, puedes obtener el número de características\n",
    "n_features = nb_clf.feature_count_.shape[1]\n",
    "print(\"Número total de características:\", n_features)"
   ]
  },
  {
   "cell_type": "markdown",
   "id": "299e484d-86d1-4be2-b27b-cef222288c00",
   "metadata": {},
   "source": [
    "\n",
    "# Punto 4"
   ]
  },
  {
   "cell_type": "markdown",
   "id": "a4673a2a-aee3-4893-9a12-ad5cf2dbc4f4",
   "metadata": {},
   "source": [
    "### Escalamos para aplicar en regresión logística"
   ]
  },
  {
   "cell_type": "code",
   "execution_count": 173,
   "id": "11cd3f65-85b4-434a-89d9-71a8c7319cd3",
   "metadata": {
    "tags": []
   },
   "outputs": [],
   "source": [
    "scaler = MinMaxScaler()\n",
    "X_train_scaled = scaler.fit_transform(X_train)\n",
    "X_test_scaled = scaler.transform(X_test)\n",
    "\n",
    "# Lo transformamos en DataFrames\n",
    "X_train_scaled = pd.DataFrame(X_train_scaled, columns=X.columns)\n",
    "X_test_scaled = pd.DataFrame(X_test_scaled, columns=X.columns)"
   ]
  },
  {
   "cell_type": "code",
   "execution_count": 174,
   "id": "89b7e65d-dd76-44ff-a655-9e36367254c2",
   "metadata": {
    "tags": []
   },
   "outputs": [
    {
     "data": {
      "text/html": [
       "<style>#sk-container-id-12 {color: black;}#sk-container-id-12 pre{padding: 0;}#sk-container-id-12 div.sk-toggleable {background-color: white;}#sk-container-id-12 label.sk-toggleable__label {cursor: pointer;display: block;width: 100%;margin-bottom: 0;padding: 0.3em;box-sizing: border-box;text-align: center;}#sk-container-id-12 label.sk-toggleable__label-arrow:before {content: \"▸\";float: left;margin-right: 0.25em;color: #696969;}#sk-container-id-12 label.sk-toggleable__label-arrow:hover:before {color: black;}#sk-container-id-12 div.sk-estimator:hover label.sk-toggleable__label-arrow:before {color: black;}#sk-container-id-12 div.sk-toggleable__content {max-height: 0;max-width: 0;overflow: hidden;text-align: left;background-color: #f0f8ff;}#sk-container-id-12 div.sk-toggleable__content pre {margin: 0.2em;color: black;border-radius: 0.25em;background-color: #f0f8ff;}#sk-container-id-12 input.sk-toggleable__control:checked~div.sk-toggleable__content {max-height: 200px;max-width: 100%;overflow: auto;}#sk-container-id-12 input.sk-toggleable__control:checked~label.sk-toggleable__label-arrow:before {content: \"▾\";}#sk-container-id-12 div.sk-estimator input.sk-toggleable__control:checked~label.sk-toggleable__label {background-color: #d4ebff;}#sk-container-id-12 div.sk-label input.sk-toggleable__control:checked~label.sk-toggleable__label {background-color: #d4ebff;}#sk-container-id-12 input.sk-hidden--visually {border: 0;clip: rect(1px 1px 1px 1px);clip: rect(1px, 1px, 1px, 1px);height: 1px;margin: -1px;overflow: hidden;padding: 0;position: absolute;width: 1px;}#sk-container-id-12 div.sk-estimator {font-family: monospace;background-color: #f0f8ff;border: 1px dotted black;border-radius: 0.25em;box-sizing: border-box;margin-bottom: 0.5em;}#sk-container-id-12 div.sk-estimator:hover {background-color: #d4ebff;}#sk-container-id-12 div.sk-parallel-item::after {content: \"\";width: 100%;border-bottom: 1px solid gray;flex-grow: 1;}#sk-container-id-12 div.sk-label:hover label.sk-toggleable__label {background-color: #d4ebff;}#sk-container-id-12 div.sk-serial::before {content: \"\";position: absolute;border-left: 1px solid gray;box-sizing: border-box;top: 0;bottom: 0;left: 50%;z-index: 0;}#sk-container-id-12 div.sk-serial {display: flex;flex-direction: column;align-items: center;background-color: white;padding-right: 0.2em;padding-left: 0.2em;position: relative;}#sk-container-id-12 div.sk-item {position: relative;z-index: 1;}#sk-container-id-12 div.sk-parallel {display: flex;align-items: stretch;justify-content: center;background-color: white;position: relative;}#sk-container-id-12 div.sk-item::before, #sk-container-id-12 div.sk-parallel-item::before {content: \"\";position: absolute;border-left: 1px solid gray;box-sizing: border-box;top: 0;bottom: 0;left: 50%;z-index: -1;}#sk-container-id-12 div.sk-parallel-item {display: flex;flex-direction: column;z-index: 1;position: relative;background-color: white;}#sk-container-id-12 div.sk-parallel-item:first-child::after {align-self: flex-end;width: 50%;}#sk-container-id-12 div.sk-parallel-item:last-child::after {align-self: flex-start;width: 50%;}#sk-container-id-12 div.sk-parallel-item:only-child::after {width: 0;}#sk-container-id-12 div.sk-dashed-wrapped {border: 1px dashed gray;margin: 0 0.4em 0.5em 0.4em;box-sizing: border-box;padding-bottom: 0.4em;background-color: white;}#sk-container-id-12 div.sk-label label {font-family: monospace;font-weight: bold;display: inline-block;line-height: 1.2em;}#sk-container-id-12 div.sk-label-container {text-align: center;}#sk-container-id-12 div.sk-container {/* jupyter's `normalize.less` sets `[hidden] { display: none; }` but bootstrap.min.css set `[hidden] { display: none !important; }` so we also need the `!important` here to be able to override the default hidden behavior on the sphinx rendered scikit-learn.org. See: https://github.com/scikit-learn/scikit-learn/issues/21755 */display: inline-block !important;position: relative;}#sk-container-id-12 div.sk-text-repr-fallback {display: none;}</style><div id=\"sk-container-id-12\" class=\"sk-top-container\"><div class=\"sk-text-repr-fallback\"><pre>LogisticRegression(max_iter=1000, random_state=42)</pre><b>In a Jupyter environment, please rerun this cell to show the HTML representation or trust the notebook. <br />On GitHub, the HTML representation is unable to render, please try loading this page with nbviewer.org.</b></div><div class=\"sk-container\" hidden><div class=\"sk-item\"><div class=\"sk-estimator sk-toggleable\"><input class=\"sk-toggleable__control sk-hidden--visually\" id=\"sk-estimator-id-12\" type=\"checkbox\" checked><label for=\"sk-estimator-id-12\" class=\"sk-toggleable__label sk-toggleable__label-arrow\">LogisticRegression</label><div class=\"sk-toggleable__content\"><pre>LogisticRegression(max_iter=1000, random_state=42)</pre></div></div></div></div></div>"
      ],
      "text/plain": [
       "LogisticRegression(max_iter=1000, random_state=42)"
      ]
     },
     "execution_count": 174,
     "metadata": {},
     "output_type": "execute_result"
    }
   ],
   "source": [
    "logreg = LogisticRegression(max_iter=1000, random_state=42)\n",
    "logreg.fit(X_train_scaled, y_train)"
   ]
  },
  {
   "cell_type": "markdown",
   "id": "409974ed-7763-415c-a53e-8b13a6a179a6",
   "metadata": {},
   "source": [
    "# Punto 5\n",
    "### Evalúo el modelo de regresión logística "
   ]
  },
  {
   "cell_type": "code",
   "execution_count": 175,
   "id": "946a0bd3-879a-464a-8378-81a94faad961",
   "metadata": {
    "tags": []
   },
   "outputs": [],
   "source": [
    "y_pred_logreg = logreg.predict(X_test_scaled)"
   ]
  },
  {
   "cell_type": "code",
   "execution_count": 176,
   "id": "6abc6ede-87a7-4f38-b861-f67f30bc44f4",
   "metadata": {
    "tags": []
   },
   "outputs": [
    {
     "name": "stdout",
     "output_type": "stream",
     "text": [
      "Exactitud (Accuracy): 0.8841419261404779\n",
      "Precisión (Precision): 0.8918918918918919\n",
      "Recuperación (Recall): 0.7988826815642458\n",
      "\n",
      "Reporte de Clasificación:\n",
      "              precision    recall  f1-score   support\n",
      "\n",
      "           0       0.88      0.94      0.91       844\n",
      "           1       0.89      0.80      0.84       537\n",
      "\n",
      "    accuracy                           0.88      1381\n",
      "   macro avg       0.89      0.87      0.88      1381\n",
      "weighted avg       0.88      0.88      0.88      1381\n",
      "\n"
     ]
    }
   ],
   "source": [
    "accuracy = accuracy_score(y_test, y_pred_logreg)\n",
    "precision = precision_score(y_test, y_pred_logreg)\n",
    "recall = recall_score(y_test, y_pred_logreg)\n",
    "\n",
    "print(\"Exactitud (Accuracy):\", accuracy)\n",
    "print(\"Precisión (Precision):\", precision)\n",
    "print(\"Recuperación (Recall):\", recall)\n",
    "print(\"\\nReporte de Clasificación:\")\n",
    "print(classification_report(y_test, y_pred_logreg))"
   ]
  },
  {
   "cell_type": "markdown",
   "id": "a66f475b-da5c-4edc-a462-aa3884efd505",
   "metadata": {},
   "source": [
    "### Evaluando el modelo de classificador de Bayes Ingenuo"
   ]
  },
  {
   "cell_type": "code",
   "execution_count": 177,
   "id": "5011f3ba-7a76-4d69-a626-13cf66572f1d",
   "metadata": {
    "tags": []
   },
   "outputs": [
    {
     "name": "stdout",
     "output_type": "stream",
     "text": [
      "Accuracy: 0.7958001448225923\n",
      "Precision: 0.7240773286467487\n",
      "Recall: 0.7672253258845437\n",
      "\n",
      "Reporte de clasificación:\n",
      "              precision    recall  f1-score   support\n",
      "\n",
      "           0       0.85      0.81      0.83       844\n",
      "           1       0.72      0.77      0.75       537\n",
      "\n",
      "    accuracy                           0.80      1381\n",
      "   macro avg       0.79      0.79      0.79      1381\n",
      "weighted avg       0.80      0.80      0.80      1381\n",
      "\n"
     ]
    }
   ],
   "source": [
    "# Realizar las predicciones sobre el conjunto de prueba\n",
    "y_pred_nb = nb_clf.predict(X_test)\n",
    "\n",
    "# Calcular métricas de evaluación\n",
    "accuracy = accuracy_score(y_test, y_pred_nb)\n",
    "precision = precision_score(y_test, y_pred_nb, average='binary')\n",
    "recall = recall_score(y_test, y_pred_nb, average='binary')\n",
    "\n",
    "print(\"Accuracy:\", accuracy)\n",
    "print(\"Precision:\", precision)\n",
    "print(\"Recall:\", recall)\n",
    "\n",
    "# También podemos obtener un reporte de clasificación más completo\n",
    "print(\"\\nReporte de clasificación:\")\n",
    "print(classification_report(y_test, y_pred_nb))"
   ]
  },
  {
   "cell_type": "code",
   "execution_count": 178,
   "id": "fba51cca-0f5f-439c-a786-cb93098984c8",
   "metadata": {
    "tags": []
   },
   "outputs": [
    {
     "data": {
      "image/png": "[encoded data removed]",
      "text/plain": [
       "<Figure size 640x480 with 2 Axes>"
      ]
     },
     "metadata": {},
     "output_type": "display_data"
    },
    {
     "data": {
      "image/png": "[encoded data removed]",
      "text/plain": [
       "<Figure size 640x480 with 2 Axes>"
      ]
     },
     "metadata": {},
     "output_type": "display_data"
    }
   ],
   "source": [
    "# Para Naive Bayes\n",
    "y_pred_nb = nb_clf.predict(X_test)  # Reemplazar X_test por X_test_scaled si fue escalado para LR\n",
    "cm_nb = confusion_matrix(y_test, y_pred_nb)\n",
    "disp_nb = ConfusionMatrixDisplay(confusion_matrix=cm_nb, display_labels=[\"No Spam\", \"Spam\"])\n",
    "disp_nb.plot()\n",
    "plt.title(\"Matriz de Confusión - Naive Bayes\")\n",
    "plt.show()\n",
    "\n",
    "# Para Regresión Logística\n",
    "y_pred_logreg = logreg.predict(X_test_scaled) # Asumiendo que se escaló para LR\n",
    "cm_logreg = confusion_matrix(y_test, y_pred_logreg)\n",
    "disp_logreg = ConfusionMatrixDisplay(confusion_matrix=cm_logreg, display_labels=[\"No Spam\", \"Spam\"])\n",
    "disp_logreg.plot()\n",
    "plt.title(\"Matriz de Confusión - Regresión Logística\")\n",
    "plt.show()"
   ]
  },
  {
   "cell_type": "markdown",
   "id": "bfe968f0-9b92-4975-bc22-49b4ac9acef4",
   "metadata": {},
   "source": [
    "### Análisis de los Errores en Cada Modelo\n",
    "\n",
    "**Matriz de Confusión - Naive Bayes:**\n",
    "\n",
    "|          | Pred. No Spam | Pred. Spam |\n",
    "|----------|---------------|------------|\n",
    "| No Spam  | 687 (VN)      | 157 (FP)   |\n",
    "| Spam     | 125 (FN)      | 412 (VP)   |\n",
    "\n",
    "- **Verdadero Negativo (VN):** 687  \n",
    "- **Falso Positivo (FP):** 157  \n",
    "- **Falso Negativo (FN):** 125  \n",
    "- **Verdadero Positivo (VP):** 412  \n",
    "\n",
    "---\n",
    "\n",
    "**Matriz de Confusión - Regresión Logística:**\n",
    "\n",
    "|          | Pred. No Spam | Pred. Spam |\n",
    "|----------|---------------|------------|\n",
    "| No Spam  | 792 (VN)      | 52 (FP)    |\n",
    "| Spam     | 108 (FN)      | 429 (VP)   |\n",
    "\n",
    "- **Verdadero Negativo (VN):** 792  \n",
    "- **Falso Positivo (FP):** 52  \n",
    "- **Falso Negativo (FN):** 108  \n",
    "- **Verdadero Positivo (VP):** 429  \n",
    "\n",
    "---\n",
    "\n",
    "### ¿Qué tipo de error comete más cada modelo?\n",
    "\n",
    "1. **Naive Bayes:**\n",
    "   - **Falsos Positivos (FP):** 157  \n",
    "     Naive Bayes clasifica incorrectamente más correos legítimos como Spam.  \n",
    "   - **Falsos Negativos (FN):** 125  \n",
    "     También comete errores dejando pasar correos Spam como No Spam.\n",
    "\n",
    "2. **Regresión Logística:**\n",
    "   - **Falsos Positivos (FP):** 52  \n",
    "     La Regresión Logística tiene un número significativamente menor de falsos positivos en comparación con Naive Bayes.  \n",
    "   - **Falsos Negativos (FN):** 108  \n",
    "     Aunque comete falsos negativos, estos son menos que los falsos positivos de Naive Bayes.\n",
    "\n",
    "---\n",
    "\n",
    "### ¿Cuál de los dos tipos de error es más importante?\n",
    "\n",
    "En el contexto del **filtrado de correos Spam**:\n",
    "\n",
    "- **Falsos Positivos (FP):**  \n",
    "  Un correo legítimo clasificado como Spam significa que el usuario podría **perder información importante**. Este es el error más crítico en este problema, ya que afecta directamente la experiencia del usuario al ocultar correos válidos.\n",
    "\n",
    "- **Falsos Negativos (FN):**  \n",
    "  Un correo Spam clasificado como No Spam implica que el usuario recibirá correos no deseados en su bandeja de entrada. Si bien esto es molesto, es menos grave que perder un correo importante.\n",
    "\n",
    "---\n",
    "\n",
    "### Conclusión\n",
    "\n",
    "- El modelo de **Regresión Logística** es claramente superior porque:  \n",
    "   - Tiene muchos menos **Falsos Positivos** (52 vs. 157) que Naive Bayes, reduciendo el riesgo de perder correos legítimos.  \n",
    "   - Aunque tiene **Falsos Negativos** (108), estos son comparables o incluso menores en magnitud a los de Naive Bayes (125).  \n",
    "\n",
    "Por lo tanto, la **Regresión Logística** es el modelo preferido, ya que minimiza el error más crítico (los Falsos Positivos) y ofrece un mejor equilibrio en la detección de correos Spam y la preservación de correos legítimos.\n"
   ]
  },
  {
   "cell_type": "markdown",
   "id": "509b4884-7aa1-46f1-8282-1a640b8174ea",
   "metadata": {},
   "source": [
    "# Punto 6"
   ]
  },
  {
   "cell_type": "markdown",
   "id": "f8475b9e-2baf-4c46-8006-ea9c0b992a28",
   "metadata": {},
   "source": [
    "### Cálculo de Precisión y Recuperación\n",
    "\n",
    "A partir de las matrices de confusión:\n",
    "\n",
    "**Naive Bayes**  \n",
    "- Verdadero Positivo (VP) = 412  \n",
    "- Falso Positivo (FP) = 157  \n",
    "- Falso Negativo (FN) = 125  \n",
    "- Verdadero Negativo (VN) = 687  \n",
    "\n",
    "**Regresión Logística**  \n",
    "- Verdadero Positivo (VP) = 429  \n",
    "- Falso Positivo (FP) = 52  \n",
    "- Falso Negativo (FN) = 108  \n",
    "- Verdadero Negativo (VN) = 792  \n",
    "\n",
    "---\n",
    "\n",
    "### Fórmulas:\n",
    "\n",
    "$$\n",
    "\\text{Precisión} = \\frac{VP}{VP + FP} \\quad,\\quad \\text{Recuperación} = \\frac{VP}{VP + FN}\n",
    "$$\n",
    "\n",
    "---\n",
    "\n",
    "### Cálculos:\n",
    "\n",
    "**Naive Bayes:**\n",
    "- **Precisión:**\n",
    "$$\n",
    "\\frac{412}{412 + 157} = \\frac{412}{569} \\approx 0.724\n",
    "$$\n",
    "\n",
    "- **Recuperación:**\n",
    "$$\n",
    "\\frac{412}{412 + 125} = \\frac{412}{537} \\approx 0.767\n",
    "$$\n",
    "\n",
    "**Regresión Logística:**\n",
    "- **Precisión:**\n",
    "$$\n",
    "\\frac{429}{429 + 52} = \\frac{429}{481} \\approx 0.892\n",
    "$$\n",
    "\n",
    "- **Recuperación:**\n",
    "$$\n",
    "\\frac{429}{429 + 108} = \\frac{429}{537} \\approx 0.799\n",
    "$$\n",
    "\n",
    "---\n",
    "\n",
    "### Análisis de las Métricas:\n",
    "\n",
    "1. **Precisión (Minimización de Falsos Positivos):**  \n",
    "   - La Regresión Logística tiene una precisión **mucho mayor** (0.892) en comparación con Naive Bayes (0.724).  \n",
    "   - Esto significa que, cuando la Regresión Logística predice que un correo es **Spam**, es mucho más probable que acierte, reduciendo significativamente los **Falsos Positivos** (FP).  \n",
    "\n",
    "2. **Recuperación (Minimización de Falsos Negativos):**  \n",
    "   - La Regresión Logística también supera a Naive Bayes en recuperación: 0.799 frente a 0.767.  \n",
    "   - Esto indica que la Regresión Logística detecta una **mayor proporción de correos Spam**, dejando pasar menos **Falsos Negativos** (FN) en comparación con Naive Bayes.\n",
    "\n",
    "---\n",
    "\n",
    "### Relación con los Tipos de Errores Analizados\n",
    "\n",
    "- **Precisión y Falsos Positivos (FP):**  \n",
    "  La precisión está directamente relacionada con los **Falsos Positivos**. La **Regresión Logística**, al tener solo **52 FP** frente a **157 FP** de Naive Bayes, logra una precisión más alta. Esto es crucial, ya que minimizar los FP evita clasificar correos legítimos como Spam.\n",
    "\n",
    "- **Recuperación y Falsos Negativos (FN):**  \n",
    "  La recuperación está relacionada con los **Falsos Negativos**. La **Regresión Logística** tiene menos FN (**108**) comparado con Naive Bayes (**125**), lo que le permite detectar más correos Spam correctamente.\n",
    "\n",
    "---\n",
    "\n",
    "### Conclusión:\n",
    "\n",
    "La **Regresión Logística** es el mejor modelo en ambas métricas:\n",
    "- **Mayor Precisión (0.892):** Clasifica con mayor confianza los correos Spam, reduciendo los Falsos Positivos.  \n",
    "- **Mayor Recuperación (0.799):** Detecta una mayor proporción de correos Spam, minimizando los Falsos Negativos.  \n",
    "\n",
    "Estas métricas confirman que la Regresión Logística ofrece un mejor equilibrio entre evitar **Falsos Positivos** (que implican pérdida de correos legítimos) y reducir **Falsos Negativos** (que permiten que correos Spam lleguen a la bandeja de entrada).\n"
   ]
  },
  {
   "cell_type": "markdown",
   "id": "e1e741f6-4e6c-4785-b019-0a25731e7828",
   "metadata": {},
   "source": [
    "# Punto 7"
   ]
  },
  {
   "cell_type": "code",
   "execution_count": 182,
   "id": "cce8f507-8a6f-459d-b881-aba67550965c",
   "metadata": {
    "tags": []
   },
   "outputs": [],
   "source": [
    "y_prob_nb = nb_clf.predict_proba(X_test)[:, 1]\n",
    "y_prob_logreg = logreg.predict_proba(X_test_scaled)[:, 1]\n"
   ]
  },
  {
   "cell_type": "code",
   "execution_count": 183,
   "id": "77a1dd38-0341-406a-b427-121ccd8a9ed3",
   "metadata": {
    "tags": []
   },
   "outputs": [],
   "source": [
    "# Curva ROC para Naive Bayes\n",
    "fpr_nb, tpr_nb, thresholds_nb = roc_curve(y_test, y_prob_nb)\n",
    "auc_nb = roc_auc_score(y_test, y_prob_nb)\n",
    "\n",
    "# Curva ROC para Regresión Logística\n",
    "fpr_logreg, tpr_logreg, thresholds_logreg = roc_curve(y_test, y_prob_logreg)\n",
    "auc_logreg = roc_auc_score(y_test, y_prob_logreg)\n"
   ]
  },
  {
   "cell_type": "code",
   "execution_count": 184,
   "id": "7336814f-c41a-4ae7-84f6-b50bb2620130",
   "metadata": {
    "tags": []
   },
   "outputs": [
    {
     "data": {
      "image/png": "[encoded data removed]",
      "text/plain": [
       "<Figure size 800x600 with 1 Axes>"
      ]
     },
     "metadata": {},
     "output_type": "display_data"
    }
   ],
   "source": [
    "plt.figure(figsize=(8,6))\n",
    "plt.plot(fpr_nb, tpr_nb, label=f'Naive Bayes (AUC = {auc_nb:.2f})')\n",
    "plt.plot(fpr_logreg, tpr_logreg, label=f'Regresión Logística (AUC = {auc_logreg:.2f})')\n",
    "plt.plot([0, 1], [0, 1], 'k--', label='Azar (AUC = 0.5)')\n",
    "\n",
    "plt.xlabel('Tasa de Falsos Positivos (FPR)')\n",
    "plt.ylabel('Tasa de Verdaderos Positivos (TPR)')\n",
    "plt.title('Curvas ROC')\n",
    "plt.legend(loc='lower right')\n",
    "plt.show()\n"
   ]
  },
  {
   "cell_type": "markdown",
   "id": "fb977250-1f8a-4981-9935-a61799991e4d",
   "metadata": {},
   "source": [
    "\n"
   ]
  },
  {
   "cell_type": "code",
   "execution_count": null,
   "id": "887cec89-936c-43e8-af87-490d09c9afc0",
   "metadata": {},
   "outputs": [],
   "source": []
  }
 ],
 "metadata": {
  "kernelspec": {
   "display_name": "Python 3 (ipykernel)",
   "language": "python",
   "name": "python3"
  },
  "language_info": {
   "codemirror_mode": {
    "name": "ipython",
    "version": 3
   },
   "file_extension": ".py",
   "mimetype": "text/x-python",
   "name": "python",
   "nbconvert_exporter": "python",
   "pygments_lexer": "ipython3",
   "version": "3.11.5"
  }
 },
 "nbformat": 4,
 "nbformat_minor": 5
}

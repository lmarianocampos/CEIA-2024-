{
 "cells": [
  {
   "cell_type": "code",
   "execution_count": 22,
   "id": "ae42b5cdc085ad0f",
   "metadata": {
    "ExecuteTime": {
     "end_time": "2024-04-11T15:52:16.120115Z",
     "start_time": "2024-04-11T15:52:15.893237Z"
    },
    "collapsed": false,
    "jupyter": {
     "outputs_hidden": false
    },
    "tags": []
   },
   "outputs": [],
   "source": [
    "import pandas as pd\n",
    "import numpy as np\n",
    "import matplotlib.pyplot as plt\n",
    "import seaborn as sns\n",
    "\n",
    "from sklearn.model_selection import train_test_split\n",
    "from sklearn.preprocessing import MinMaxScaler\n",
    "\n",
    "# Scikit-learn nos ofrece una variedad ampliada de modelos Naive Bayes, para este problema usamos MultinomialNB que es pensado para este tipo de problemas\n",
    "from sklearn.naive_bayes import MultinomialNB   \n",
    "\n",
    "from sklearn.linear_model import LogisticRegression\n",
    "\n",
    "from sklearn.metrics import accuracy_score, precision_score, recall_score, confusion_matrix, ConfusionMatrixDisplay, classification_report"
   ]
  },
  {
   "cell_type": "markdown",
   "id": "fadd4f97a897731c",
   "metadata": {
    "jupyter": {
     "outputs_hidden": false
    }
   },
   "source": [
    "# TP3: Detector de SPAM\n",
    "\n",
    "Uno de los problemas más comunes en la clasificación es la detección de correos electrónicos SPAM. Uno de los primeros modelos utilizados para abordar este problema fue el clasificador de Bayes ingenuo. La detección de SPAM es un problema persistente en el mundo digital, ya que los spammers continúan adaptando sus estrategias para eludir los filtros de correo no deseado. Además del clasificador de Bayes ingenuo, se han desarrollado y utilizado una variedad de técnicas más avanzadas en la detección de SPAM, que incluyen algoritmos de aprendizaje automático, redes neuronales y métodos basados en reglas.\n",
    "\n",
    "En este trabajo práctico, utilizaremos un conjunto de datos que consta de 4601 observaciones de correos electrónicos, de los cuales 2788 son correos legítimos y 1813 son correos SPAM. Dado que el contenido de los correos electrónicos es un tipo de dato no estructurado, es necesario procesarlo de alguna manera. Para este conjunto de datos, ya se ha aplicado un procesamiento típico en el Procesamiento del Lenguaje Natural (NLP), que consiste en contar la frecuencia de palabras observadas en los correos.\n",
    "\n",
    "El procesamiento de lenguaje natural (NLP) desempeña un papel fundamental en la detección de SPAM, ya que permite analizar el contenido de los correos electrónicos y extraer características relevantes para la clasificación. Además de contar la frecuencia de palabras, se pueden utilizar técnicas más sofisticadas, como la extracción de características semánticas y el análisis de sentimientos, para mejorar la precisión de los modelos de detección de SPAM.\n",
    "\n",
    "En este proceso, se cuenta la cantidad de ocurrencias de cada palabra en los diferentes correos.\n",
    "\n",
    "![spam counter](./spam.png)\n",
    "\n",
    "Con el fin de preservar la privacidad de los mensajes, la frecuencia de palabras se encuentra normalizada. El conjunto de datos está compuesto por 54 columnas de atributos que se denominan:\n",
    "\n",
    "- `word_freq_XXXX`: Donde `XXXX` es la palabra o símbolo. Los valores son enteros que van de 0 a 20k.\n",
    "\n",
    "Además, hay una columna adicional llamada `spam`, que es 1 si el correo es SPAM o 0 si no lo es.\n",
    "\n",
    "Los clasificadores de Bayes ingenuos fueron los primeros filtros utilizados por las aplicaciones de correo electrónico, basados en este principio de palabras. La idea es que, partiendo de un dato a priori sobre la probabilidad de que un correo sea SPAM o no, ciertas palabras nos indicarán que la probabilidad a posteriori, dadas esas palabras, es más probable que el correo sea SPAM o no."
   ]
  },
  {
   "cell_type": "code",
   "execution_count": 23,
   "id": "initial_id",
   "metadata": {
    "ExecuteTime": {
     "end_time": "2024-04-11T15:52:16.143226Z",
     "start_time": "2024-04-11T15:52:16.120715Z"
    },
    "tags": []
   },
   "outputs": [
    {
     "name": "stdout",
     "output_type": "stream",
     "text": [
      "   word_freq_make  word_freq_address  word_freq_all  word_freq_3d  \\\n",
      "0            0.00               0.64           0.64           0.0   \n",
      "1            0.21               0.28           0.50           0.0   \n",
      "2            0.06               0.00           0.71           0.0   \n",
      "3            0.00               0.00           0.00           0.0   \n",
      "4            0.00               0.00           0.00           0.0   \n",
      "\n",
      "   word_freq_our  word_freq_over  word_freq_remove  word_freq_internet  \\\n",
      "0           0.32            0.00              0.00                0.00   \n",
      "1           0.14            0.28              0.21                0.07   \n",
      "2           1.23            0.19              0.19                0.12   \n",
      "3           0.63            0.00              0.31                0.63   \n",
      "4           0.63            0.00              0.31                0.63   \n",
      "\n",
      "   word_freq_order  word_freq_mail  ...  char_freq_;  char_freq_(  \\\n",
      "0             0.00            0.00  ...         0.00        0.000   \n",
      "1             0.00            0.94  ...         0.00        0.132   \n",
      "2             0.64            0.25  ...         0.01        0.143   \n",
      "3             0.31            0.63  ...         0.00        0.137   \n",
      "4             0.31            0.63  ...         0.00        0.135   \n",
      "\n",
      "   char_freq_[  char_freq_!  char_freq_$  char_freq_#  \\\n",
      "0          0.0        0.778        0.000        0.000   \n",
      "1          0.0        0.372        0.180        0.048   \n",
      "2          0.0        0.276        0.184        0.010   \n",
      "3          0.0        0.137        0.000        0.000   \n",
      "4          0.0        0.135        0.000        0.000   \n",
      "\n",
      "   capital_run_length_average  capital_run_length_longest  \\\n",
      "0                       3.756                          61   \n",
      "1                       5.114                         101   \n",
      "2                       9.821                         485   \n",
      "3                       3.537                          40   \n",
      "4                       3.537                          40   \n",
      "\n",
      "   capital_run_length_total  spam  \n",
      "0                       278     1  \n",
      "1                      1028     1  \n",
      "2                      2259     1  \n",
      "3                       191     1  \n",
      "4                       191     1  \n",
      "\n",
      "[5 rows x 58 columns]\n"
     ]
    }
   ],
   "source": [
    "dataset = pd.read_csv(\"dataset/spambase.csv\", header=None) # cargando los datos desde un CSV\n",
    "dataset.head(10)\n",
    "column_names = [\n",
    "    \"word_freq_make\", \"word_freq_address\", \"word_freq_all\", \"word_freq_3d\", \"word_freq_our\",\n",
    "    \"word_freq_over\", \"word_freq_remove\", \"word_freq_internet\", \"word_freq_order\", \"word_freq_mail\",\n",
    "    \"word_freq_receive\", \"word_freq_will\", \"word_freq_people\", \"word_freq_report\", \"word_freq_addresses\",\n",
    "    \"word_freq_free\", \"word_freq_business\", \"word_freq_email\", \"word_freq_you\", \"word_freq_credit\",\n",
    "    \"word_freq_your\", \"word_freq_font\", \"word_freq_000\", \"word_freq_money\", \"word_freq_hp\",\n",
    "    \"word_freq_hpl\", \"word_freq_george\", \"word_freq_650\", \"word_freq_lab\", \"word_freq_labs\",\n",
    "    \"word_freq_telnet\", \"word_freq_857\", \"word_freq_data\", \"word_freq_415\", \"word_freq_85\",\n",
    "    \"word_freq_technology\", \"word_freq_1999\", \"word_freq_parts\", \"word_freq_pm\", \"word_freq_direct\",\n",
    "    \"word_freq_cs\", \"word_freq_meeting\", \"word_freq_original\", \"word_freq_project\", \"word_freq_re\",\n",
    "    \"word_freq_edu\", \"word_freq_table\", \"word_freq_conference\",  # Estas son las primeras 48 (0-47)\n",
    "    \"char_freq_;\", \"char_freq_(\", \"char_freq_[\", \"char_freq_!\", \"char_freq_$\", \"char_freq_#\",  # (48-53)\n",
    "    \"capital_run_length_average\", \"capital_run_length_longest\", \"capital_run_length_total\", # (54-56)\n",
    "    \"spam\" # (57)\n",
    "]\n",
    "\n",
    "dataset.columns = column_names\n",
    "\n",
    "print(dataset.head())"
   ]
  },
  {
   "cell_type": "code",
   "execution_count": 24,
   "id": "a2704e9c-f918-44b2-b03b-7bbeb22e61d7",
   "metadata": {
    "tags": []
   },
   "outputs": [
    {
     "name": "stdout",
     "output_type": "stream",
     "text": [
      "Index(['word_freq_make', 'word_freq_address', 'word_freq_all', 'word_freq_3d',\n",
      "       'word_freq_our', 'word_freq_over', 'word_freq_remove',\n",
      "       'word_freq_internet', 'word_freq_order', 'word_freq_mail',\n",
      "       'word_freq_receive', 'word_freq_will', 'word_freq_people',\n",
      "       'word_freq_report', 'word_freq_addresses', 'word_freq_free',\n",
      "       'word_freq_business', 'word_freq_email', 'word_freq_you',\n",
      "       'word_freq_credit', 'word_freq_your', 'word_freq_font', 'word_freq_000',\n",
      "       'word_freq_money', 'word_freq_hp', 'word_freq_hpl', 'word_freq_george',\n",
      "       'word_freq_650', 'word_freq_lab', 'word_freq_labs', 'word_freq_telnet',\n",
      "       'word_freq_857', 'word_freq_data', 'word_freq_415', 'word_freq_85',\n",
      "       'word_freq_technology', 'word_freq_1999', 'word_freq_parts',\n",
      "       'word_freq_pm', 'word_freq_direct', 'word_freq_cs', 'word_freq_meeting',\n",
      "       'word_freq_original', 'word_freq_project', 'word_freq_re',\n",
      "       'word_freq_edu', 'word_freq_table', 'word_freq_conference',\n",
      "       'char_freq_;', 'char_freq_(', 'char_freq_[', 'char_freq_!',\n",
      "       'char_freq_$', 'char_freq_#', 'capital_run_length_average',\n",
      "       'capital_run_length_longest', 'capital_run_length_total', 'spam'],\n",
      "      dtype='object')\n"
     ]
    }
   ],
   "source": [
    "print(dataset.columns)\n",
    "\n"
   ]
  },
  {
   "cell_type": "markdown",
   "id": "fd5762c49a3369dc",
   "metadata": {
    "jupyter": {
     "outputs_hidden": false
    }
   },
   "source": [
    "Para obtener las palábras más usadas podemos hacer un `groupby`:"
   ]
  },
  {
   "cell_type": "code",
   "execution_count": 25,
   "id": "aa93f67db28da6ff",
   "metadata": {
    "ExecuteTime": {
     "end_time": "2024-04-11T15:52:16.147047Z",
     "start_time": "2024-04-11T15:52:16.143891Z"
    },
    "collapsed": false,
    "jupyter": {
     "outputs_hidden": false
    },
    "tags": []
   },
   "outputs": [
    {
     "name": "stdout",
     "output_type": "stream",
     "text": [
      "   spam  word_freq_make  word_freq_address  word_freq_all  word_freq_3d  \\\n",
      "0     0          204.86             681.57         559.22          2.47   \n",
      "1     1          276.19             298.51         732.08        298.55   \n",
      "\n",
      "   word_freq_our  word_freq_over  word_freq_remove  word_freq_internet  \\\n",
      "0         504.74          124.19             26.16              107.10   \n",
      "1         931.80          317.05            499.31              377.36   \n",
      "\n",
      "   word_freq_order  ...  word_freq_conference  char_freq_;  char_freq_(  \\\n",
      "0           106.08  ...                142.82      140.183      442.116   \n",
      "1           308.32  ...                  3.81       37.299      197.563   \n",
      "\n",
      "   char_freq_[  char_freq_!  char_freq_$  char_freq_#  \\\n",
      "0       63.242      306.634       32.476       60.536   \n",
      "1       14.864      931.361      316.329      143.004   \n",
      "\n",
      "   capital_run_length_average  capital_run_length_longest  \\\n",
      "0                    6627.915                       50782   \n",
      "1                   17258.246                      189265   \n",
      "\n",
      "   capital_run_length_total  \n",
      "0                    450181  \n",
      "1                    853233  \n",
      "\n",
      "[2 rows x 58 columns]\n"
     ]
    }
   ],
   "source": [
    "column_sum = dataset.groupby(by=\"spam\", as_index=False).sum()\n",
    "print(column_sum)"
   ]
  },
  {
   "cell_type": "markdown",
   "id": "efab4e7c21dd0461",
   "metadata": {
    "jupyter": {
     "outputs_hidden": false
    }
   },
   "source": [
    "Y despues se pueden combinar las columnas en usando [pd.melt](https://pandas.pydata.org/docs/reference/api/pandas.melt.html)"
   ]
  },
  {
   "cell_type": "code",
   "execution_count": 26,
   "id": "a05390e27958e98b",
   "metadata": {
    "ExecuteTime": {
     "end_time": "2024-04-11T15:52:16.150961Z",
     "start_time": "2024-04-11T15:52:16.147743Z"
    },
    "collapsed": false,
    "jupyter": {
     "outputs_hidden": false
    },
    "tags": []
   },
   "outputs": [
    {
     "name": "stdout",
     "output_type": "stream",
     "text": [
      "      word_freq_make  word_freq_address  word_freq_all  word_freq_3d  \\\n",
      "0                  0                 64             64             0   \n",
      "1                 21                 28             50             0   \n",
      "2                  6                  0             71             0   \n",
      "3                  0                  0              0             0   \n",
      "4                  0                  0              0             0   \n",
      "...              ...                ...            ...           ...   \n",
      "4596              31                  0             62             0   \n",
      "4597               0                  0              0             0   \n",
      "4598              30                  0             30             0   \n",
      "4599              96                  0              0             0   \n",
      "4600               0                  0             65             0   \n",
      "\n",
      "      word_freq_our  word_freq_over  word_freq_remove  word_freq_internet  \\\n",
      "0                32               0                 0                   0   \n",
      "1                14              28                21                   7   \n",
      "2               123              19                19                  12   \n",
      "3                63               0                31                  63   \n",
      "4                63               0                31                  63   \n",
      "...             ...             ...               ...                 ...   \n",
      "4596              0              31                 0                   0   \n",
      "4597              0               0                 0                   0   \n",
      "4598              0               0                 0                   0   \n",
      "4599             32               0                 0                   0   \n",
      "4600              0               0                 0                   0   \n",
      "\n",
      "      word_freq_order  word_freq_mail  ...  word_freq_conference  char_freq_;  \\\n",
      "0                   0               0  ...                     0            0   \n",
      "1                   0              94  ...                     0            0   \n",
      "2                  64              25  ...                     0            1   \n",
      "3                  31              63  ...                     0            0   \n",
      "4                  31              63  ...                     0            0   \n",
      "...               ...             ...  ...                   ...          ...   \n",
      "4596                0               0  ...                     0            0   \n",
      "4597                0               0  ...                     0            0   \n",
      "4598                0               0  ...                     0           10   \n",
      "4599                0               0  ...                     0            0   \n",
      "4600                0               0  ...                     0            0   \n",
      "\n",
      "      char_freq_(  char_freq_[  char_freq_!  char_freq_$  char_freq_#  \\\n",
      "0               0            0           77            0            0   \n",
      "1              13            0           37           18            4   \n",
      "2              14            0           27           18            1   \n",
      "3              13            0           13            0            0   \n",
      "4              13            0           13            0            0   \n",
      "...           ...          ...          ...          ...          ...   \n",
      "4596           23            0            0            0            0   \n",
      "4597            0            0           35            0            0   \n",
      "4598           71            0            0            0            0   \n",
      "4599            5            0            0            0            0   \n",
      "4600            0            0           12            0            0   \n",
      "\n",
      "      capital_run_length_average  capital_run_length_longest  \\\n",
      "0                            375                        6100   \n",
      "1                            511                       10100   \n",
      "2                            982                       48500   \n",
      "3                            353                        4000   \n",
      "4                            353                        4000   \n",
      "...                          ...                         ...   \n",
      "4596                         114                         300   \n",
      "4597                         155                         400   \n",
      "4598                         140                         600   \n",
      "4599                         114                         500   \n",
      "4600                         125                         500   \n",
      "\n",
      "      capital_run_length_total  \n",
      "0                        27800  \n",
      "1                       102800  \n",
      "2                       225900  \n",
      "3                        19100  \n",
      "4                        19100  \n",
      "...                        ...  \n",
      "4596                      8800  \n",
      "4597                      1400  \n",
      "4598                     11800  \n",
      "4599                      7800  \n",
      "4600                      4000  \n",
      "\n",
      "[4601 rows x 57 columns]\n",
      "0       1\n",
      "1       1\n",
      "2       1\n",
      "3       1\n",
      "4       1\n",
      "       ..\n",
      "4596    0\n",
      "4597    0\n",
      "4598    0\n",
      "4599    0\n",
      "4600    0\n",
      "Name: spam, Length: 4601, dtype: int64\n"
     ]
    }
   ],
   "source": [
    "# Obtenemos los atributos y target\n",
    "X = (dataset.drop(columns=\"spam\") * 100).astype(int)\n",
    "print (X)\n",
    "#X = dataset2.drop(columns=\"spam\")\n",
    "y = dataset[\"spam\"]\n",
    "print (y)"
   ]
  },
  {
   "cell_type": "markdown",
   "id": "686665f4a0ce53e5",
   "metadata": {
    "jupyter": {
     "outputs_hidden": false
    }
   },
   "source": [
    "Se separa el dataset en entrenamiento y evaluación"
   ]
  },
  {
   "cell_type": "code",
   "execution_count": 27,
   "id": "a05dd9a86a0270d1",
   "metadata": {
    "ExecuteTime": {
     "end_time": "2024-04-11T15:52:16.155862Z",
     "start_time": "2024-04-11T15:52:16.151805Z"
    },
    "collapsed": false,
    "jupyter": {
     "outputs_hidden": false
    },
    "tags": []
   },
   "outputs": [
    {
     "name": "stdout",
     "output_type": "stream",
     "text": [
      "X_train:\n",
      "      word_freq_make  word_freq_address  word_freq_all  word_freq_3d  \\\n",
      "2163               0                  0              0             0   \n",
      "1637               0                  0              0             0   \n",
      "2427              68                  0              0             0   \n",
      "1729               0                 28              0             0   \n",
      "4420               0                  0              0             0   \n",
      "...              ...                ...            ...           ...   \n",
      "149                0                  0             27             0   \n",
      "860               10                  0             41             0   \n",
      "2659               0                  0              0            15   \n",
      "1480              17                 17             25             0   \n",
      "3848               0                  0              0             0   \n",
      "\n",
      "      word_freq_our  word_freq_over  word_freq_remove  word_freq_internet  \\\n",
      "2163             31               0                31                   0   \n",
      "1637             12               0                 0                   0   \n",
      "2427              0               0                 0                   0   \n",
      "1729            140               0                28                  28   \n",
      "4420              0               0                 0                   0   \n",
      "...             ...             ...               ...                 ...   \n",
      "149              81              81                 0                 298   \n",
      "860              10              10                10                  52   \n",
      "2659             46               0                 0                  15   \n",
      "1480             43               8                 8                   8   \n",
      "3848              0               0                 0                   0   \n",
      "\n",
      "      word_freq_order  word_freq_mail  ...  word_freq_conference  char_freq_;  \\\n",
      "2163               31               0  ...                     0            0   \n",
      "1637                0               0  ...                     0            0   \n",
      "2427                0               0  ...                     0            0   \n",
      "1729                0              56  ...                     0            0   \n",
      "4420                0               0  ...                     0            0   \n",
      "...               ...             ...  ...                   ...          ...   \n",
      "149                54              81  ...                     0            0   \n",
      "860                10               0  ...                     0            0   \n",
      "2659                0               0  ...                     0            0   \n",
      "1480               69             241  ...                     0            0   \n",
      "3848                0               0  ...                     0            0   \n",
      "\n",
      "      char_freq_(  char_freq_[  char_freq_!  char_freq_$  char_freq_#  \\\n",
      "2163           25           10            0            0           25   \n",
      "1637           35            0            0            0            0   \n",
      "2427           33            0            0            0            0   \n",
      "1729           13            6            3            0            0   \n",
      "4420            0            0            0            0            0   \n",
      "...           ...          ...          ...          ...          ...   \n",
      "149             4            0           56           12            0   \n",
      "860             4            0            1            6            0   \n",
      "2659            8            0            0            0            0   \n",
      "1480           10            0           30            6            2   \n",
      "3848            0            0            0            0            0   \n",
      "\n",
      "      capital_run_length_average  capital_run_length_longest  \\\n",
      "2163                         354                        4600   \n",
      "1637                         233                        4100   \n",
      "2427                         112                         200   \n",
      "1729                         563                       11400   \n",
      "4420                         168                         500   \n",
      "...                          ...                         ...   \n",
      "149                          161                        1800   \n",
      "860                          191                        2900   \n",
      "2659                         153                         600   \n",
      "1480                         421                        8200   \n",
      "3848                         186                         600   \n",
      "\n",
      "      capital_run_length_total  \n",
      "2163                     25900  \n",
      "1637                     50500  \n",
      "2427                      1800  \n",
      "1729                     60300  \n",
      "4420                      6400  \n",
      "...                        ...  \n",
      "149                      13100  \n",
      "860                      33900  \n",
      "2659                     23800  \n",
      "1480                    121400  \n",
      "3848                      2800  \n",
      "\n",
      "[3220 rows x 57 columns]\n",
      "y_train:\n",
      "2163    0\n",
      "1637    1\n",
      "2427    0\n",
      "1729    1\n",
      "4420    0\n",
      "       ..\n",
      "149     1\n",
      "860     1\n",
      "2659    0\n",
      "1480    1\n",
      "3848    0\n",
      "Name: spam, Length: 3220, dtype: int64\n",
      "X_test:\n",
      "      word_freq_make  word_freq_address  word_freq_all  word_freq_3d  \\\n",
      "2421              31                 31             94             0   \n",
      "1844               0                  0             54             0   \n",
      "1631               0                  0              0             0   \n",
      "3715               0                  0              0             0   \n",
      "147                0                 28             72             0   \n",
      "...              ...                ...            ...           ...   \n",
      "1474              35                 10             55             0   \n",
      "3403               0                  0              0             0   \n",
      "3630               0                  0              0             0   \n",
      "3242               0                  0              0             0   \n",
      "1662              14                 18             79             0   \n",
      "\n",
      "      word_freq_our  word_freq_over  word_freq_remove  word_freq_internet  \\\n",
      "2421              0              62                 0                   0   \n",
      "1844              0               0                 0                   0   \n",
      "1631              0               0                 0                   0   \n",
      "3715              0              47                 0                   0   \n",
      "147              28               0                14                   0   \n",
      "...             ...             ...               ...                 ...   \n",
      "1474            215              15                 0                   0   \n",
      "3403              0               0                 0                   0   \n",
      "3630              0               0                 0                   0   \n",
      "3242              0               0                 0                   0   \n",
      "1662              4              14                18                  28   \n",
      "\n",
      "      word_freq_order  word_freq_mail  ...  word_freq_conference  char_freq_;  \\\n",
      "2421                0               0  ...                     0            0   \n",
      "1844                0               0  ...                     0            0   \n",
      "1631                0               0  ...                     0            0   \n",
      "3715                0              23  ...                     0           11   \n",
      "147                 0              43  ...                     0            0   \n",
      "...               ...             ...  ...                   ...          ...   \n",
      "1474               10              75  ...                     0            0   \n",
      "3403                0               0  ...                     0            0   \n",
      "3630                0               0  ...                     0            0   \n",
      "3242                0               0  ...                     0            0   \n",
      "1662               28              84  ...                     0            0   \n",
      "\n",
      "      char_freq_(  char_freq_[  char_freq_!  char_freq_$  char_freq_#  \\\n",
      "2421            0            0            9            0            0   \n",
      "1844           18            4            0            0            0   \n",
      "1631            0            0           69           93            0   \n",
      "3715           15           11            0            0            0   \n",
      "147             0            0           86            2            4   \n",
      "...           ...          ...          ...          ...          ...   \n",
      "1474            3            0           14           13            0   \n",
      "3403            0            0            0            0            0   \n",
      "3630            0            0            0            0            0   \n",
      "3242          123            0            0            0            0   \n",
      "1662           10            0           52           10            6   \n",
      "\n",
      "      capital_run_length_average  capital_run_length_longest  \\\n",
      "2421                         236                        4500   \n",
      "1844                         174                        1200   \n",
      "1631                         508                        3900   \n",
      "3715                         256                        1900   \n",
      "147                          513                       13200   \n",
      "...                          ...                         ...   \n",
      "1474                         362                       12700   \n",
      "3403                         100                         100   \n",
      "3630                         100                         100   \n",
      "3242                         216                         500   \n",
      "1662                         575                       11600   \n",
      "\n",
      "      capital_run_length_total  \n",
      "2421                     18000  \n",
      "1844                      8900  \n",
      "1631                     12200  \n",
      "3715                     29500  \n",
      "147                     100100  \n",
      "...                        ...  \n",
      "1474                     61700  \n",
      "3403                       500  \n",
      "3630                       500  \n",
      "3242                      1300  \n",
      "1662                    206200  \n",
      "\n",
      "[1381 rows x 57 columns]\n",
      "y_test:\n",
      "2421    0\n",
      "1844    0\n",
      "1631    1\n",
      "3715    0\n",
      "147     1\n",
      "       ..\n",
      "1474    1\n",
      "3403    0\n",
      "3630    0\n",
      "3242    0\n",
      "1662    1\n",
      "Name: spam, Length: 1381, dtype: int64\n"
     ]
    }
   ],
   "source": [
    "X_train, X_test, y_train, y_test= train_test_split(X, y, test_size = 0.3)\n",
    "print(\"X_train:\")\n",
    "print(X_train)\n",
    "print(\"y_train:\")\n",
    "print(y_train)\n",
    "\n",
    "print(\"X_test:\")\n",
    "print(X_test)\n",
    "print(\"y_test:\")\n",
    "print(y_test)"
   ]
  },
  {
   "cell_type": "markdown",
   "id": "4deca5d28cadd43b",
   "metadata": {
    "jupyter": {
     "outputs_hidden": false
    }
   },
   "source": [
    "Escalamos para aplicar en regresión logística"
   ]
  },
  {
   "cell_type": "code",
   "execution_count": 28,
   "id": "712e38ef8afee400",
   "metadata": {
    "ExecuteTime": {
     "end_time": "2024-04-11T15:52:16.162957Z",
     "start_time": "2024-04-11T15:52:16.156768Z"
    },
    "collapsed": false,
    "jupyter": {
     "outputs_hidden": false
    },
    "tags": []
   },
   "outputs": [],
   "source": [
    "scaler = MinMaxScaler()\n",
    "X_train_scaled = scaler.fit_transform(X_train)\n",
    "X_test_scaled = scaler.transform(X_test)\n",
    "\n",
    "# Lo transformamos en DataFrames\n",
    "X_train_scaled = pd.DataFrame(X_train_scaled, columns=X.columns)\n",
    "X_test_scaled = pd.DataFrame(X_test_scaled, columns=X.columns)"
   ]
  },
  {
   "cell_type": "markdown",
   "id": "c904db8b-461b-4c26-b6fe-4c501d009d76",
   "metadata": {},
   "source": [
    "### las top 10 palabras en spam:"
   ]
  },
  {
   "cell_type": "code",
   "execution_count": 29,
   "id": "76a9e6364b4d74b",
   "metadata": {
    "ExecuteTime": {
     "end_time": "2024-04-11T15:52:16.168004Z",
     "start_time": "2024-04-11T15:52:16.164460Z"
    },
    "collapsed": false,
    "jupyter": {
     "outputs_hidden": false
    },
    "tags": []
   },
   "outputs": [
    {
     "name": "stdout",
     "output_type": "stream",
     "text": [
      "Top 10 palabras en SPAM:\n",
      "capital_run_length_total      853233.000\n",
      "capital_run_length_longest    189265.000\n",
      "capital_run_length_average     17258.246\n",
      "word_freq_you                   4105.610\n",
      "word_freq_your                  2502.610\n",
      "word_freq_will                   997.100\n",
      "word_freq_free                   939.790\n",
      "word_freq_our                    931.800\n",
      "char_freq_!                      931.361\n",
      "word_freq_all                    732.080\n",
      "Name: 1, dtype: float64\n"
     ]
    },
    {
     "data": {
      "text/plain": [
       "'\\n# Ordenamos por el valor de la frecuencia total\\ntop10_spam_words = spam_sum_t[0].sort_values(ascending=False).head(10)\\n\\n'"
      ]
     },
     "execution_count": 29,
     "metadata": {},
     "output_type": "execute_result"
    }
   ],
   "source": [
    "# Filtramos la fila de spam=1 y quitamos la columna 'spam'\n",
    "spam_sum = column_sum[column_sum[\"spam\"] == 1].drop(columns=\"spam\")\n",
    "#print(spam_sum)\n",
    "\n",
    "# Trasponemos para tener las columnas como filas y poder ordenar\n",
    "spam_sum_t = spam_sum.T\n",
    "#Sprint(spam_sum_t.columns)\n",
    "top10_spam_words = spam_sum_t.iloc[:, 0].sort_values(ascending=False).head(10)\n",
    "print(\"Top 10 palabras en SPAM:\")\n",
    "print(top10_spam_words)\n",
    "\"\"\"\n",
    "# Ordenamos por el valor de la frecuencia total\n",
    "top10_spam_words = spam_sum_t[0].sort_values(ascending=False).head(10)\n",
    "\n",
    "\"\"\""
   ]
  },
  {
   "cell_type": "code",
   "execution_count": 30,
   "id": "71eb7489-cc8e-4163-a29c-58af7a1dff1f",
   "metadata": {
    "tags": []
   },
   "outputs": [],
   "source": [
    "### las top 10 palabras en spam"
   ]
  },
  {
   "cell_type": "code",
   "execution_count": 31,
   "id": "54d7efa0-07be-4858-9148-81324b1f64f9",
   "metadata": {
    "tags": []
   },
   "outputs": [
    {
     "name": "stdout",
     "output_type": "stream",
     "text": [
      "Top 10 palabras en NO SPAM:\n",
      "capital_run_length_total      450181.000\n",
      "capital_run_length_longest     50782.000\n",
      "capital_run_length_average      6627.915\n",
      "word_freq_you                   3541.710\n",
      "word_freq_george                3527.560\n",
      "word_freq_hp                    2496.580\n",
      "word_freq_will                  1495.270\n",
      "word_freq_your                  1223.100\n",
      "word_freq_hpl                   1204.400\n",
      "word_freq_re                    1159.140\n",
      "Name: 0, dtype: float64\n"
     ]
    }
   ],
   "source": [
    "nonspam_sum = column_sum[column_sum[\"spam\"] == 0].drop(columns=\"spam\")\n",
    "nonspam_sum_t = nonspam_sum.T\n",
    "top10_nonspam_words = nonspam_sum_t[0].sort_values(ascending=False).head(10)\n",
    "print(\"Top 10 palabras en NO SPAM:\")\n",
    "print(top10_nonspam_words)\n"
   ]
  },
  {
   "cell_type": "markdown",
   "id": "bf622a1c-20b8-491b-a470-e2461aa2f38b",
   "metadata": {},
   "source": [
    "## Conclusión"
   ]
  },
  {
   "cell_type": "markdown",
   "id": "b9d13585-0da7-4306-849c-9eff0564f562",
   "metadata": {},
   "source": [
    "### Análisis de las 10 palabras más frecuentes en SPAM y NO SPAM\n",
    "\n",
    "#### 1. **Presencia destacada de características relacionadas con el uso de mayúsculas (`capital_run_length_*`):**\n",
    "- Las variables `capital_run_length_total`, `capital_run_length_longest` y `capital_run_length_average` aparecen en el **top 10** de ambas clases (SPAM y NO SPAM).\n",
    "- Esto sugiere que la **distribución y magnitud de caracteres en mayúsculas** es relevante en el conjunto de datos, independientemente de si el correo es SPAM o NO SPAM.\n",
    "- Sin embargo, por sí solas estas características no son suficientes para diferenciar claramente entre SPAM y NO SPAM.\n",
    "\n",
    "#### 2. **Palabras comunes en ambas categorías:**\n",
    "- Palabras como **\"you\"** y **\"your\"** aparecen en el **top 10** de ambas clases.\n",
    "- Esto indica que ciertos términos son de **uso generalizado** en correos electrónicos, tanto legítimos como no legítimos.\n",
    "- La mera presencia de estas palabras no permite diferenciar claramente entre SPAM y NO SPAM.\n",
    "\n",
    "#### 3. **Palabras más asociadas a SPAM:**\n",
    "- En la lista de SPAM destacan términos como **\"free\"** y un alto uso del carácter **`!`** (`char_freq_!`).\n",
    "- Esto refleja que los correos SPAM suelen contener **ofertas gratuitas** o frases llamativas que utilizan signos de exclamación.\n",
    "\n",
    "#### 4. **Palabras más asociadas a NO SPAM:**\n",
    "- En la lista de NO SPAM aparecen términos como **\"george\"**, **\"hp\"**, y **\"hpl\"**.\n",
    "- Estas palabras sugieren **contextos personales, técnicos o laborales**, propios de correos legítimos y menos frecuentes en correos SPAM.\n",
    "\n",
    "#### 5. **Conclusión global:**\n",
    "- Las métricas relacionadas con **mayúsculas** son fuertes en ambos casos, pero no son completamente discriminantes.\n",
    "- Palabras comunes como **\"you\"** y **\"your\"** no son útiles como atributos por sí solas.\n",
    "- Palabras como **\"free\"** y el uso del carácter **`!`** son indicativos más fuertes de SPAM.\n",
    "- Los correos NO SPAM tienden a incluir términos **contextuales o personales** como nombres propios o términos técnicos.\n",
    "\n",
    "En definitiva, la detección de SPAM no se basa únicamente en la presencia de una o dos palabras, sino en **patrones combinados** que incluyen vocabulario específico, uso de puntuación y otras métricas relacionadas con el texto.\n",
    "\n"
   ]
  },
  {
   "cell_type": "markdown",
   "id": "158f640e-212f-4690-88fe-f5a20b82fe8f",
   "metadata": {},
   "source": [
    "# Punto 3"
   ]
  },
  {
   "cell_type": "code",
   "execution_count": 32,
   "id": "07a3584a-4449-473a-97de-db3a52eb18ce",
   "metadata": {
    "tags": []
   },
   "outputs": [
    {
     "data": {
      "text/html": [
       "<style>#sk-container-id-3 {color: black;}#sk-container-id-3 pre{padding: 0;}#sk-container-id-3 div.sk-toggleable {background-color: white;}#sk-container-id-3 label.sk-toggleable__label {cursor: pointer;display: block;width: 100%;margin-bottom: 0;padding: 0.3em;box-sizing: border-box;text-align: center;}#sk-container-id-3 label.sk-toggleable__label-arrow:before {content: \"▸\";float: left;margin-right: 0.25em;color: #696969;}#sk-container-id-3 label.sk-toggleable__label-arrow:hover:before {color: black;}#sk-container-id-3 div.sk-estimator:hover label.sk-toggleable__label-arrow:before {color: black;}#sk-container-id-3 div.sk-toggleable__content {max-height: 0;max-width: 0;overflow: hidden;text-align: left;background-color: #f0f8ff;}#sk-container-id-3 div.sk-toggleable__content pre {margin: 0.2em;color: black;border-radius: 0.25em;background-color: #f0f8ff;}#sk-container-id-3 input.sk-toggleable__control:checked~div.sk-toggleable__content {max-height: 200px;max-width: 100%;overflow: auto;}#sk-container-id-3 input.sk-toggleable__control:checked~label.sk-toggleable__label-arrow:before {content: \"▾\";}#sk-container-id-3 div.sk-estimator input.sk-toggleable__control:checked~label.sk-toggleable__label {background-color: #d4ebff;}#sk-container-id-3 div.sk-label input.sk-toggleable__control:checked~label.sk-toggleable__label {background-color: #d4ebff;}#sk-container-id-3 input.sk-hidden--visually {border: 0;clip: rect(1px 1px 1px 1px);clip: rect(1px, 1px, 1px, 1px);height: 1px;margin: -1px;overflow: hidden;padding: 0;position: absolute;width: 1px;}#sk-container-id-3 div.sk-estimator {font-family: monospace;background-color: #f0f8ff;border: 1px dotted black;border-radius: 0.25em;box-sizing: border-box;margin-bottom: 0.5em;}#sk-container-id-3 div.sk-estimator:hover {background-color: #d4ebff;}#sk-container-id-3 div.sk-parallel-item::after {content: \"\";width: 100%;border-bottom: 1px solid gray;flex-grow: 1;}#sk-container-id-3 div.sk-label:hover label.sk-toggleable__label {background-color: #d4ebff;}#sk-container-id-3 div.sk-serial::before {content: \"\";position: absolute;border-left: 1px solid gray;box-sizing: border-box;top: 0;bottom: 0;left: 50%;z-index: 0;}#sk-container-id-3 div.sk-serial {display: flex;flex-direction: column;align-items: center;background-color: white;padding-right: 0.2em;padding-left: 0.2em;position: relative;}#sk-container-id-3 div.sk-item {position: relative;z-index: 1;}#sk-container-id-3 div.sk-parallel {display: flex;align-items: stretch;justify-content: center;background-color: white;position: relative;}#sk-container-id-3 div.sk-item::before, #sk-container-id-3 div.sk-parallel-item::before {content: \"\";position: absolute;border-left: 1px solid gray;box-sizing: border-box;top: 0;bottom: 0;left: 50%;z-index: -1;}#sk-container-id-3 div.sk-parallel-item {display: flex;flex-direction: column;z-index: 1;position: relative;background-color: white;}#sk-container-id-3 div.sk-parallel-item:first-child::after {align-self: flex-end;width: 50%;}#sk-container-id-3 div.sk-parallel-item:last-child::after {align-self: flex-start;width: 50%;}#sk-container-id-3 div.sk-parallel-item:only-child::after {width: 0;}#sk-container-id-3 div.sk-dashed-wrapped {border: 1px dashed gray;margin: 0 0.4em 0.5em 0.4em;box-sizing: border-box;padding-bottom: 0.4em;background-color: white;}#sk-container-id-3 div.sk-label label {font-family: monospace;font-weight: bold;display: inline-block;line-height: 1.2em;}#sk-container-id-3 div.sk-label-container {text-align: center;}#sk-container-id-3 div.sk-container {/* jupyter's `normalize.less` sets `[hidden] { display: none; }` but bootstrap.min.css set `[hidden] { display: none !important; }` so we also need the `!important` here to be able to override the default hidden behavior on the sphinx rendered scikit-learn.org. See: https://github.com/scikit-learn/scikit-learn/issues/21755 */display: inline-block !important;position: relative;}#sk-container-id-3 div.sk-text-repr-fallback {display: none;}</style><div id=\"sk-container-id-3\" class=\"sk-top-container\"><div class=\"sk-text-repr-fallback\"><pre>MultinomialNB()</pre><b>In a Jupyter environment, please rerun this cell to show the HTML representation or trust the notebook. <br />On GitHub, the HTML representation is unable to render, please try loading this page with nbviewer.org.</b></div><div class=\"sk-container\" hidden><div class=\"sk-item\"><div class=\"sk-estimator sk-toggleable\"><input class=\"sk-toggleable__control sk-hidden--visually\" id=\"sk-estimator-id-3\" type=\"checkbox\" checked><label for=\"sk-estimator-id-3\" class=\"sk-toggleable__label sk-toggleable__label-arrow\">MultinomialNB</label><div class=\"sk-toggleable__content\"><pre>MultinomialNB()</pre></div></div></div></div></div>"
      ],
      "text/plain": [
       "MultinomialNB()"
      ]
     },
     "execution_count": 32,
     "metadata": {},
     "output_type": "execute_result"
    }
   ],
   "source": [
    "# Creamos el clasificador\n",
    "nb_clf = MultinomialNB()\n",
    "\n",
    "# Entrenamos el modelo con los datos de entrenamiento\n",
    "nb_clf.fit(X_train, y_train)\n"
   ]
  },
  {
   "cell_type": "markdown",
   "id": "08b3343b-1b31-4f5b-a36b-3981757ef912",
   "metadata": {},
   "source": [
    "Luego de las lienas anteriores el modelo aprendió qué palabras son más comunes en SPAM y cuáles en NO SPAM.\n",
    "Ha calculado las probabilidades necesarias para, cuando vea un nuevo correo (por ejemplo, uno en X_test), predecir si es SPAM o NO SPAM."
   ]
  },
  {
   "cell_type": "code",
   "execution_count": 33,
   "id": "832f60a0-d7f7-488e-95ec-91107885d666",
   "metadata": {
    "tags": []
   },
   "outputs": [
    {
     "name": "stdout",
     "output_type": "stream",
     "text": [
      "Clases del modelo: [0 1]\n"
     ]
    }
   ],
   "source": [
    "# Imprimir las clases que el modelo diferencia\n",
    "print(\"Clases del modelo:\", nb_clf.classes_)"
   ]
  },
  {
   "cell_type": "code",
   "execution_count": 34,
   "id": "6873b3ef-be39-43ea-bd73-bcf42d4e09f9",
   "metadata": {
    "tags": []
   },
   "outputs": [
    {
     "name": "stdout",
     "output_type": "stream",
     "text": [
      "Conteo de ejemplos por clase: [1973. 1247.]\n"
     ]
    }
   ],
   "source": [
    "# Cantidad de instancias de entrenamiento que corresponden a cada clase\n",
    "print(\"Conteo de ejemplos por clase:\", nb_clf.class_count_)"
   ]
  },
  {
   "cell_type": "code",
   "execution_count": 35,
   "id": "479586bf-f874-403b-af20-c3e01002b8b8",
   "metadata": {
    "tags": []
   },
   "outputs": [
    {
     "name": "stdout",
     "output_type": "stream",
     "text": [
      "Conteo de características por clase (feature_count_):\n",
      "[[1.543400e+04 4.874600e+04 3.786300e+04 2.470000e+02 3.777400e+04\n",
      "  8.802000e+03 1.835000e+03 6.884000e+03 7.842000e+03 3.340300e+04\n",
      "  4.726000e+03 1.096470e+05 1.227200e+04 7.847000e+03 1.757000e+03\n",
      "  1.481800e+04 9.241000e+03 1.850300e+04 2.494910e+05 1.520000e+03\n",
      "  8.731600e+04 9.847000e+03 1.291000e+03 4.078000e+03 1.724430e+05\n",
      "  8.258800e+04 2.558110e+05 3.745600e+04 3.456200e+04 3.321100e+04\n",
      "  2.229500e+04 1.637600e+04 3.009100e+04 1.650900e+04 3.495900e+04\n",
      "  2.847700e+04 4.032000e+04 3.931000e+03 2.529000e+04 1.643300e+04\n",
      "  1.544100e+04 4.417900e+04 1.508900e+04 2.596300e+04 7.983900e+04\n",
      "  5.731400e+04 1.993000e+03 9.085000e+03 1.023700e+04 3.169800e+04\n",
      "  4.427000e+03 1.894200e+04 2.349000e+03 3.934000e+03 4.747930e+05\n",
      "  3.627400e+06 3.155390e+07]\n",
      " [1.943200e+04 2.074000e+04 5.069700e+04 1.505700e+04 6.298100e+04\n",
      "  2.259300e+04 3.566400e+04 2.527100e+04 2.134800e+04 4.354900e+04\n",
      "  1.478000e+04 6.858200e+04 1.712400e+04 9.856000e+03 1.564200e+04\n",
      "  6.556100e+04 3.332100e+04 4.093900e+04 2.865930e+05 2.399400e+04\n",
      "  1.689340e+05 2.992900e+04 3.332300e+04 2.463100e+04 2.191000e+03\n",
      "  1.270000e+03 9.700000e+01 2.286000e+03 1.110000e+02 1.048000e+03\n",
      "  1.360000e+02 9.400000e+01 1.767000e+03 2.480000e+02 6.560000e+02\n",
      "  3.742000e+03 4.677000e+03 4.980000e+02 1.712000e+03 4.706000e+03\n",
      "  1.000000e+01 2.840000e+02 1.028000e+03 6.970000e+02 1.543100e+04\n",
      "  2.093000e+03 1.040000e+02 3.110000e+02 2.656000e+03 1.368600e+04\n",
      "  9.800000e+02 6.495900e+04 2.278100e+04 1.118900e+04 1.222421e+06\n",
      "  1.329020e+07 5.815820e+07]]\n"
     ]
    }
   ],
   "source": [
    "# Suma de frecuencias de cada característica (palabra) en cada clase\n",
    "# Esta matriz tiene dimensiones [n_clases, n_features]\n",
    "# Muestra cuántas veces aparece cada palabra en la clase spam y en la clase no spam (tras el smoothing aplicado)\n",
    "print(\"Conteo de características por clase (feature_count_):\")\n",
    "print(nb_clf.feature_count_)"
   ]
  },
  {
   "cell_type": "code",
   "execution_count": 36,
   "id": "904c2e3d-5c10-4e62-a604-a099107d8276",
   "metadata": {
    "tags": []
   },
   "outputs": [
    {
     "name": "stdout",
     "output_type": "stream",
     "text": [
      "Log-Probabilidades a priori de cada clase (class_log_prior_):\n",
      "[-0.48982613 -0.94864069]\n"
     ]
    }
   ],
   "source": [
    "# Logaritmo de la probabilidad a priori de cada clase\n",
    "print(\"Log-Probabilidades a priori de cada clase (class_log_prior_):\")\n",
    "print(nb_clf.class_log_prior_)"
   ]
  },
  {
   "cell_type": "code",
   "execution_count": 37,
   "id": "b9702ba6-bb2c-47c9-a013-b5562bff78b7",
   "metadata": {
    "tags": []
   },
   "outputs": [
    {
     "name": "stdout",
     "output_type": "stream",
     "text": [
      "Log-Probabilidades de las características dado cada clase (feature_log_prob_):\n",
      "[[ -7.79701936  -6.64701336  -6.89965623 -11.92798355  -6.90200951\n",
      "   -8.35856445  -9.92606773  -8.60431189  -8.47403561  -7.02498137\n",
      "   -8.98036627  -5.83638179  -8.02625529  -8.4733983   -9.96948022\n",
      "   -7.83774688  -8.30989871  -7.6156701   -5.01423017 -10.11428901\n",
      "   -6.06411185  -8.24638863 -10.27746561  -9.12780516  -5.38358447\n",
      "   -6.11978052  -4.98921422  -6.91046341  -6.99087327  -7.03074576\n",
      "   -7.42924973  -7.73777911  -7.12939766  -7.72969076  -6.97945247\n",
      "   -7.18452516  -6.83678459  -9.16450882  -7.30320842  -7.73430466\n",
      "   -7.79656595  -6.74538482  -7.81962475  -7.27694606  -6.15363239\n",
      "   -6.48509465  -9.84351435  -8.32692225  -8.20755073  -7.07737189\n",
      "   -9.04570901  -7.59222255  -9.67924169  -9.16374614  -4.37077599\n",
      "   -2.33738533  -0.17420451]\n",
      " [ -8.24461617  -8.1794764   -7.28570236  -8.49967941  -7.06873985\n",
      "   -8.09390443  -7.637419    -7.98189175  -8.15058392  -7.43767912\n",
      "   -8.51824625  -6.98354413  -8.37104943  -8.92340696  -8.46156529\n",
      "   -7.02859256  -7.70537098  -7.49948124  -5.55352224  -8.03374334\n",
      "   -6.08207479  -7.8127275   -7.70531096  -8.00754241 -10.42677445\n",
      "  -10.97178483 -13.53437662 -10.3843479  -13.40084523 -11.16375149\n",
      "  -13.19936317 -13.56546721 -10.64173985 -12.6018912  -11.63166008\n",
      "   -9.89170139  -9.66871815 -11.906738   -10.6733426   -9.66253806\n",
      "  -15.72144882 -12.46685492 -11.18300136 -11.57112499  -8.47514554\n",
      "  -10.47251271 -13.46538375 -12.37634091 -10.23439115  -8.59514234\n",
      "  -11.23077164  -7.03781712  -8.08561807  -8.7965683   -4.1029994\n",
      "   -1.71680654  -0.24066664]]\n"
     ]
    }
   ],
   "source": [
    "# Logaritmo de la probabilidad de cada característica dado cada clase\n",
    "# Tiene dimensiones [n_clases, n_features].\n",
    "# Por ejemplo, feature_log_prob_[0, :] muestra el log de P(palabra|NoSpam)\n",
    "# y feature_log_prob_[1, :] el log de P(palabra|Spam).\n",
    "print(\"Log-Probabilidades de las características dado cada clase (feature_log_prob_):\")\n",
    "print(nb_clf.feature_log_prob_)"
   ]
  },
  {
   "cell_type": "code",
   "execution_count": 38,
   "id": "66f46def-3b9c-41cc-b977-62c9243f2882",
   "metadata": {
    "tags": []
   },
   "outputs": [
    {
     "name": "stdout",
     "output_type": "stream",
     "text": [
      "Número total de características: 57\n"
     ]
    }
   ],
   "source": [
    "# Opcionalmente, puedes obtener el número de características\n",
    "n_features = nb_clf.feature_count_.shape[1]\n",
    "print(\"Número total de características:\", n_features)"
   ]
  },
  {
   "cell_type": "markdown",
   "id": "299e484d-86d1-4be2-b27b-cef222288c00",
   "metadata": {},
   "source": [
    "# Punto 4"
   ]
  },
  {
   "cell_type": "code",
   "execution_count": 39,
   "id": "89b7e65d-dd76-44ff-a655-9e36367254c2",
   "metadata": {
    "tags": []
   },
   "outputs": [
    {
     "data": {
      "text/html": [
       "<style>#sk-container-id-4 {color: black;}#sk-container-id-4 pre{padding: 0;}#sk-container-id-4 div.sk-toggleable {background-color: white;}#sk-container-id-4 label.sk-toggleable__label {cursor: pointer;display: block;width: 100%;margin-bottom: 0;padding: 0.3em;box-sizing: border-box;text-align: center;}#sk-container-id-4 label.sk-toggleable__label-arrow:before {content: \"▸\";float: left;margin-right: 0.25em;color: #696969;}#sk-container-id-4 label.sk-toggleable__label-arrow:hover:before {color: black;}#sk-container-id-4 div.sk-estimator:hover label.sk-toggleable__label-arrow:before {color: black;}#sk-container-id-4 div.sk-toggleable__content {max-height: 0;max-width: 0;overflow: hidden;text-align: left;background-color: #f0f8ff;}#sk-container-id-4 div.sk-toggleable__content pre {margin: 0.2em;color: black;border-radius: 0.25em;background-color: #f0f8ff;}#sk-container-id-4 input.sk-toggleable__control:checked~div.sk-toggleable__content {max-height: 200px;max-width: 100%;overflow: auto;}#sk-container-id-4 input.sk-toggleable__control:checked~label.sk-toggleable__label-arrow:before {content: \"▾\";}#sk-container-id-4 div.sk-estimator input.sk-toggleable__control:checked~label.sk-toggleable__label {background-color: #d4ebff;}#sk-container-id-4 div.sk-label input.sk-toggleable__control:checked~label.sk-toggleable__label {background-color: #d4ebff;}#sk-container-id-4 input.sk-hidden--visually {border: 0;clip: rect(1px 1px 1px 1px);clip: rect(1px, 1px, 1px, 1px);height: 1px;margin: -1px;overflow: hidden;padding: 0;position: absolute;width: 1px;}#sk-container-id-4 div.sk-estimator {font-family: monospace;background-color: #f0f8ff;border: 1px dotted black;border-radius: 0.25em;box-sizing: border-box;margin-bottom: 0.5em;}#sk-container-id-4 div.sk-estimator:hover {background-color: #d4ebff;}#sk-container-id-4 div.sk-parallel-item::after {content: \"\";width: 100%;border-bottom: 1px solid gray;flex-grow: 1;}#sk-container-id-4 div.sk-label:hover label.sk-toggleable__label {background-color: #d4ebff;}#sk-container-id-4 div.sk-serial::before {content: \"\";position: absolute;border-left: 1px solid gray;box-sizing: border-box;top: 0;bottom: 0;left: 50%;z-index: 0;}#sk-container-id-4 div.sk-serial {display: flex;flex-direction: column;align-items: center;background-color: white;padding-right: 0.2em;padding-left: 0.2em;position: relative;}#sk-container-id-4 div.sk-item {position: relative;z-index: 1;}#sk-container-id-4 div.sk-parallel {display: flex;align-items: stretch;justify-content: center;background-color: white;position: relative;}#sk-container-id-4 div.sk-item::before, #sk-container-id-4 div.sk-parallel-item::before {content: \"\";position: absolute;border-left: 1px solid gray;box-sizing: border-box;top: 0;bottom: 0;left: 50%;z-index: -1;}#sk-container-id-4 div.sk-parallel-item {display: flex;flex-direction: column;z-index: 1;position: relative;background-color: white;}#sk-container-id-4 div.sk-parallel-item:first-child::after {align-self: flex-end;width: 50%;}#sk-container-id-4 div.sk-parallel-item:last-child::after {align-self: flex-start;width: 50%;}#sk-container-id-4 div.sk-parallel-item:only-child::after {width: 0;}#sk-container-id-4 div.sk-dashed-wrapped {border: 1px dashed gray;margin: 0 0.4em 0.5em 0.4em;box-sizing: border-box;padding-bottom: 0.4em;background-color: white;}#sk-container-id-4 div.sk-label label {font-family: monospace;font-weight: bold;display: inline-block;line-height: 1.2em;}#sk-container-id-4 div.sk-label-container {text-align: center;}#sk-container-id-4 div.sk-container {/* jupyter's `normalize.less` sets `[hidden] { display: none; }` but bootstrap.min.css set `[hidden] { display: none !important; }` so we also need the `!important` here to be able to override the default hidden behavior on the sphinx rendered scikit-learn.org. See: https://github.com/scikit-learn/scikit-learn/issues/21755 */display: inline-block !important;position: relative;}#sk-container-id-4 div.sk-text-repr-fallback {display: none;}</style><div id=\"sk-container-id-4\" class=\"sk-top-container\"><div class=\"sk-text-repr-fallback\"><pre>LogisticRegression(max_iter=1000, random_state=42)</pre><b>In a Jupyter environment, please rerun this cell to show the HTML representation or trust the notebook. <br />On GitHub, the HTML representation is unable to render, please try loading this page with nbviewer.org.</b></div><div class=\"sk-container\" hidden><div class=\"sk-item\"><div class=\"sk-estimator sk-toggleable\"><input class=\"sk-toggleable__control sk-hidden--visually\" id=\"sk-estimator-id-4\" type=\"checkbox\" checked><label for=\"sk-estimator-id-4\" class=\"sk-toggleable__label sk-toggleable__label-arrow\">LogisticRegression</label><div class=\"sk-toggleable__content\"><pre>LogisticRegression(max_iter=1000, random_state=42)</pre></div></div></div></div></div>"
      ],
      "text/plain": [
       "LogisticRegression(max_iter=1000, random_state=42)"
      ]
     },
     "execution_count": 39,
     "metadata": {},
     "output_type": "execute_result"
    }
   ],
   "source": [
    "logreg = LogisticRegression(max_iter=1000, random_state=42)\n",
    "logreg.fit(X_train_scaled, y_train)"
   ]
  },
  {
   "cell_type": "markdown",
   "id": "409974ed-7763-415c-a53e-8b13a6a179a6",
   "metadata": {},
   "source": [
    "# Punto 5\n",
    "### Evalúo el modelo de regresión logística "
   ]
  },
  {
   "cell_type": "code",
   "execution_count": 43,
   "id": "946a0bd3-879a-464a-8378-81a94faad961",
   "metadata": {
    "tags": []
   },
   "outputs": [],
   "source": [
    "y_pred_logreg = logreg.predict(X_test_scaled)"
   ]
  },
  {
   "cell_type": "code",
   "execution_count": 44,
   "id": "6abc6ede-87a7-4f38-b861-f67f30bc44f4",
   "metadata": {
    "tags": []
   },
   "outputs": [
    {
     "name": "stdout",
     "output_type": "stream",
     "text": [
      "Exactitud (Accuracy): 0.8964518464880521\n",
      "Precisión (Precision): 0.9204771371769384\n",
      "Recuperación (Recall): 0.8180212014134276\n",
      "\n",
      "Reporte de Clasificación:\n",
      "              precision    recall  f1-score   support\n",
      "\n",
      "           0       0.88      0.95      0.92       815\n",
      "           1       0.92      0.82      0.87       566\n",
      "\n",
      "    accuracy                           0.90      1381\n",
      "   macro avg       0.90      0.88      0.89      1381\n",
      "weighted avg       0.90      0.90      0.90      1381\n",
      "\n"
     ]
    }
   ],
   "source": [
    "accuracy = accuracy_score(y_test, y_pred_logreg)\n",
    "precision = precision_score(y_test, y_pred_logreg)\n",
    "recall = recall_score(y_test, y_pred_logreg)\n",
    "\n",
    "print(\"Exactitud (Accuracy):\", accuracy)\n",
    "print(\"Precisión (Precision):\", precision)\n",
    "print(\"Recuperación (Recall):\", recall)\n",
    "print(\"\\nReporte de Clasificación:\")\n",
    "print(classification_report(y_test, y_pred_logreg))"
   ]
  },
  {
   "cell_type": "markdown",
   "id": "a66f475b-da5c-4edc-a462-aa3884efd505",
   "metadata": {},
   "source": [
    "### Evaluando el modelo de classificador de Bayes Ingenuo"
   ]
  },
  {
   "cell_type": "code",
   "execution_count": 45,
   "id": "5011f3ba-7a76-4d69-a626-13cf66572f1d",
   "metadata": {
    "tags": []
   },
   "outputs": [
    {
     "name": "stdout",
     "output_type": "stream",
     "text": [
      "Accuracy: 0.7834902244750181\n",
      "Precision: 0.7476808905380334\n",
      "Recall: 0.7120141342756183\n",
      "\n",
      "Reporte de clasificación:\n",
      "              precision    recall  f1-score   support\n",
      "\n",
      "           0       0.81      0.83      0.82       815\n",
      "           1       0.75      0.71      0.73       566\n",
      "\n",
      "    accuracy                           0.78      1381\n",
      "   macro avg       0.78      0.77      0.77      1381\n",
      "weighted avg       0.78      0.78      0.78      1381\n",
      "\n"
     ]
    }
   ],
   "source": [
    "# Realizar las predicciones sobre el conjunto de prueba\n",
    "y_pred_nb = nb_clf.predict(X_test)\n",
    "\n",
    "# Calcular métricas de evaluación\n",
    "accuracy = accuracy_score(y_test, y_pred_nb)\n",
    "precision = precision_score(y_test, y_pred_nb, average='binary')\n",
    "recall = recall_score(y_test, y_pred_nb, average='binary')\n",
    "\n",
    "print(\"Accuracy:\", accuracy)\n",
    "print(\"Precision:\", precision)\n",
    "print(\"Recall:\", recall)\n",
    "\n",
    "# También podemos obtener un reporte de clasificación más completo\n",
    "print(\"\\nReporte de clasificación:\")\n",
    "print(classification_report(y_test, y_pred_nb))"
   ]
  },
  {
   "cell_type": "code",
   "execution_count": 46,
   "id": "fba51cca-0f5f-439c-a786-cb93098984c8",
   "metadata": {
    "tags": []
   },
   "outputs": [
    {
     "data": {
      "image/png": "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",
      "text/plain": [
       "<Figure size 640x480 with 2 Axes>"
      ]
     },
     "metadata": {},
     "output_type": "display_data"
    },
    {
     "data": {
      "image/png": "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",
      "text/plain": [
       "<Figure size 640x480 with 2 Axes>"
      ]
     },
     "metadata": {},
     "output_type": "display_data"
    }
   ],
   "source": [
    "# Para Naive Bayes\n",
    "y_pred_nb = nb_clf.predict(X_test)  # Reemplazar X_test por X_test_scaled si fue escalado para LR\n",
    "cm_nb = confusion_matrix(y_test, y_pred_nb)\n",
    "disp_nb = ConfusionMatrixDisplay(confusion_matrix=cm_nb, display_labels=[\"No Spam\", \"Spam\"])\n",
    "disp_nb.plot()\n",
    "plt.title(\"Matriz de Confusión - Naive Bayes\")\n",
    "plt.show()\n",
    "\n",
    "# Para Regresión Logística\n",
    "y_pred_logreg = logreg.predict(X_test_scaled) # Asumiendo que se escaló para LR\n",
    "cm_logreg = confusion_matrix(y_test, y_pred_logreg)\n",
    "disp_logreg = ConfusionMatrixDisplay(confusion_matrix=cm_logreg, display_labels=[\"No Spam\", \"Spam\"])\n",
    "disp_logreg.plot()\n",
    "plt.title(\"Matriz de Confusión - Regresión Logística\")\n",
    "plt.show()"
   ]
  },
  {
   "cell_type": "markdown",
   "id": "40fa9410-2b72-4a54-8640-321bd6eb5c3f",
   "metadata": {},
   "source": [
    "### Análisis de la Matriz de Confusión y Tipos de Error\n",
    "\n",
    "**Matriz de Confusión Naive Bayes:**\n",
    "- True Negative (TN): 679\n",
    "- False Positive (FP): 136\n",
    "- False Negative (FN): 163\n",
    "- True Positive (TP): 403\n",
    "\n",
    "**Matriz de Confusión Regresión Logística:**\n",
    "- True Negative (TN): 775\n",
    "- False Positive (FP): 40\n",
    "- False Negative (FN): 103\n",
    "- True Positive (TP): 463\n",
    "\n",
    "---\n",
    "\n",
    "**¿Qué tipo de error es más frecuente en cada modelo?**\n",
    "\n",
    "- **Naive Bayes:** Presenta un mayor número de ambos tipos de errores. Tiene 136 FP (correos legítimos marcados como spam) y 163 FN (correos spam detectados como legítimos). Esto significa que Naive Bayes no solo deja pasar spam a la bandeja de entrada, sino que también corre el riesgo de filtrar correos legítimos como spam.\n",
    "\n",
    "- **Regresión Logística:** Comete menos errores en general. Tiene solo 40 FP y 103 FN. Aunque todavía deja pasar spam (FN), lo hace con menos frecuencia que Naive Bayes, y filtra muchos menos correos legítimos por error (FP muy reducido).\n",
    "\n",
    "---\n",
    "\n",
    "**¿Cuál es el tipo de error más importante en este problema?**\n",
    "\n",
    "En el contexto del filtrado de correo, un **Falso Positivo (FP)** es generalmente más crítico, ya que implica la posibilidad de perder correos legítimos, potencialmente importantes, al ser marcados como spam. Los **Falsos Negativos (FN)**, aunque incómodos, suelen considerarse menos graves, pues el usuario únicamente sufre la molestia de tener spam en su bandeja de entrada.\n",
    "\n",
    "Dado esto, es preferible un modelo que minimice los FP, ya que es mejor recibir algo de spam que perder información legítima. En este sentido, la Regresión Logística es claramente superior, pues reduce significativamente el número de FP en comparación con Naive Bayes.\n"
   ]
  },
  {
   "cell_type": "markdown",
   "id": "509b4884-7aa1-46f1-8282-1a640b8174ea",
   "metadata": {},
   "source": [
    "# Punto 6"
   ]
  },
  {
   "cell_type": "markdown",
   "id": "f8475b9e-2baf-4c46-8006-ea9c0b992a28",
   "metadata": {},
   "source": [
    "### Cálculo de Precisión y Recall para Ambos Modelos\n",
    "\n",
    "**Matriz de Confusión Recordatorio:**\n",
    "\n",
    "- **Naive Bayes**  \n",
    "  - TP = 403  \n",
    "  - FP = 136  \n",
    "  - FN = 163  \n",
    "  - TN = 679\n",
    "\n",
    "- **Regresión Logística**  \n",
    "  - TP = 463  \n",
    "  - FP = 40  \n",
    "  - FN = 103  \n",
    "  - TN = 775\n",
    "\n",
    "---\n",
    "\n",
    "**Fórmulas:**\n",
    "\n",
    "- **Precisión (Precision)**:  \n",
    "  $$\n",
    "  \\text{Precisión} = \\frac{TP}{TP + FP}\n",
    "  $$\n",
    "\n",
    "- **Recuperación (Recall)**:  \n",
    "  $$\n",
    "  \\text{Recall} = \\frac{TP}{TP + FN}\n",
    "  $$\n",
    "\n",
    "---\n",
    "\n",
    "**Cálculos:**\n",
    "\n",
    "- **Naive Bayes**:\n",
    "  - Precisión:  \n",
    "    $$\n",
    "    \\frac{403}{403 + 136} = \\frac{403}{539} \\approx 0.7477\n",
    "    $$\n",
    "  - Recall:  \n",
    "    $$\n",
    "    \\frac{403}{403 + 163} = \\frac{403}{566} \\approx 0.7122\n",
    "    $$\n",
    "\n",
    "- **Regresión Logística**:\n",
    "  - Precisión:  \n",
    "    $$\n",
    "    \\frac{463}{463 + 40} = \\frac{463}{503} \\approx 0.9207\n",
    "    $$\n",
    "  - Recall:  \n",
    "    $$\n",
    "    \\frac{463}{463 + 103} = \\frac{463}{566} \\approx 0.8175\n",
    "    $$\n",
    "\n",
    "---\n",
    "\n",
    "**Conclusión sobre las Métricas:**\n",
    "\n",
    "- **Precisión**:  \n",
    "  La Regresión Logística (0.9207) supera a Naive Bayes (0.7477). Esto indica que el modelo de Regresión Logística comete muchos menos falsos positivos en relación con sus verdaderos positivos. Cuando el modelo indica que un correo es Spam, casi siempre acierta.\n",
    "\n",
    "- **Recall**:  \n",
    "  La Regresión Logística (0.8175) supera a Naive Bayes (0.7122). Esto significa que la Regresión Logística detecta una mayor proporción de correos Spam que Naive Bayes, dejando pasar menos Spam a la bandeja de entrada.\n",
    "\n",
    "---\n",
    "\n",
    "**Relación con los Tipos de Errores (FP y FN):**\n",
    "\n",
    "- La **precisión** está relacionada con los Falsos Positivos (FP). Un modelo con alta precisión tiene pocos FP. Dado que la Regresión Logística tuvo menos FP que Naive Bayes, esto se ve reflejado en su mayor precisión.\n",
    "\n",
    "- El **recall** está relacionado con los Falsos Negativos (FN). Un modelo con mayor recall comete menos FN. Como la Regresión Logística tuvo menos FN que Naive Bayes, su recall es más alto.\n",
    "\n",
    "Dado que Regresión Logística es mejor en ambas métricas (menor FP y menor FN), es el modelo que mejor equilibra las necesidades de un filtro de Spam, minimizando la pérdida de correos legítimos (bajos FP) y maximizando la detección de Spam (bajos FN).\n"
   ]
  },
  {
   "cell_type": "markdown",
   "id": "e1e741f6-4e6c-4785-b019-0a25731e7828",
   "metadata": {},
   "source": [
    "# Punto 7"
   ]
  },
  {
   "cell_type": "code",
   "execution_count": 47,
   "id": "cce8f507-8a6f-459d-b881-aba67550965c",
   "metadata": {
    "tags": []
   },
   "outputs": [],
   "source": [
    "y_prob_nb = nb_clf.predict_proba(X_test)[:, 1]\n",
    "y_prob_logreg = logreg.predict_proba(X_test_scaled)[:, 1]\n"
   ]
  },
  {
   "cell_type": "code",
   "execution_count": 50,
   "id": "77a1dd38-0341-406a-b427-121ccd8a9ed3",
   "metadata": {
    "tags": []
   },
   "outputs": [],
   "source": [
    "\n",
    "\n",
    "# Curva ROC para Naive Bayes\n",
    "fpr_nb, tpr_nb, thresholds_nb = roc_curve(y_test, y_prob_nb)\n",
    "auc_nb = roc_auc_score(y_test, y_prob_nb)\n",
    "\n",
    "# Curva ROC para Regresión Logística\n",
    "fpr_logreg, tpr_logreg, thresholds_logreg = roc_curve(y_test, y_prob_logreg)\n",
    "auc_logreg = roc_auc_score(y_test, y_prob_logreg)\n"
   ]
  },
  {
   "cell_type": "code",
   "execution_count": 51,
   "id": "7336814f-c41a-4ae7-84f6-b50bb2620130",
   "metadata": {
    "tags": []
   },
   "outputs": [
    {
     "data": {
      "image/png": "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",
      "text/plain": [
       "<Figure size 800x600 with 1 Axes>"
      ]
     },
     "metadata": {},
     "output_type": "display_data"
    }
   ],
   "source": [
    "\n",
    "\n",
    "plt.figure(figsize=(8,6))\n",
    "plt.plot(fpr_nb, tpr_nb, label=f'Naive Bayes (AUC = {auc_nb:.2f})')\n",
    "plt.plot(fpr_logreg, tpr_logreg, label=f'Regresión Logística (AUC = {auc_logreg:.2f})')\n",
    "plt.plot([0, 1], [0, 1], 'k--', label='Azar (AUC = 0.5)')\n",
    "\n",
    "plt.xlabel('Tasa de Falsos Positivos (FPR)')\n",
    "plt.ylabel('Tasa de Verdaderos Positivos (TPR)')\n",
    "plt.title('Curvas ROC')\n",
    "plt.legend(loc='lower right')\n",
    "plt.show()\n"
   ]
  },
  {
   "cell_type": "markdown",
<<<<<<< HEAD
   "id": "4333c9e1-7382-4c8f-bd3f-f1fe7f552199",
   "metadata": {},
   "source": [
    "# Para hacer un Push\n"
=======
   "id": "ce00431a-24a5-4b02-b914-b36dc7eee988",
   "metadata": {},
   "source": [
    "# Modificacuiónopara hacer un git\n"
>>>>>>> 971678f2322a3b17753e393e36b8203939826846
   ]
  },
  {
   "cell_type": "code",
   "execution_count": null,
<<<<<<< HEAD
   "id": "dd3415a7-deea-47ed-9bf7-837b932483e0",
=======
   "id": "b50c53e7-7c5b-49ac-9601-3ae428024b1c",
>>>>>>> 971678f2322a3b17753e393e36b8203939826846
   "metadata": {},
   "outputs": [],
   "source": []
  }
 ],
 "metadata": {
  "kernelspec": {
   "display_name": "Python 3 (ipykernel)",
   "language": "python",
   "name": "python3"
  },
  "language_info": {
   "codemirror_mode": {
    "name": "ipython",
    "version": 3
   },
   "file_extension": ".py",
   "mimetype": "text/x-python",
   "name": "python",
   "nbconvert_exporter": "python",
   "pygments_lexer": "ipython3",
   "version": "3.11.5"
  }
 },
 "nbformat": 4,
 "nbformat_minor": 5
}
